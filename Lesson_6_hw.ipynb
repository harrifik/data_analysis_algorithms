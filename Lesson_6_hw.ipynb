{
 "cells": [
  {
   "cell_type": "markdown",
   "metadata": {
    "id": "41AitfhKbsha"
   },
   "source": [
    "# Урок 6. Градиентный бустинг. AdaBoost"
   ]
  },
  {
   "cell_type": "markdown",
   "metadata": {},
   "source": [
    "**План занятия**\n",
    "\n",
    "* [Теоретическая часть](#theory)\n",
    "    * [Градиентный бустинг (GBM)](#gbm)\n",
    "        * [Алгоритм построения модели градиентного бустинга](#alg)\n",
    "        * [Реализация алгоритма градиентного бустинга](#implement)\n",
    "    * [AdaBoost](#ada)\n",
    "        * [Алгоритм AdaBoost](#alg_ada)\n",
    "        * [Реализация алгоритма AdaBoost](#implement_ada)\n",
    "* [Домашнее задание](#hw)"
   ]
  },
  {
   "cell_type": "markdown",
   "metadata": {},
   "source": [
    "## <center>Теоретическая часть<a class=\"anchor\" id=\"theory\"></a><center>"
   ]
  },
  {
   "cell_type": "markdown",
   "metadata": {
    "id": "MOGOQj2gbshe"
   },
   "source": [
    "В этом уроке мы продолжаем тему ансамблей алгоритмов, рассматривая еще один их вид - _градиентный бустинг_. "
   ]
  },
  {
   "cell_type": "markdown",
   "metadata": {
    "id": "NTW1uqTSbshf"
   },
   "source": [
    "Вспоминая тему предыдущего урока, случайные леса, напомним, что случайный лес - это ансамбль деревьев небольшой глубины, строящихся независимо друг от друга. В независимости построения деревьев кроется и **плюс и минус алгоритма**: с одной стороны, построение деревьев можно **распараллеливать** и, например, организовывать на разных ядрах процессора, с другой стороны, следствием их независимости является тот факт, что для решения сложных задач требуется очень **большое количество деревьев**. В этих случаях случаях (при большой выборке или большом количестве признаков) обучение случайного леса может требовать очень много ресурсов, а если для ограничения их потребления слишком ограничивать глубину деревьев, они могут не уловить все закономерности в данных и иметь большой сдвиг (и, следовательно, ошибку)."
   ]
  },
  {
   "cell_type": "markdown",
   "metadata": {
    "id": "1y67OFwjbshg"
   },
   "source": [
    "**Бустинг** является своеобразным решением этой проблемы: он заключается в **последовательном** построении ансамбля, когда деревья строятся одно за другим, и при этом каждое следующее дерево строится таким образом, чтобы исправлять ошибки уже построенного на данный момент ансамбля. При таком подходе базовые алгоритмы могут быть достаточно простыми, то есть можно использовать неглубокие деревья."
   ]
  },
  {
   "cell_type": "markdown",
   "metadata": {},
   "source": [
    "<img src='images/boosting.png'>"
   ]
  },
  {
   "cell_type": "markdown",
   "metadata": {
    "id": "WrgYbxN2bshh"
   },
   "source": [
    "## Градиентный бустинг (GBM)<a class='anchor' id='gbm'>\n",
    "[Видео](https://youtu.be/sDv4f4s2SB8) с подробным объяснением алгоритма"
   ]
  },
  {
   "cell_type": "markdown",
   "metadata": {},
   "source": [
    "**Продемонстрируем работу бустинга**"
   ]
  },
  {
   "cell_type": "code",
   "execution_count": 1,
   "metadata": {},
   "outputs": [
    {
     "ename": "TypeError",
     "evalue": "load_diabetes() got an unexpected keyword argument 'as_frame'",
     "output_type": "error",
     "traceback": [
      "\u001b[1;31m---------------------------------------------------------------------------\u001b[0m",
      "\u001b[1;31mTypeError\u001b[0m                                 Traceback (most recent call last)",
      "\u001b[1;32m<ipython-input-1-69dd3bd5b37f>\u001b[0m in \u001b[0;36m<module>\u001b[1;34m\u001b[0m\n\u001b[0;32m      4\u001b[0m \u001b[1;33m\u001b[0m\u001b[0m\n\u001b[0;32m      5\u001b[0m \u001b[1;33m\u001b[0m\u001b[0m\n\u001b[1;32m----> 6\u001b[1;33m \u001b[0mX\u001b[0m\u001b[1;33m,\u001b[0m \u001b[0my\u001b[0m \u001b[1;33m=\u001b[0m \u001b[0mload_diabetes\u001b[0m\u001b[1;33m(\u001b[0m\u001b[0mreturn_X_y\u001b[0m\u001b[1;33m=\u001b[0m\u001b[1;32mTrue\u001b[0m\u001b[1;33m,\u001b[0m \u001b[0mas_frame\u001b[0m\u001b[1;33m=\u001b[0m\u001b[1;32mTrue\u001b[0m\u001b[1;33m)\u001b[0m\u001b[1;33m\u001b[0m\u001b[1;33m\u001b[0m\u001b[0m\n\u001b[0m\u001b[0;32m      7\u001b[0m \u001b[0mX\u001b[0m\u001b[1;33m\u001b[0m\u001b[1;33m\u001b[0m\u001b[0m\n",
      "\u001b[1;31mTypeError\u001b[0m: load_diabetes() got an unexpected keyword argument 'as_frame'"
     ]
    }
   ],
   "source": [
    "from sklearn.datasets import load_diabetes\n",
    "from sklearn.tree import DecisionTreeRegressor\n",
    "from sklearn.metrics import r2_score\n",
    "\n",
    "\n",
    "X, y = load_diabetes(return_X_y=True, as_frame=True)\n",
    "X"
   ]
  },
  {
   "cell_type": "code",
   "execution_count": null,
   "metadata": {},
   "outputs": [],
   "source": [
    "y"
   ]
  },
  {
   "cell_type": "code",
   "execution_count": 2,
   "metadata": {},
   "outputs": [
    {
     "ename": "NameError",
     "evalue": "name 'X' is not defined",
     "output_type": "error",
     "traceback": [
      "\u001b[1;31m---------------------------------------------------------------------------\u001b[0m",
      "\u001b[1;31mNameError\u001b[0m                                 Traceback (most recent call last)",
      "\u001b[1;32m<ipython-input-2-f4432f8830f4>\u001b[0m in \u001b[0;36m<module>\u001b[1;34m\u001b[0m\n\u001b[0;32m      2\u001b[0m tree1 = DecisionTreeRegressor(max_depth=3,\n\u001b[0;32m      3\u001b[0m                               random_state=2)\n\u001b[1;32m----> 4\u001b[1;33m \u001b[0mtree1\u001b[0m\u001b[1;33m.\u001b[0m\u001b[0mfit\u001b[0m\u001b[1;33m(\u001b[0m\u001b[0mX\u001b[0m\u001b[1;33m,\u001b[0m \u001b[0my\u001b[0m\u001b[1;33m)\u001b[0m\u001b[1;33m\u001b[0m\u001b[1;33m\u001b[0m\u001b[0m\n\u001b[0m\u001b[0;32m      5\u001b[0m \u001b[1;33m\u001b[0m\u001b[0m\n\u001b[0;32m      6\u001b[0m \u001b[0mprediction1\u001b[0m \u001b[1;33m=\u001b[0m \u001b[0mtree1\u001b[0m\u001b[1;33m.\u001b[0m\u001b[0mpredict\u001b[0m\u001b[1;33m(\u001b[0m\u001b[0mX\u001b[0m\u001b[1;33m)\u001b[0m\u001b[1;33m\u001b[0m\u001b[1;33m\u001b[0m\u001b[0m\n",
      "\u001b[1;31mNameError\u001b[0m: name 'X' is not defined"
     ]
    }
   ],
   "source": [
    "# Обучаем первое дерево\n",
    "tree1 = DecisionTreeRegressor(max_depth=3,\n",
    "                              random_state=2)\n",
    "tree1.fit(X, y)\n",
    "\n",
    "prediction1 = tree1.predict(X)\n",
    "print(f'R2 score {r2_score(y, prediction1)}')"
   ]
  },
  {
   "cell_type": "code",
   "execution_count": 3,
   "metadata": {},
   "outputs": [
    {
     "ename": "NameError",
     "evalue": "name 'y' is not defined",
     "output_type": "error",
     "traceback": [
      "\u001b[1;31m---------------------------------------------------------------------------\u001b[0m",
      "\u001b[1;31mNameError\u001b[0m                                 Traceback (most recent call last)",
      "\u001b[1;32m<ipython-input-3-37192d012549>\u001b[0m in \u001b[0;36m<module>\u001b[1;34m\u001b[0m\n\u001b[0;32m      1\u001b[0m \u001b[1;31m# Подсчитываем остатки\u001b[0m\u001b[1;33m\u001b[0m\u001b[1;33m\u001b[0m\u001b[1;33m\u001b[0m\u001b[0m\n\u001b[1;32m----> 2\u001b[1;33m \u001b[0mresidual1\u001b[0m \u001b[1;33m=\u001b[0m \u001b[0my\u001b[0m \u001b[1;33m-\u001b[0m \u001b[0mprediction1\u001b[0m\u001b[1;33m\u001b[0m\u001b[1;33m\u001b[0m\u001b[0m\n\u001b[0m\u001b[0;32m      3\u001b[0m \u001b[0my\u001b[0m\u001b[1;33m[\u001b[0m\u001b[1;36m2\u001b[0m\u001b[1;33m]\u001b[0m\u001b[1;33m,\u001b[0m \u001b[0mprediction1\u001b[0m\u001b[1;33m[\u001b[0m\u001b[1;36m2\u001b[0m\u001b[1;33m]\u001b[0m\u001b[1;33m,\u001b[0m \u001b[0mresidual1\u001b[0m\u001b[1;33m[\u001b[0m\u001b[1;36m2\u001b[0m\u001b[1;33m]\u001b[0m\u001b[1;33m\u001b[0m\u001b[1;33m\u001b[0m\u001b[0m\n",
      "\u001b[1;31mNameError\u001b[0m: name 'y' is not defined"
     ]
    }
   ],
   "source": [
    "# Подсчитываем остатки\n",
    "residual1 = y - prediction1\n",
    "y[2], prediction1[2], residual1[2]"
   ]
  },
  {
   "cell_type": "code",
   "execution_count": 4,
   "metadata": {},
   "outputs": [
    {
     "ename": "NameError",
     "evalue": "name 'X' is not defined",
     "output_type": "error",
     "traceback": [
      "\u001b[1;31m---------------------------------------------------------------------------\u001b[0m",
      "\u001b[1;31mNameError\u001b[0m                                 Traceback (most recent call last)",
      "\u001b[1;32m<ipython-input-4-c34ecaa7211a>\u001b[0m in \u001b[0;36m<module>\u001b[1;34m\u001b[0m\n\u001b[0;32m      3\u001b[0m                               random_state=2)\n\u001b[0;32m      4\u001b[0m \u001b[1;33m\u001b[0m\u001b[0m\n\u001b[1;32m----> 5\u001b[1;33m \u001b[0mtree2\u001b[0m\u001b[1;33m.\u001b[0m\u001b[0mfit\u001b[0m\u001b[1;33m(\u001b[0m\u001b[0mX\u001b[0m\u001b[1;33m,\u001b[0m \u001b[0mresidual1\u001b[0m\u001b[1;33m)\u001b[0m\u001b[1;33m\u001b[0m\u001b[1;33m\u001b[0m\u001b[0m\n\u001b[0m\u001b[0;32m      6\u001b[0m \u001b[1;33m\u001b[0m\u001b[0m\n\u001b[0;32m      7\u001b[0m \u001b[0mprediction2\u001b[0m \u001b[1;33m=\u001b[0m \u001b[0mtree1\u001b[0m\u001b[1;33m.\u001b[0m\u001b[0mpredict\u001b[0m\u001b[1;33m(\u001b[0m\u001b[0mX\u001b[0m\u001b[1;33m)\u001b[0m \u001b[1;33m+\u001b[0m \u001b[0mtree2\u001b[0m\u001b[1;33m.\u001b[0m\u001b[0mpredict\u001b[0m\u001b[1;33m(\u001b[0m\u001b[0mX\u001b[0m\u001b[1;33m)\u001b[0m\u001b[1;33m\u001b[0m\u001b[1;33m\u001b[0m\u001b[0m\n",
      "\u001b[1;31mNameError\u001b[0m: name 'X' is not defined"
     ]
    }
   ],
   "source": [
    "# Обучаем второе дерево на ошибках первого\n",
    "tree2 = DecisionTreeRegressor(max_depth=3,\n",
    "                              random_state=2)\n",
    "\n",
    "tree2.fit(X, residual1)\n",
    "\n",
    "prediction2 = tree1.predict(X) + tree2.predict(X)\n",
    "print(f'R2 score {r2_score(y, prediction2)}')"
   ]
  },
  {
   "cell_type": "code",
   "execution_count": 5,
   "metadata": {},
   "outputs": [
    {
     "ename": "NameError",
     "evalue": "name 'y' is not defined",
     "output_type": "error",
     "traceback": [
      "\u001b[1;31m---------------------------------------------------------------------------\u001b[0m",
      "\u001b[1;31mNameError\u001b[0m                                 Traceback (most recent call last)",
      "\u001b[1;32m<ipython-input-5-ceb0159b97d4>\u001b[0m in \u001b[0;36m<module>\u001b[1;34m\u001b[0m\n\u001b[0;32m      1\u001b[0m \u001b[1;31m# Подсчитываем остатки\u001b[0m\u001b[1;33m\u001b[0m\u001b[1;33m\u001b[0m\u001b[1;33m\u001b[0m\u001b[0m\n\u001b[1;32m----> 2\u001b[1;33m \u001b[0mresidual2\u001b[0m \u001b[1;33m=\u001b[0m \u001b[0my\u001b[0m \u001b[1;33m-\u001b[0m \u001b[0mprediction2\u001b[0m\u001b[1;33m\u001b[0m\u001b[1;33m\u001b[0m\u001b[0m\n\u001b[0m\u001b[0;32m      3\u001b[0m \u001b[0my\u001b[0m\u001b[1;33m[\u001b[0m\u001b[1;36m2\u001b[0m\u001b[1;33m]\u001b[0m\u001b[1;33m,\u001b[0m \u001b[0mprediction2\u001b[0m\u001b[1;33m[\u001b[0m\u001b[1;36m2\u001b[0m\u001b[1;33m]\u001b[0m\u001b[1;33m,\u001b[0m \u001b[0mresidual2\u001b[0m\u001b[1;33m[\u001b[0m\u001b[1;36m2\u001b[0m\u001b[1;33m]\u001b[0m\u001b[1;33m\u001b[0m\u001b[1;33m\u001b[0m\u001b[0m\n",
      "\u001b[1;31mNameError\u001b[0m: name 'y' is not defined"
     ]
    }
   ],
   "source": [
    "# Подсчитываем остатки\n",
    "residual2 = y - prediction2\n",
    "y[2], prediction2[2], residual2[2]"
   ]
  },
  {
   "cell_type": "code",
   "execution_count": 6,
   "metadata": {},
   "outputs": [
    {
     "ename": "NameError",
     "evalue": "name 'X' is not defined",
     "output_type": "error",
     "traceback": [
      "\u001b[1;31m---------------------------------------------------------------------------\u001b[0m",
      "\u001b[1;31mNameError\u001b[0m                                 Traceback (most recent call last)",
      "\u001b[1;32m<ipython-input-6-0c88a877b257>\u001b[0m in \u001b[0;36m<module>\u001b[1;34m\u001b[0m\n\u001b[0;32m      3\u001b[0m                               random_state=2)\n\u001b[0;32m      4\u001b[0m \u001b[1;33m\u001b[0m\u001b[0m\n\u001b[1;32m----> 5\u001b[1;33m \u001b[0mtree3\u001b[0m\u001b[1;33m.\u001b[0m\u001b[0mfit\u001b[0m\u001b[1;33m(\u001b[0m\u001b[0mX\u001b[0m\u001b[1;33m,\u001b[0m \u001b[0mresidual2\u001b[0m\u001b[1;33m)\u001b[0m\u001b[1;33m\u001b[0m\u001b[1;33m\u001b[0m\u001b[0m\n\u001b[0m\u001b[0;32m      6\u001b[0m \u001b[1;33m\u001b[0m\u001b[0m\n\u001b[0;32m      7\u001b[0m \u001b[0mprediction3\u001b[0m \u001b[1;33m=\u001b[0m \u001b[0mtree1\u001b[0m\u001b[1;33m.\u001b[0m\u001b[0mpredict\u001b[0m\u001b[1;33m(\u001b[0m\u001b[0mX\u001b[0m\u001b[1;33m)\u001b[0m \u001b[1;33m+\u001b[0m \u001b[0mtree2\u001b[0m\u001b[1;33m.\u001b[0m\u001b[0mpredict\u001b[0m\u001b[1;33m(\u001b[0m\u001b[0mX\u001b[0m\u001b[1;33m)\u001b[0m \u001b[1;33m+\u001b[0m \u001b[0mtree3\u001b[0m\u001b[1;33m.\u001b[0m\u001b[0mpredict\u001b[0m\u001b[1;33m(\u001b[0m\u001b[0mX\u001b[0m\u001b[1;33m)\u001b[0m\u001b[1;33m\u001b[0m\u001b[1;33m\u001b[0m\u001b[0m\n",
      "\u001b[1;31mNameError\u001b[0m: name 'X' is not defined"
     ]
    }
   ],
   "source": [
    "# Обучаем третье дерево на ошибках первого\n",
    "tree3 = DecisionTreeRegressor(max_depth=3,\n",
    "                              random_state=2)\n",
    "\n",
    "tree3.fit(X, residual2)\n",
    "\n",
    "prediction3 = tree1.predict(X) + tree2.predict(X) + tree3.predict(X)\n",
    "print(f'R2 score {r2_score(y, prediction3)}')"
   ]
  },
  {
   "cell_type": "code",
   "execution_count": 7,
   "metadata": {},
   "outputs": [
    {
     "ename": "NameError",
     "evalue": "name 'y' is not defined",
     "output_type": "error",
     "traceback": [
      "\u001b[1;31m---------------------------------------------------------------------------\u001b[0m",
      "\u001b[1;31mNameError\u001b[0m                                 Traceback (most recent call last)",
      "\u001b[1;32m<ipython-input-7-abc1b191f54d>\u001b[0m in \u001b[0;36m<module>\u001b[1;34m\u001b[0m\n\u001b[0;32m      1\u001b[0m \u001b[1;31m# Подсчитываем остатки\u001b[0m\u001b[1;33m\u001b[0m\u001b[1;33m\u001b[0m\u001b[1;33m\u001b[0m\u001b[0m\n\u001b[1;32m----> 2\u001b[1;33m \u001b[0mresidual3\u001b[0m \u001b[1;33m=\u001b[0m \u001b[0my\u001b[0m \u001b[1;33m-\u001b[0m \u001b[0mprediction3\u001b[0m\u001b[1;33m\u001b[0m\u001b[1;33m\u001b[0m\u001b[0m\n\u001b[0m\u001b[0;32m      3\u001b[0m \u001b[0my\u001b[0m\u001b[1;33m[\u001b[0m\u001b[1;36m2\u001b[0m\u001b[1;33m]\u001b[0m\u001b[1;33m,\u001b[0m \u001b[0mprediction3\u001b[0m\u001b[1;33m[\u001b[0m\u001b[1;36m2\u001b[0m\u001b[1;33m]\u001b[0m\u001b[1;33m,\u001b[0m \u001b[0mresidual3\u001b[0m\u001b[1;33m[\u001b[0m\u001b[1;36m2\u001b[0m\u001b[1;33m]\u001b[0m\u001b[1;33m\u001b[0m\u001b[1;33m\u001b[0m\u001b[0m\n",
      "\u001b[1;31mNameError\u001b[0m: name 'y' is not defined"
     ]
    }
   ],
   "source": [
    "# Подсчитываем остатки\n",
    "residual3 = y - prediction3\n",
    "y[2], prediction3[2], residual3[2]"
   ]
  },
  {
   "cell_type": "markdown",
   "metadata": {},
   "source": [
    "<img src='images/boosting_sum.png'>"
   ]
  },
  {
   "cell_type": "markdown",
   "metadata": {
    "id": "djO4wPtSbshr"
   },
   "source": [
    "**Алгоритм построения градиентного бустинга**\n",
    "1. Инициализация начального алгоритма $b_{0}(x)$\n",
    "\n",
    "2. Цикл по n = 1,2,3,...:\n",
    "\n",
    "    * Подсчитывание остатков $s = \\left ( \\left.-\\frac{\\partial L}{\\partial z} \\right|_{z = a_{n-1}(x_{1})},...,\\left.-\\frac{\\partial L}{\\partial z} \\right|_{z = a_{n-1}(x_{l})}\\right );$\n",
    "\n",
    "    * Обучение нового алгоритма $b_{n}(x) = \\underset{s}{\\text{argmin}}\\frac{1}{l}\\sum_{i=1}^{l}(b(x_{i})-s_{i})^{2};$\n",
    "    \n",
    "    * Добавление алгоритма в композицию $a_{n}(x) = a_{n-1}(x) + \\eta b_{n}(x).$"
   ]
  },
  {
   "cell_type": "markdown",
   "metadata": {
    "id": "76g2hO7kbshi"
   },
   "source": [
    "Итоговый алгоритм ищется в виде взвешенной суммы базовых алгоритмов (обратите внимание: не среднего, а суммы):\n",
    "\n",
    "$$a_{N}(x) = \\sum^{N}_{n=1}b_{n}(x).$$"
   ]
  },
  {
   "cell_type": "markdown",
   "metadata": {
    "id": "1hrsZoI9bshj"
   },
   "source": [
    "В случае регрессии задача состоит в минимизации среднеквадратичного функционала ошибки:\n",
    "\n",
    "$$\\frac{1}{l}\\sum_{i=1}^{l}(a(x_{i}) - y_{i})^{2} \\rightarrow \\text{min}.$$"
   ]
  },
  {
   "cell_type": "markdown",
   "metadata": {
    "id": "z2nkwUaQbshj"
   },
   "source": [
    "Так как ансамбль строится итеративно, нужно вначале обучить первый простой алгоритм:\n",
    "\n",
    "$$b_{1}(x) = \\underset{b}{\\text{argmin}}\\frac{1}{l}\\sum_{i=1}^{l}(b(x_{i}) - y_{i})^{2}.$$"
   ]
  },
  {
   "cell_type": "markdown",
   "metadata": {
    "id": "u8FfQZLgbshl"
   },
   "source": [
    "После того, как мы нашли первый алгоритм $b_{1}(x)$, нам нужно добавить в ансамбль еще один алгоритм $b_{2}(x)$. Для начала найдем разницу ответов первого алгоритма с реальными ответами:\n",
    "\n",
    "$$s_{i}^{(1)} = y_{i} - b_{1}(x_{i}).$$\n",
    "\n",
    "Если прибавить эти значения к полученным предсказаниям, получим идеальный ответ. Таким образом, новый алгоритм логично обучать так, чтобы его ответы были максимально близки к этой разнице, чтобы при их прибавлении к ответам первого алгоритма мы получили близкие к реальным. Значит, второй алгоритм будет обучаться на следующем функционале ошибки:\n",
    "\n",
    "$$b_{2}(x) = \\underset{b}{\\text{argmin}}\\frac{1}{l}\\sum_{i=1}^{l}(b(x_{i}) - s_{i}^{(1)})^{2} = \\underset{b}{\\text{argmin}}\\frac{1}{l}\\sum_{i=1}^{l}(b(x_{i}) - (y_{i} - b_{1}(x_{i})))^{2}.$$"
   ]
  },
  {
   "cell_type": "markdown",
   "metadata": {
    "id": "KqJFy1z5bshm"
   },
   "source": [
    "Каждый следующий алгоритм также настраивается на остатки композиции из предыдущих алгоритмов:\n",
    "\n",
    "$$b_{N}(x) = \\underset{b}{\\text{argmin}}\\frac{1}{l}\\sum_{i=1}^{l}(b(x_{i}) - s_{i}^{(N)})^{2},$$ \n",
    "\n",
    "$$s_{i}^{(N)} = y_{i} - \\sum_{n=1}^{N-1}b_{n}(x_{i}) = y_{i} - a_{N-1}(x_{i}).$$"
   ]
  },
  {
   "cell_type": "markdown",
   "metadata": {
    "id": "VjU9v-qObshn"
   },
   "source": [
    "Таким образом, каждый новый алгоритм корректирует ошибки предыдущих, и так продолжается до момента получения приемлемой ошибки на композиции. Вектор коэффициентов $s$ при этом называют _вектором сдвига_.\n",
    "\n",
    "<img src=\"images/error.png\" width=500px>"
   ]
  },
  {
   "cell_type": "markdown",
   "metadata": {
    "id": "BvZvWsCUbsho"
   },
   "source": [
    "Выбор сдвига из условия $s_{i} = y_{i} - a_{N-1}(x_{i})$ требует точного совпадения полученных предсказаний и ответов, однако, в более общем случае вектор сдвига принимают с учетом особенностей используемой в данном случае функции потерь: вектор сдвига должен ее минимизировать, то есть направлять в сторону уменьшения. Как мы помним из метода градиентного спуска, направление наискорейшего убывания функции совпадает с ее антиградиентом. Таким образом, если при обучении мы минимизируем функционал ошибки $L(y,z)$\n",
    "\n",
    "$$\\sum_{i=1}^{l}L(y_{i}, a_{N-1}(x_{i}) + s_{i}) \\rightarrow \\underset{s}{\\text{min}},$$\n",
    "\n",
    "сдвиг на каждом шаге должен быть противоположен производной функции потерь в точке $z = a_{N-1}(x_{i})$. \n",
    "\n",
    "$$s_{i} = \\left.-\\frac{\\partial L}{\\partial z} \\right|_{z = a_{N-1}(x_{i})}.$$"
   ]
  },
  {
   "cell_type": "markdown",
   "metadata": {
    "id": "NZEVla3Rbsho"
   },
   "source": [
    "Каждый новый алгоритм таким образом выбирается так, чтобы как можно лучше приближать антиградиент ошибки на обучающей выборке. \n",
    "\n",
    "После того, как мы вычислили требуемый для минимизации ошибки сдвиг $s$, нужно настроить алгоритм $b_{N}(x)$ так, чтобы он давал максимально близкие к нему ответы, то есть обучать его именно на вектор сдвига. Близость ответов алгоритма к сдвигу обычно оценивается с помощью среднеквадратичной ошибки независимо от условий исходной задачи (так как исходно используемая функция потерь $L$ уже учтена в сдвигах $s_{i}$):\n",
    "\n",
    "$$b_{N}(x) = \\underset{s}{\\text{argmin}}\\frac{1}{l}\\sum_{i=1}^{l}(b(x_{i})-s_{i})^{2}.$$"
   ]
  },
  {
   "cell_type": "markdown",
   "metadata": {
    "id": "9d5iQMt3bshq"
   },
   "source": [
    "Обычно в качестве функции потерь в задачах регрессии принимается *квадратичная функция потерь* ($L_{2}$ loss):\n",
    "\n",
    "$$L(y, z) = (y - z)^{2},$$\n",
    "\n",
    "его **производная** по $z$ примет вид \n",
    "\n",
    "$$L'(y, z) = 2(z-y)$$\n",
    "\n",
    "или модуль отклонения ($L_{1}$ loss)\n",
    "\n",
    "$$L(y, z) = |y - z|,$$\n",
    "\n",
    "его **производная** по $z$ будет иметь вид \n",
    "\n",
    "$$L'(y, z) = \\text{sign}(z-y).$$\n",
    "\n",
    "В случае классификации - логистическая функция потерь (метки -1, +1), где z - оценка принадлежности классу:\n",
    "\n",
    "$$L(y, z) = log(1 + exp(-yz))$$\n",
    "\n",
    "ее **производная**:\n",
    "\n",
    "$$L'(y, z) = - \\frac{y_{i}}{1+exp(-yz)}.$$\n",
    "\n",
    "Следует помнить, что компоненты $s_{i}$, вычисляемые через эти производные, берутся с минусом."
   ]
  },
  {
   "cell_type": "markdown",
   "metadata": {
    "id": "MaEoz2tAbshr"
   },
   "source": [
    "Аналогично алгоритму градиентного спуска, имеет смысл добавлять ответ каждого нового алгоритма не полностью, а с некоторым шагом $\\eta \\in (0, 1]$, так как базовые алгоритмы обычно достаточно простые (например, деревья малой глубины), и они могут плохо приближать вектор антиградиента, и тогда вместо приближения к минимуму мы будем получать случайное блуждание в пространстве. В градиентном бустинге такой прием называется сокращением шага.\n",
    "\n",
    "$$a_{N}(x) = a_{N-1}(x) + \\eta b_{N}(x).$$\n",
    "\n",
    "Градиентный бустинг склонен к переобучению при увеличении числа итераций $N$ или глубины входящих в него деревьев. Стоит об этом помнить при построении алгоритма и выбирать оптимальные параметры по отложенной выборке или с помощью кросс-валидации."
   ]
  },
  {
   "cell_type": "markdown",
   "metadata": {},
   "source": [
    "### Алгоритм построения модели градиентного бустинга<a class='anchor' id='alg'>"
   ]
  },
  {
   "cell_type": "markdown",
   "metadata": {
    "id": "djO4wPtSbshr"
   },
   "source": [
    "__1.__ Для инициализации выбирается произвольный простой алгоритм $b_{0}(x)$, в его роли можно брать обычные константные алгоритмы: в случае задачи регрессии это может быть\n",
    "\n",
    "$$b_{0}(x) = 0$$\n",
    "\n",
    "или среднее значение по всем объектам обучающей выборки \n",
    "\n",
    "$$b_{0}(x) = \\frac{1}{l}\\sum_{i=1}^{l}y_{i};$$\n",
    "\n",
    "в случае классификации - самый часто встречающийся в выборке класс\n",
    "\n",
    "$$b_{0}(x) = \\underset{y}{\\text{argmax}}\\sum_{i=1}^{l}[y_{i} = y].$$\n",
    "\n",
    "__2.__ Для каждой итерации вычисляется вектор сдвига $s$:\n",
    "\n",
    "$$s = \\left ( \\left.-\\frac{\\partial L}{\\partial z} \\right|_{z = a_{n-1}(x_{1})},...,\\left.-\\frac{\\partial L}{\\partial z} \\right|_{z = a_{n-1}(x_{l})}\\right );$$\n",
    "\n",
    "находится алгоритм\n",
    "\n",
    "$$b_{n}(x) = \\underset{s}{\\text{argmin}}\\frac{1}{l}\\sum_{i=1}^{l}(b(x_{i})-s_{i})^{2};$$\n",
    "\n",
    "и добавляется в имеющийся ансамбль с умножением на шаг $\\eta$, называемый _скоростью обучения_ (опционно)\n",
    "\n",
    "$$a_{n}(x) = a_{n-1}(x) + \\eta b_{n}(x).$$\n",
    "\n",
    "__3.__ При достижении критериев остановки компонуется итоговая модель."
   ]
  },
  {
   "cell_type": "markdown",
   "metadata": {
    "id": "Rg5ilDbTbshs"
   },
   "source": [
    "### Стохастический градиентный бустинг"
   ]
  },
  {
   "cell_type": "markdown",
   "metadata": {
    "id": "eJrobWhDbsht"
   },
   "source": [
    "Как и в случае с градиентым спуском, есть так называемый стохастический градиентный бустинг, являющийся упрощенной (в плане потребления ресурсов) версией алгоритма. Его суть заключается в обучении каждого нового базового алгоритма на новой итерации не на всей обучающей выборке, а на некоторой ее случайной подвыборке. Практика показывает, что такой алгоритм позволяет получить такую же ошибку или даже уменьшить ее при том же числе итераций, что и в случае использования обычного бустинга."
   ]
  },
  {
   "cell_type": "markdown",
   "metadata": {
    "id": "qTdnsVCnbshu"
   },
   "source": [
    "### Реализация алгоритма градиентного бустинга<a class='anchor' id='implement'>"
   ]
  },
  {
   "cell_type": "markdown",
   "metadata": {
    "id": "0ll5qHP2bshv"
   },
   "source": [
    "Реализуем средствами Python алгоритм градиентного бустинга для деревьев решений."
   ]
  },
  {
   "cell_type": "markdown",
   "metadata": {
    "id": "1sG8r2RPbshw"
   },
   "source": [
    "Реализация деревьев решений была дважды продемонстрирована в предыдущих уроках, в этом не будем ее повторять и возьмем готовую реализацию дерева решений для регрессии из библиотеки `sklearn`."
   ]
  },
  {
   "cell_type": "code",
   "execution_count": 8,
   "metadata": {
    "id": "Qk-74OFhbshx"
   },
   "outputs": [],
   "source": [
    "from sklearn import model_selection\n",
    "from sklearn.tree import DecisionTreeRegressor\n",
    "from sklearn.datasets import load_diabetes\n",
    "import matplotlib.pyplot as plt\n",
    "import numpy as np"
   ]
  },
  {
   "cell_type": "markdown",
   "metadata": {
    "id": "LYD1kLOibsh0"
   },
   "source": [
    "Используем один из \"игрушечных\" датасетов из той же библиотеки."
   ]
  },
  {
   "cell_type": "code",
   "execution_count": 9,
   "metadata": {
    "id": "leu8bBI7bsh6"
   },
   "outputs": [
    {
     "data": {
      "text/plain": [
       "((442, 10), (442,))"
      ]
     },
     "execution_count": 9,
     "metadata": {},
     "output_type": "execute_result"
    }
   ],
   "source": [
    "X, y = load_diabetes(return_X_y=True)\n",
    "X.shape, y.shape"
   ]
  },
  {
   "cell_type": "markdown",
   "metadata": {
    "id": "cz_JhiIpbsh8"
   },
   "source": [
    "Разделим выборку на обучающую и тестовую в соотношении 75/25."
   ]
  },
  {
   "cell_type": "code",
   "execution_count": 10,
   "metadata": {
    "id": "ExZPR9FLbsh9"
   },
   "outputs": [],
   "source": [
    "X_train, X_test, y_train, y_test = model_selection.train_test_split(X, y, test_size=0.25)"
   ]
  },
  {
   "cell_type": "markdown",
   "metadata": {
    "id": "7xJCdggZbsh_"
   },
   "source": [
    "Напишем функцию, реализующую предсказание в градиентном бустинге."
   ]
  },
  {
   "cell_type": "code",
   "execution_count": 11,
   "metadata": {
    "id": "wU_Rkc63bsiA"
   },
   "outputs": [],
   "source": [
    "def gb_predict(X, trees_list, eta):\n",
    "    # Реализуемый алгоритм градиентного бустинга будет инициализироваться нулевыми значениями,\n",
    "    # поэтому все деревья из списка trees_list уже являются дополнительными и при предсказании\n",
    "    # прибавляются с шагом eta\n",
    "    \n",
    "    predictions = np.zeros(X.shape[0])\n",
    "    for i, x in enumerate(X):\n",
    "        prediction = 0\n",
    "        for alg in trees_list:\n",
    "            prediction += eta * alg.predict([x])[0]\n",
    "        predictions[i] = prediction\n",
    "        \n",
    "    predictions = np.array(\n",
    "        [sum([eta * alg.predict([x])[0] for alg in trees_list]) for x in X]\n",
    "    )\n",
    "\n",
    "    return predictions"
   ]
  },
  {
   "cell_type": "markdown",
   "metadata": {
    "id": "6gZvsyfSbsiD"
   },
   "source": [
    "В качестве функционала ошибки будем использовать среднеквадратичную ошибку. Реализуем соответствующую функцию."
   ]
  },
  {
   "cell_type": "code",
   "execution_count": 12,
   "metadata": {
    "id": "0xbjFIEKbsiE"
   },
   "outputs": [],
   "source": [
    "def mean_squared_error(y_real, prediction):\n",
    "    return (sum((y_real - prediction)**2)) / len(y_real)"
   ]
  },
  {
   "cell_type": "markdown",
   "metadata": {
    "id": "Qlr3KD6zbsiH"
   },
   "source": [
    "Используем $L_{2}$ loss $L(y, z) = (y - z)^{2},$ ее производная по $z$ примет вид $L'(y, z) = 2(z - y)$. Реализуем ее также в виде функции (коэффициент 2 можно отбросить)."
   ]
  },
  {
   "cell_type": "code",
   "execution_count": 13,
   "metadata": {
    "id": "WRaZEd3ebsiI"
   },
   "outputs": [],
   "source": [
    "def residual(y, z):\n",
    "    return - (z - y)"
   ]
  },
  {
   "cell_type": "markdown",
   "metadata": {
    "id": "ut-7dBgVbsiK"
   },
   "source": [
    "Реализуем функцию обучения градиентного бустинга."
   ]
  },
  {
   "cell_type": "code",
   "execution_count": 14,
   "metadata": {
    "id": "HoIdAoPYbsiL"
   },
   "outputs": [],
   "source": [
    "def gb_fit(n_trees, max_depth, X_train, X_test, y_train, y_test, eta):\n",
    "    \n",
    "    # Деревья будем записывать в список\n",
    "    trees = []\n",
    "    \n",
    "    # Будем записывать ошибки на обучающей и тестовой выборке на каждой итерации в список\n",
    "    train_errors = []\n",
    "    test_errors = []\n",
    "    \n",
    "    for i in range(n_trees):\n",
    "        tree = DecisionTreeRegressor(max_depth=max_depth, random_state=42)\n",
    "\n",
    "        # первый алгоритм просто обучаем на выборке и добавляем в список\n",
    "        if len(trees) == 0:\n",
    "            # обучаем первое дерево на обучающей выборке\n",
    "            tree.fit(X_train, y_train)\n",
    "            \n",
    "            train_errors.append(mean_squared_error(y_train, gb_predict(X_train, trees, eta)))\n",
    "            test_errors.append(mean_squared_error(y_test, gb_predict(X_test, trees, eta)))\n",
    "        else:\n",
    "            # Получим ответы на текущей композиции\n",
    "            target = gb_predict(X_train, trees, eta)\n",
    "            \n",
    "            # алгоритмы начиная со второго обучаем на сдвиг\n",
    "            tree.fit(X_train, residual(y_train, target))\n",
    "            \n",
    "            train_errors.append(mean_squared_error(y_train, gb_predict(X_train, trees, eta)))\n",
    "            test_errors.append(mean_squared_error(y_test, gb_predict(X_test, trees, eta)))\n",
    "\n",
    "        trees.append(tree)\n",
    "        \n",
    "    return trees, train_errors, test_errors"
   ]
  },
  {
   "cell_type": "markdown",
   "metadata": {
    "id": "0vkHFhhzbsiN"
   },
   "source": [
    "Теперь обучим несколько моделей с разными параметрами и исследуем их поведение."
   ]
  },
  {
   "cell_type": "code",
   "execution_count": 15,
   "metadata": {
    "id": "2WvxluSlbsiO"
   },
   "outputs": [],
   "source": [
    "# Число деревьев в ансамбле\n",
    "n_trees = 10\n",
    "\n",
    "# Максимальная глубина деревьев\n",
    "max_depth = 3\n",
    "\n",
    "# Шаг\n",
    "eta = 1\n",
    "\n",
    "trees, train_errors, test_errors = gb_fit(n_trees, max_depth, X_train, X_test, y_train, y_test, eta)"
   ]
  },
  {
   "cell_type": "code",
   "execution_count": 16,
   "metadata": {
    "id": "GDMFn3R-bsiR"
   },
   "outputs": [],
   "source": [
    "def evaluate_alg(X_train, X_test, y_train, y_test, trees, eta):\n",
    "    train_prediction = gb_predict(X_train, trees, eta)\n",
    "\n",
    "    print(f'Ошибка алгоритма из {n_trees} деревьев глубиной {max_depth} \\\n",
    "    с шагом {eta} на тренировочной выборке: {mean_squared_error(y_train, train_prediction)}')\n",
    "\n",
    "    test_prediction = gb_predict(X_test, trees, eta)\n",
    "\n",
    "    print(f'Ошибка алгоритма из {n_trees} деревьев глубиной {max_depth} \\\n",
    "    с шагом {eta} на тестовой выборке: {mean_squared_error(y_test, test_prediction)}')"
   ]
  },
  {
   "cell_type": "code",
   "execution_count": 17,
   "metadata": {
    "colab": {
     "base_uri": "https://localhost:8080/",
     "height": 52
    },
    "id": "WEBbjCynbsiV",
    "outputId": "b3781ad6-6705-4b77-fba5-1ebbb5367c73"
   },
   "outputs": [
    {
     "name": "stdout",
     "output_type": "stream",
     "text": [
      "Ошибка алгоритма из 10 деревьев глубиной 3     с шагом 1 на тренировочной выборке: 1173.6470863493598\n",
      "Ошибка алгоритма из 10 деревьев глубиной 3     с шагом 1 на тестовой выборке: 5132.022614665194\n"
     ]
    }
   ],
   "source": [
    "evaluate_alg(X_train, X_test, y_train, y_test, trees, eta)"
   ]
  },
  {
   "cell_type": "markdown",
   "metadata": {
    "id": "TluGn7Iubsib"
   },
   "source": [
    "Построим графики зависимости ошибки на обучающей и тестовой выборках от числа итераций."
   ]
  },
  {
   "cell_type": "code",
   "execution_count": 18,
   "metadata": {
    "id": "gjDdKkgObsif"
   },
   "outputs": [],
   "source": [
    "def get_error_plot(n_trees, train_err, test_err):\n",
    "    plt.xlabel('Iteration number')\n",
    "    plt.ylabel('MSE')\n",
    "    plt.xlim(0, n_trees)\n",
    "    plt.plot(list(range(n_trees)), train_err, label='train error')\n",
    "    plt.plot(list(range(n_trees)), test_err, label='test error')\n",
    "    plt.legend(loc='upper right')\n",
    "    plt.show()"
   ]
  },
  {
   "cell_type": "code",
   "execution_count": 19,
   "metadata": {
    "colab": {
     "base_uri": "https://localhost:8080/",
     "height": 279
    },
    "id": "Was5hOJPbsih",
    "outputId": "797f1368-f60e-4c3a-ea1e-8d0cfd402780"
   },
   "outputs": [
    {
     "data": {
      "image/png": "[encoded data removed]",
      "text/plain": [
       "<Figure size 432x288 with 1 Axes>"
      ]
     },
     "metadata": {
      "needs_background": "light"
     },
     "output_type": "display_data"
    }
   ],
   "source": [
    "get_error_plot(n_trees, train_errors, test_errors)"
   ]
  },
  {
   "cell_type": "markdown",
   "metadata": {
    "id": "NS16dUwRbsik"
   },
   "source": [
    "Такой результат не является удовлетворительным"
   ]
  },
  {
   "cell_type": "markdown",
   "metadata": {
    "id": "9n8R32khbsil"
   },
   "source": [
    "Увеличим число деревьев."
   ]
  },
  {
   "cell_type": "code",
   "execution_count": 20,
   "metadata": {
    "id": "SdiTyDJrbsil"
   },
   "outputs": [
    {
     "name": "stdout",
     "output_type": "stream",
     "text": [
      "Wall time: 1min 24s\n"
     ]
    }
   ],
   "source": [
    "%%time\n",
    "n_trees = 50\n",
    "\n",
    "trees, train_errors, test_errors = gb_fit(n_trees, max_depth, X_train, X_test, y_train, y_test, eta)"
   ]
  },
  {
   "cell_type": "code",
   "execution_count": 21,
   "metadata": {
    "colab": {
     "base_uri": "https://localhost:8080/",
     "height": 52
    },
    "id": "PZ2BU15lbsin",
    "outputId": "d5e9e328-f74b-4324-dadd-803caa61f52e"
   },
   "outputs": [
    {
     "name": "stdout",
     "output_type": "stream",
     "text": [
      "Ошибка алгоритма из 50 деревьев глубиной 3     с шагом 1 на тренировочной выборке: 45.84932269349906\n",
      "Ошибка алгоритма из 50 деревьев глубиной 3     с шагом 1 на тестовой выборке: 6424.372807909724\n"
     ]
    }
   ],
   "source": [
    "evaluate_alg(X_train, X_test, y_train, y_test, trees, eta)"
   ]
  },
  {
   "cell_type": "code",
   "execution_count": 22,
   "metadata": {
    "colab": {
     "base_uri": "https://localhost:8080/",
     "height": 279
    },
    "id": "Wuls3BYWbsip",
    "outputId": "5c742cd2-9c1d-4674-a7a8-776d5129ff93"
   },
   "outputs": [
    {
     "data": {
      "image/png": "[encoded data removed]",
      "text/plain": [
       "<Figure size 432x288 with 1 Axes>"
      ]
     },
     "metadata": {
      "needs_background": "light"
     },
     "output_type": "display_data"
    }
   ],
   "source": [
    "get_error_plot(n_trees, train_errors, test_errors)"
   ]
  },
  {
   "cell_type": "markdown",
   "metadata": {
    "id": "V2gubWC0bsis"
   },
   "source": [
    "Теперь попробуем уменьшить шаг."
   ]
  },
  {
   "cell_type": "code",
   "execution_count": 23,
   "metadata": {
    "id": "SqfMt3KMbsis"
   },
   "outputs": [
    {
     "name": "stdout",
     "output_type": "stream",
     "text": [
      "Wall time: 1min 33s\n"
     ]
    }
   ],
   "source": [
    "%%time\n",
    "eta = 0.1\n",
    "\n",
    "trees, train_errors, test_errors = gb_fit(n_trees, max_depth, X_train, X_test, y_train, y_test, eta)"
   ]
  },
  {
   "cell_type": "code",
   "execution_count": 24,
   "metadata": {
    "colab": {
     "base_uri": "https://localhost:8080/",
     "height": 52
    },
    "id": "0Rkc97-ibsiu",
    "outputId": "f58221c0-17e8-43dd-c81b-9844ecec0808"
   },
   "outputs": [
    {
     "name": "stdout",
     "output_type": "stream",
     "text": [
      "Ошибка алгоритма из 50 деревьев глубиной 3     с шагом 0.1 на тренировочной выборке: 1308.1502579854687\n",
      "Ошибка алгоритма из 50 деревьев глубиной 3     с шагом 0.1 на тестовой выборке: 3454.1634132789754\n"
     ]
    }
   ],
   "source": [
    "evaluate_alg(X_train, X_test, y_train, y_test, trees, eta)"
   ]
  },
  {
   "cell_type": "code",
   "execution_count": 25,
   "metadata": {
    "id": "x0Ij4Fbrbsiw"
   },
   "outputs": [
    {
     "data": {
      "image/png": "[encoded data removed]",
      "text/plain": [
       "<Figure size 432x288 with 1 Axes>"
      ]
     },
     "metadata": {
      "needs_background": "light"
     },
     "output_type": "display_data"
    }
   ],
   "source": [
    "get_error_plot(n_trees, train_errors, test_errors)"
   ]
  },
  {
   "cell_type": "markdown",
   "metadata": {
    "id": "NOM9bowjbsiy"
   },
   "source": [
    "Видим, что качество обучения улучшается."
   ]
  },
  {
   "cell_type": "markdown",
   "metadata": {
    "id": "OCU1ZgSxbsi0"
   },
   "source": [
    "Уменьшим шаг до 0.01."
   ]
  },
  {
   "cell_type": "code",
   "execution_count": 26,
   "metadata": {
    "id": "QvDpXS-Ybsi1"
   },
   "outputs": [
    {
     "name": "stdout",
     "output_type": "stream",
     "text": [
      "Wall time: 1min 26s\n"
     ]
    }
   ],
   "source": [
    "%%time\n",
    "eta = 0.01\n",
    "\n",
    "trees, train_errors, test_errors = gb_fit(n_trees, max_depth, X_train, X_test, y_train, y_test, eta)"
   ]
  },
  {
   "cell_type": "code",
   "execution_count": 27,
   "metadata": {
    "id": "l7l4ckNubsi4"
   },
   "outputs": [
    {
     "name": "stdout",
     "output_type": "stream",
     "text": [
      "Ошибка алгоритма из 50 деревьев глубиной 3     с шагом 0.01 на тренировочной выборке: 12490.426888043603\n",
      "Ошибка алгоритма из 50 деревьев глубиной 3     с шагом 0.01 на тестовой выборке: 12044.205506101122\n"
     ]
    }
   ],
   "source": [
    "evaluate_alg(X_train, X_test, y_train, y_test, trees, eta)"
   ]
  },
  {
   "cell_type": "code",
   "execution_count": 28,
   "metadata": {
    "id": "L0dPsV_9bsi5"
   },
   "outputs": [
    {
     "data": {
      "image/png": "[encoded data removed]",
      "text/plain": [
       "<Figure size 432x288 with 1 Axes>"
      ]
     },
     "metadata": {
      "needs_background": "light"
     },
     "output_type": "display_data"
    }
   ],
   "source": [
    "get_error_plot(n_trees, train_errors, test_errors)"
   ]
  },
  {
   "cell_type": "markdown",
   "metadata": {
    "id": "YTHcPMYhbsi7"
   },
   "source": [
    "При таком размере шага алгоритм сходится, но ему для достижения удовлетворительных показателей требуется большее количество итераций."
   ]
  },
  {
   "cell_type": "markdown",
   "metadata": {
    "id": "CoXzz4Fhbsi8"
   },
   "source": [
    "Вернемся к шагу 0.1 и попробуем увеличить глубину деревьев"
   ]
  },
  {
   "cell_type": "code",
   "execution_count": 29,
   "metadata": {
    "id": "hvLCSptsbsi8"
   },
   "outputs": [
    {
     "name": "stdout",
     "output_type": "stream",
     "text": [
      "Wall time: 1min 25s\n"
     ]
    }
   ],
   "source": [
    "%%time\n",
    "eta = 0.1\n",
    "max_depth = 5\n",
    "\n",
    "trees, train_errors, test_errors = gb_fit(n_trees, max_depth, X_train, X_test, y_train, y_test, eta)"
   ]
  },
  {
   "cell_type": "code",
   "execution_count": 30,
   "metadata": {
    "id": "H493-X9Cbsi-"
   },
   "outputs": [
    {
     "name": "stdout",
     "output_type": "stream",
     "text": [
      "Ошибка алгоритма из 50 деревьев глубиной 5     с шагом 0.1 на тренировочной выборке: 276.3868629401939\n",
      "Ошибка алгоритма из 50 деревьев глубиной 5     с шагом 0.1 на тестовой выборке: 3677.1836504768526\n"
     ]
    }
   ],
   "source": [
    "evaluate_alg(X_train, X_test, y_train, y_test, trees, eta)"
   ]
  },
  {
   "cell_type": "code",
   "execution_count": 31,
   "metadata": {
    "id": "1ZGS4hIMbsjB"
   },
   "outputs": [
    {
     "data": {
      "image/png": "[encoded data removed]",
      "text/plain": [
       "<Figure size 432x288 with 1 Axes>"
      ]
     },
     "metadata": {
      "needs_background": "light"
     },
     "output_type": "display_data"
    }
   ],
   "source": [
    "get_error_plot(n_trees, train_errors, test_errors)"
   ]
  },
  {
   "cell_type": "markdown",
   "metadata": {
    "id": "IpD13qpubsjH"
   },
   "source": [
    "Ошибка на обучающей выборке упала, а на тестовой несколько поднялась, то есть в данном случае можем говорить о появлении переобучения."
   ]
  },
  {
   "cell_type": "markdown",
   "metadata": {
    "id": "gjcLXlvZbsjI"
   },
   "source": [
    "В целом, тут мы показали, что варьируя параметры обучения градиентного бустинга можно добиваться различного уровня точности модели."
   ]
  },
  {
   "cell_type": "markdown",
   "metadata": {
    "id": "Gn6K3xoIbsjJ"
   },
   "source": [
    "Существуют различные реализации градиентного бустинга, и одна из самых популярных и широко используемых - XGBoost (в Python содержится в библиотеке с аналогичным названием). С этой реализацией можно ознакомиться в дополнительных материалах."
   ]
  },
  {
   "cell_type": "markdown",
   "metadata": {
    "id": "Z2tMUhhXbsjK"
   },
   "source": [
    "## AdaBoost<a class='anchor' id='ada'>\n",
    "[Видео](https://www.youtube.com/watch?v=LsK-xG1cLYA) с подробным объяснением алгоритма"
   ]
  },
  {
   "cell_type": "markdown",
   "metadata": {
    "id": "b-P-YoMabsjL"
   },
   "source": [
    "Для задачи бинарной классификации он заключается в использовании слабых классификаторов (например, деревьев глубиной 1 - так называемых \"пней\") в цикле, с придаванием объектам весов. После каждого шага итерации, когда разделяющая плоскость классификатора делит пространство объектов на две части, веса объектов перераспределяются, и веса неправильно классифицированных объектов увеличиваются, чтобы на следующей итерации классификатор акцентировался на этих объектах. Классификатору также присваивается вес в зависимости от его точности. Затем полученные деревья с весами объединяются в один сильный классификатор. В этом и заключается адаптивность алгоритма. Алгоритм AdaBoost также называют алгоритмом усиления классификаторов."
   ]
  },
  {
   "cell_type": "markdown",
   "metadata": {},
   "source": [
    "**Продемонстрируем работу AdaBoost**"
   ]
  },
  {
   "cell_type": "code",
   "execution_count": 32,
   "metadata": {
    "id": "AMMYdEpSbsjM"
   },
   "outputs": [],
   "source": [
    "from sklearn.tree import DecisionTreeClassifier, plot_tree\n",
    "from sklearn.datasets import load_breast_cancer"
   ]
  },
  {
   "cell_type": "code",
   "execution_count": 34,
   "metadata": {
    "id": "2cQW-bglbsjP"
   },
   "outputs": [
    {
     "data": {
      "text/plain": [
       "((569, 30), (569,))"
      ]
     },
     "execution_count": 34,
     "metadata": {},
     "output_type": "execute_result"
    }
   ],
   "source": [
    "X, y = load_breast_cancer(return_X_y=True)\n",
    "X.shape, y.shape"
   ]
  },
  {
   "cell_type": "code",
   "execution_count": 35,
   "metadata": {},
   "outputs": [
    {
     "ename": "AttributeError",
     "evalue": "'numpy.ndarray' object has no attribute 'loc'",
     "output_type": "error",
     "traceback": [
      "\u001b[1;31m---------------------------------------------------------------------------\u001b[0m",
      "\u001b[1;31mAttributeError\u001b[0m                            Traceback (most recent call last)",
      "\u001b[1;32m<ipython-input-35-3b7c697ea064>\u001b[0m in \u001b[0;36m<module>\u001b[1;34m\u001b[0m\n\u001b[0;32m      1\u001b[0m \u001b[0mnp\u001b[0m\u001b[1;33m.\u001b[0m\u001b[0mrandom\u001b[0m\u001b[1;33m.\u001b[0m\u001b[0mseed\u001b[0m\u001b[1;33m(\u001b[0m\u001b[1;36m6\u001b[0m\u001b[1;33m)\u001b[0m\u001b[1;33m\u001b[0m\u001b[1;33m\u001b[0m\u001b[0m\n\u001b[0;32m      2\u001b[0m \u001b[0mindex\u001b[0m \u001b[1;33m=\u001b[0m \u001b[0mnp\u001b[0m\u001b[1;33m.\u001b[0m\u001b[0mrandom\u001b[0m\u001b[1;33m.\u001b[0m\u001b[0mrandint\u001b[0m\u001b[1;33m(\u001b[0m\u001b[1;36m0\u001b[0m\u001b[1;33m,\u001b[0m \u001b[0mX\u001b[0m\u001b[1;33m.\u001b[0m\u001b[0mshape\u001b[0m\u001b[1;33m[\u001b[0m\u001b[1;36m0\u001b[0m\u001b[1;33m]\u001b[0m\u001b[1;33m,\u001b[0m \u001b[1;36m1\u001b[0m\u001b[1;33m)\u001b[0m\u001b[1;33m\u001b[0m\u001b[1;33m\u001b[0m\u001b[0m\n\u001b[1;32m----> 3\u001b[1;33m \u001b[0mX_test\u001b[0m \u001b[1;33m=\u001b[0m \u001b[0mX\u001b[0m\u001b[1;33m.\u001b[0m\u001b[0mloc\u001b[0m\u001b[1;33m[\u001b[0m\u001b[0mindex\u001b[0m\u001b[1;33m]\u001b[0m\u001b[1;33m\u001b[0m\u001b[1;33m\u001b[0m\u001b[0m\n\u001b[0m\u001b[0;32m      4\u001b[0m \u001b[0my_test\u001b[0m \u001b[1;33m=\u001b[0m \u001b[0my\u001b[0m\u001b[1;33m.\u001b[0m\u001b[0mloc\u001b[0m\u001b[1;33m[\u001b[0m\u001b[0mindex\u001b[0m\u001b[1;33m]\u001b[0m\u001b[1;33m\u001b[0m\u001b[1;33m\u001b[0m\u001b[0m\n",
      "\u001b[1;31mAttributeError\u001b[0m: 'numpy.ndarray' object has no attribute 'loc'"
     ]
    }
   ],
   "source": [
    "np.random.seed(6)\n",
    "index = np.random.randint(0, X.shape[0], 1)\n",
    "X_test = X.loc[index]\n",
    "y_test = y.loc[index]"
   ]
  },
  {
   "cell_type": "code",
   "execution_count": 36,
   "metadata": {},
   "outputs": [
    {
     "ename": "AttributeError",
     "evalue": "'numpy.ndarray' object has no attribute 'columns'",
     "output_type": "error",
     "traceback": [
      "\u001b[1;31m---------------------------------------------------------------------------\u001b[0m",
      "\u001b[1;31mAttributeError\u001b[0m                            Traceback (most recent call last)",
      "\u001b[1;32m<ipython-input-36-901c1061bf7c>\u001b[0m in \u001b[0;36m<module>\u001b[1;34m\u001b[0m\n\u001b[1;32m----> 1\u001b[1;33m \u001b[0mX\u001b[0m\u001b[1;33m.\u001b[0m\u001b[0mcolumns\u001b[0m\u001b[1;33m\u001b[0m\u001b[1;33m\u001b[0m\u001b[0m\n\u001b[0m",
      "\u001b[1;31mAttributeError\u001b[0m: 'numpy.ndarray' object has no attribute 'columns'"
     ]
    }
   ],
   "source": [
    "X.columns"
   ]
  },
  {
   "cell_type": "code",
   "execution_count": 37,
   "metadata": {},
   "outputs": [
    {
     "ename": "AttributeError",
     "evalue": "'numpy.ndarray' object has no attribute 'loc'",
     "output_type": "error",
     "traceback": [
      "\u001b[1;31m---------------------------------------------------------------------------\u001b[0m",
      "\u001b[1;31mAttributeError\u001b[0m                            Traceback (most recent call last)",
      "\u001b[1;32m<ipython-input-37-1334907a5af9>\u001b[0m in \u001b[0;36m<module>\u001b[1;34m\u001b[0m\n\u001b[1;32m----> 1\u001b[1;33m \u001b[0mX\u001b[0m \u001b[1;33m=\u001b[0m \u001b[0mX\u001b[0m\u001b[1;33m.\u001b[0m\u001b[0mloc\u001b[0m\u001b[1;33m[\u001b[0m\u001b[1;33m[\u001b[0m \u001b[1;36m41\u001b[0m\u001b[1;33m,\u001b[0m  \u001b[1;36m44\u001b[0m\u001b[1;33m,\u001b[0m  \u001b[1;36m73\u001b[0m\u001b[1;33m,\u001b[0m  \u001b[1;36m81\u001b[0m\u001b[1;33m,\u001b[0m  \u001b[1;36m89\u001b[0m\u001b[1;33m,\u001b[0m  \u001b[1;36m91\u001b[0m\u001b[1;33m,\u001b[0m \u001b[1;36m135\u001b[0m\u001b[1;33m,\u001b[0m \u001b[1;36m146\u001b[0m\u001b[1;33m,\u001b[0m \u001b[1;36m484\u001b[0m\u001b[1;33m,\u001b[0m \u001b[1;36m491\u001b[0m\u001b[1;33m]\u001b[0m\u001b[1;33m]\u001b[0m\u001b[1;33m\u001b[0m\u001b[1;33m\u001b[0m\u001b[0m\n\u001b[0m\u001b[0;32m      2\u001b[0m \u001b[0my\u001b[0m \u001b[1;33m=\u001b[0m \u001b[0my\u001b[0m\u001b[1;33m.\u001b[0m\u001b[0mloc\u001b[0m\u001b[1;33m[\u001b[0m\u001b[1;33m[\u001b[0m \u001b[1;36m41\u001b[0m\u001b[1;33m,\u001b[0m  \u001b[1;36m44\u001b[0m\u001b[1;33m,\u001b[0m  \u001b[1;36m73\u001b[0m\u001b[1;33m,\u001b[0m  \u001b[1;36m81\u001b[0m\u001b[1;33m,\u001b[0m  \u001b[1;36m89\u001b[0m\u001b[1;33m,\u001b[0m  \u001b[1;36m91\u001b[0m\u001b[1;33m,\u001b[0m \u001b[1;36m135\u001b[0m\u001b[1;33m,\u001b[0m \u001b[1;36m146\u001b[0m\u001b[1;33m,\u001b[0m \u001b[1;36m484\u001b[0m\u001b[1;33m,\u001b[0m \u001b[1;36m491\u001b[0m\u001b[1;33m]\u001b[0m\u001b[1;33m]\u001b[0m\u001b[1;33m\u001b[0m\u001b[1;33m\u001b[0m\u001b[0m\n\u001b[0;32m      3\u001b[0m \u001b[0mX\u001b[0m\u001b[1;33m\u001b[0m\u001b[1;33m\u001b[0m\u001b[0m\n",
      "\u001b[1;31mAttributeError\u001b[0m: 'numpy.ndarray' object has no attribute 'loc'"
     ]
    }
   ],
   "source": [
    "X = X.loc[[ 41,  44,  73,  81,  89,  91, 135, 146, 484, 491]]\n",
    "y = y.loc[[ 41,  44,  73,  81,  89,  91, 135, 146, 484, 491]]\n",
    "X"
   ]
  },
  {
   "cell_type": "code",
   "execution_count": 38,
   "metadata": {},
   "outputs": [
    {
     "data": {
      "text/plain": [
       "array([0, 0, 0, 0, 0, 0, 0, 0, 0, 0, 0, 0, 0, 0, 0, 0, 0, 0, 0, 1, 1, 1,\n",
       "       0, 0, 0, 0, 0, 0, 0, 0, 0, 0, 0, 0, 0, 0, 0, 1, 0, 0, 0, 0, 0, 0,\n",
       "       0, 0, 1, 0, 1, 1, 1, 1, 1, 0, 0, 1, 0, 0, 1, 1, 1, 1, 0, 1, 0, 0,\n",
       "       1, 1, 1, 1, 0, 1, 0, 0, 1, 0, 1, 0, 0, 1, 1, 1, 0, 0, 1, 0, 0, 0,\n",
       "       1, 1, 1, 0, 1, 1, 0, 0, 1, 1, 1, 0, 0, 1, 1, 1, 1, 0, 1, 1, 0, 1,\n",
       "       1, 1, 1, 1, 1, 1, 1, 0, 0, 0, 1, 0, 0, 1, 1, 1, 0, 0, 1, 0, 1, 0,\n",
       "       0, 1, 0, 0, 1, 1, 0, 1, 1, 0, 1, 1, 1, 1, 0, 1, 1, 1, 1, 1, 1, 1,\n",
       "       1, 1, 0, 1, 1, 1, 1, 0, 0, 1, 0, 1, 1, 0, 0, 1, 1, 0, 0, 1, 1, 1,\n",
       "       1, 0, 1, 1, 0, 0, 0, 1, 0, 1, 0, 1, 1, 1, 0, 1, 1, 0, 0, 1, 0, 0,\n",
       "       0, 0, 1, 0, 0, 0, 1, 0, 1, 0, 1, 1, 0, 1, 0, 0, 0, 0, 1, 1, 0, 0,\n",
       "       1, 1, 1, 0, 1, 1, 1, 1, 1, 0, 0, 1, 1, 0, 1, 1, 0, 0, 1, 0, 1, 1,\n",
       "       1, 1, 0, 1, 1, 1, 1, 1, 0, 1, 0, 0, 0, 0, 0, 0, 0, 0, 0, 0, 0, 0,\n",
       "       0, 0, 1, 1, 1, 1, 1, 1, 0, 1, 0, 1, 1, 0, 1, 1, 0, 1, 0, 0, 1, 1,\n",
       "       1, 1, 1, 1, 1, 1, 1, 1, 1, 1, 1, 0, 1, 1, 0, 1, 0, 1, 1, 1, 1, 1,\n",
       "       1, 1, 1, 1, 1, 1, 1, 1, 1, 0, 1, 1, 1, 0, 1, 0, 1, 1, 1, 1, 0, 0,\n",
       "       0, 1, 1, 1, 1, 0, 1, 0, 1, 0, 1, 1, 1, 0, 1, 1, 1, 1, 1, 1, 1, 0,\n",
       "       0, 0, 1, 1, 1, 1, 1, 1, 1, 1, 1, 1, 1, 0, 0, 1, 0, 0, 0, 1, 0, 0,\n",
       "       1, 1, 1, 1, 1, 0, 1, 1, 1, 1, 1, 0, 1, 1, 1, 0, 1, 1, 0, 0, 1, 1,\n",
       "       1, 1, 1, 1, 0, 1, 1, 1, 1, 1, 1, 1, 0, 1, 1, 1, 1, 1, 0, 1, 1, 0,\n",
       "       1, 1, 1, 1, 1, 1, 1, 1, 1, 1, 1, 1, 0, 1, 0, 0, 1, 0, 1, 1, 1, 1,\n",
       "       1, 0, 1, 1, 0, 1, 0, 1, 1, 0, 1, 0, 1, 1, 1, 1, 1, 1, 1, 1, 0, 0,\n",
       "       1, 1, 1, 1, 1, 1, 0, 1, 1, 1, 1, 1, 1, 1, 1, 1, 1, 0, 1, 1, 1, 1,\n",
       "       1, 1, 1, 0, 1, 0, 1, 1, 0, 1, 1, 1, 1, 1, 0, 0, 1, 0, 1, 0, 1, 1,\n",
       "       1, 1, 1, 0, 1, 1, 0, 1, 0, 1, 0, 0, 1, 1, 1, 0, 1, 1, 1, 1, 1, 1,\n",
       "       1, 1, 1, 1, 1, 0, 1, 0, 0, 1, 1, 1, 1, 1, 1, 1, 1, 1, 1, 1, 1, 1,\n",
       "       1, 1, 1, 1, 1, 1, 1, 1, 1, 1, 1, 1, 0, 0, 0, 0, 0, 0, 1])"
      ]
     },
     "execution_count": 38,
     "metadata": {},
     "output_type": "execute_result"
    }
   ],
   "source": [
    "y"
   ]
  },
  {
   "cell_type": "markdown",
   "metadata": {},
   "source": [
    "__1.__ Инициализация начальных весов объектов из выборки длиной $l$:\n",
    "\n",
    "$$D_{1}(i) = \\frac{1}{l}$$"
   ]
  },
  {
   "cell_type": "code",
   "execution_count": 39,
   "metadata": {},
   "outputs": [
    {
     "data": {
      "text/plain": [
       "array([0.00175747, 0.00175747, 0.00175747, 0.00175747, 0.00175747,\n",
       "       0.00175747, 0.00175747, 0.00175747, 0.00175747, 0.00175747,\n",
       "       0.00175747, 0.00175747, 0.00175747, 0.00175747, 0.00175747,\n",
       "       0.00175747, 0.00175747, 0.00175747, 0.00175747, 0.00175747,\n",
       "       0.00175747, 0.00175747, 0.00175747, 0.00175747, 0.00175747,\n",
       "       0.00175747, 0.00175747, 0.00175747, 0.00175747, 0.00175747,\n",
       "       0.00175747, 0.00175747, 0.00175747, 0.00175747, 0.00175747,\n",
       "       0.00175747, 0.00175747, 0.00175747, 0.00175747, 0.00175747,\n",
       "       0.00175747, 0.00175747, 0.00175747, 0.00175747, 0.00175747,\n",
       "       0.00175747, 0.00175747, 0.00175747, 0.00175747, 0.00175747,\n",
       "       0.00175747, 0.00175747, 0.00175747, 0.00175747, 0.00175747,\n",
       "       0.00175747, 0.00175747, 0.00175747, 0.00175747, 0.00175747,\n",
       "       0.00175747, 0.00175747, 0.00175747, 0.00175747, 0.00175747,\n",
       "       0.00175747, 0.00175747, 0.00175747, 0.00175747, 0.00175747,\n",
       "       0.00175747, 0.00175747, 0.00175747, 0.00175747, 0.00175747,\n",
       "       0.00175747, 0.00175747, 0.00175747, 0.00175747, 0.00175747,\n",
       "       0.00175747, 0.00175747, 0.00175747, 0.00175747, 0.00175747,\n",
       "       0.00175747, 0.00175747, 0.00175747, 0.00175747, 0.00175747,\n",
       "       0.00175747, 0.00175747, 0.00175747, 0.00175747, 0.00175747,\n",
       "       0.00175747, 0.00175747, 0.00175747, 0.00175747, 0.00175747,\n",
       "       0.00175747, 0.00175747, 0.00175747, 0.00175747, 0.00175747,\n",
       "       0.00175747, 0.00175747, 0.00175747, 0.00175747, 0.00175747,\n",
       "       0.00175747, 0.00175747, 0.00175747, 0.00175747, 0.00175747,\n",
       "       0.00175747, 0.00175747, 0.00175747, 0.00175747, 0.00175747,\n",
       "       0.00175747, 0.00175747, 0.00175747, 0.00175747, 0.00175747,\n",
       "       0.00175747, 0.00175747, 0.00175747, 0.00175747, 0.00175747,\n",
       "       0.00175747, 0.00175747, 0.00175747, 0.00175747, 0.00175747,\n",
       "       0.00175747, 0.00175747, 0.00175747, 0.00175747, 0.00175747,\n",
       "       0.00175747, 0.00175747, 0.00175747, 0.00175747, 0.00175747,\n",
       "       0.00175747, 0.00175747, 0.00175747, 0.00175747, 0.00175747,\n",
       "       0.00175747, 0.00175747, 0.00175747, 0.00175747, 0.00175747,\n",
       "       0.00175747, 0.00175747, 0.00175747, 0.00175747, 0.00175747,\n",
       "       0.00175747, 0.00175747, 0.00175747, 0.00175747, 0.00175747,\n",
       "       0.00175747, 0.00175747, 0.00175747, 0.00175747, 0.00175747,\n",
       "       0.00175747, 0.00175747, 0.00175747, 0.00175747, 0.00175747,\n",
       "       0.00175747, 0.00175747, 0.00175747, 0.00175747, 0.00175747,\n",
       "       0.00175747, 0.00175747, 0.00175747, 0.00175747, 0.00175747,\n",
       "       0.00175747, 0.00175747, 0.00175747, 0.00175747, 0.00175747,\n",
       "       0.00175747, 0.00175747, 0.00175747, 0.00175747, 0.00175747,\n",
       "       0.00175747, 0.00175747, 0.00175747, 0.00175747, 0.00175747,\n",
       "       0.00175747, 0.00175747, 0.00175747, 0.00175747, 0.00175747,\n",
       "       0.00175747, 0.00175747, 0.00175747, 0.00175747, 0.00175747,\n",
       "       0.00175747, 0.00175747, 0.00175747, 0.00175747, 0.00175747,\n",
       "       0.00175747, 0.00175747, 0.00175747, 0.00175747, 0.00175747,\n",
       "       0.00175747, 0.00175747, 0.00175747, 0.00175747, 0.00175747,\n",
       "       0.00175747, 0.00175747, 0.00175747, 0.00175747, 0.00175747,\n",
       "       0.00175747, 0.00175747, 0.00175747, 0.00175747, 0.00175747,\n",
       "       0.00175747, 0.00175747, 0.00175747, 0.00175747, 0.00175747,\n",
       "       0.00175747, 0.00175747, 0.00175747, 0.00175747, 0.00175747,\n",
       "       0.00175747, 0.00175747, 0.00175747, 0.00175747, 0.00175747,\n",
       "       0.00175747, 0.00175747, 0.00175747, 0.00175747, 0.00175747,\n",
       "       0.00175747, 0.00175747, 0.00175747, 0.00175747, 0.00175747,\n",
       "       0.00175747, 0.00175747, 0.00175747, 0.00175747, 0.00175747,\n",
       "       0.00175747, 0.00175747, 0.00175747, 0.00175747, 0.00175747,\n",
       "       0.00175747, 0.00175747, 0.00175747, 0.00175747, 0.00175747,\n",
       "       0.00175747, 0.00175747, 0.00175747, 0.00175747, 0.00175747,\n",
       "       0.00175747, 0.00175747, 0.00175747, 0.00175747, 0.00175747,\n",
       "       0.00175747, 0.00175747, 0.00175747, 0.00175747, 0.00175747,\n",
       "       0.00175747, 0.00175747, 0.00175747, 0.00175747, 0.00175747,\n",
       "       0.00175747, 0.00175747, 0.00175747, 0.00175747, 0.00175747,\n",
       "       0.00175747, 0.00175747, 0.00175747, 0.00175747, 0.00175747,\n",
       "       0.00175747, 0.00175747, 0.00175747, 0.00175747, 0.00175747,\n",
       "       0.00175747, 0.00175747, 0.00175747, 0.00175747, 0.00175747,\n",
       "       0.00175747, 0.00175747, 0.00175747, 0.00175747, 0.00175747,\n",
       "       0.00175747, 0.00175747, 0.00175747, 0.00175747, 0.00175747,\n",
       "       0.00175747, 0.00175747, 0.00175747, 0.00175747, 0.00175747,\n",
       "       0.00175747, 0.00175747, 0.00175747, 0.00175747, 0.00175747,\n",
       "       0.00175747, 0.00175747, 0.00175747, 0.00175747, 0.00175747,\n",
       "       0.00175747, 0.00175747, 0.00175747, 0.00175747, 0.00175747,\n",
       "       0.00175747, 0.00175747, 0.00175747, 0.00175747, 0.00175747,\n",
       "       0.00175747, 0.00175747, 0.00175747, 0.00175747, 0.00175747,\n",
       "       0.00175747, 0.00175747, 0.00175747, 0.00175747, 0.00175747,\n",
       "       0.00175747, 0.00175747, 0.00175747, 0.00175747, 0.00175747,\n",
       "       0.00175747, 0.00175747, 0.00175747, 0.00175747, 0.00175747,\n",
       "       0.00175747, 0.00175747, 0.00175747, 0.00175747, 0.00175747,\n",
       "       0.00175747, 0.00175747, 0.00175747, 0.00175747, 0.00175747,\n",
       "       0.00175747, 0.00175747, 0.00175747, 0.00175747, 0.00175747,\n",
       "       0.00175747, 0.00175747, 0.00175747, 0.00175747, 0.00175747,\n",
       "       0.00175747, 0.00175747, 0.00175747, 0.00175747, 0.00175747,\n",
       "       0.00175747, 0.00175747, 0.00175747, 0.00175747, 0.00175747,\n",
       "       0.00175747, 0.00175747, 0.00175747, 0.00175747, 0.00175747,\n",
       "       0.00175747, 0.00175747, 0.00175747, 0.00175747, 0.00175747,\n",
       "       0.00175747, 0.00175747, 0.00175747, 0.00175747, 0.00175747,\n",
       "       0.00175747, 0.00175747, 0.00175747, 0.00175747, 0.00175747,\n",
       "       0.00175747, 0.00175747, 0.00175747, 0.00175747, 0.00175747,\n",
       "       0.00175747, 0.00175747, 0.00175747, 0.00175747, 0.00175747,\n",
       "       0.00175747, 0.00175747, 0.00175747, 0.00175747, 0.00175747,\n",
       "       0.00175747, 0.00175747, 0.00175747, 0.00175747, 0.00175747,\n",
       "       0.00175747, 0.00175747, 0.00175747, 0.00175747, 0.00175747,\n",
       "       0.00175747, 0.00175747, 0.00175747, 0.00175747, 0.00175747,\n",
       "       0.00175747, 0.00175747, 0.00175747, 0.00175747, 0.00175747,\n",
       "       0.00175747, 0.00175747, 0.00175747, 0.00175747, 0.00175747,\n",
       "       0.00175747, 0.00175747, 0.00175747, 0.00175747, 0.00175747,\n",
       "       0.00175747, 0.00175747, 0.00175747, 0.00175747, 0.00175747,\n",
       "       0.00175747, 0.00175747, 0.00175747, 0.00175747, 0.00175747,\n",
       "       0.00175747, 0.00175747, 0.00175747, 0.00175747, 0.00175747,\n",
       "       0.00175747, 0.00175747, 0.00175747, 0.00175747, 0.00175747,\n",
       "       0.00175747, 0.00175747, 0.00175747, 0.00175747, 0.00175747,\n",
       "       0.00175747, 0.00175747, 0.00175747, 0.00175747, 0.00175747,\n",
       "       0.00175747, 0.00175747, 0.00175747, 0.00175747, 0.00175747,\n",
       "       0.00175747, 0.00175747, 0.00175747, 0.00175747, 0.00175747,\n",
       "       0.00175747, 0.00175747, 0.00175747, 0.00175747, 0.00175747,\n",
       "       0.00175747, 0.00175747, 0.00175747, 0.00175747, 0.00175747,\n",
       "       0.00175747, 0.00175747, 0.00175747, 0.00175747, 0.00175747,\n",
       "       0.00175747, 0.00175747, 0.00175747, 0.00175747, 0.00175747,\n",
       "       0.00175747, 0.00175747, 0.00175747, 0.00175747, 0.00175747,\n",
       "       0.00175747, 0.00175747, 0.00175747, 0.00175747, 0.00175747,\n",
       "       0.00175747, 0.00175747, 0.00175747, 0.00175747, 0.00175747,\n",
       "       0.00175747, 0.00175747, 0.00175747, 0.00175747, 0.00175747,\n",
       "       0.00175747, 0.00175747, 0.00175747, 0.00175747, 0.00175747,\n",
       "       0.00175747, 0.00175747, 0.00175747, 0.00175747, 0.00175747,\n",
       "       0.00175747, 0.00175747, 0.00175747, 0.00175747, 0.00175747,\n",
       "       0.00175747, 0.00175747, 0.00175747, 0.00175747, 0.00175747,\n",
       "       0.00175747, 0.00175747, 0.00175747, 0.00175747])"
      ]
     },
     "execution_count": 39,
     "metadata": {},
     "output_type": "execute_result"
    }
   ],
   "source": [
    "n_objects = X.shape[0]\n",
    "w = np.ones(n_objects) / n_objects\n",
    "w"
   ]
  },
  {
   "cell_type": "markdown",
   "metadata": {
    "id": "0X9EilDubsjL"
   },
   "source": [
    "__2.__ Для каждого из $N$ деревьев в ансамбле:\n",
    "\n",
    "- находим классификатор $b_{n}$, который минимизирует взвешенную ошибку классификации\n",
    "\n",
    "$$b_{n} = \\underset{b}{\\text{argmin}}\\;\\varepsilon_{j},$$\n",
    "\n",
    "    где \n",
    "\n",
    "$$\\varepsilon_{j} = \\sum_{i=1}^{l}D_{n}(i)[y_{i}\\neq b_{j}(x)]$$"
   ]
  },
  {
   "cell_type": "code",
   "execution_count": 40,
   "metadata": {},
   "outputs": [
    {
     "ename": "AttributeError",
     "evalue": "'numpy.ndarray' object has no attribute 'columns'",
     "output_type": "error",
     "traceback": [
      "\u001b[1;31m---------------------------------------------------------------------------\u001b[0m",
      "\u001b[1;31mAttributeError\u001b[0m                            Traceback (most recent call last)",
      "\u001b[1;32m<ipython-input-40-8870fbbdc345>\u001b[0m in \u001b[0;36m<module>\u001b[1;34m\u001b[0m\n\u001b[0;32m      3\u001b[0m \u001b[1;33m\u001b[0m\u001b[0m\n\u001b[0;32m      4\u001b[0m \u001b[0mpred\u001b[0m \u001b[1;33m=\u001b[0m \u001b[0mstump1\u001b[0m\u001b[1;33m.\u001b[0m\u001b[0mpredict\u001b[0m\u001b[1;33m(\u001b[0m\u001b[0mX\u001b[0m\u001b[1;33m)\u001b[0m\u001b[1;33m\u001b[0m\u001b[1;33m\u001b[0m\u001b[0m\n\u001b[1;32m----> 5\u001b[1;33m \u001b[0mplot_tree\u001b[0m\u001b[1;33m(\u001b[0m\u001b[0mstump1\u001b[0m\u001b[1;33m,\u001b[0m \u001b[0mfeature_names\u001b[0m\u001b[1;33m=\u001b[0m\u001b[0mX\u001b[0m\u001b[1;33m.\u001b[0m\u001b[0mcolumns\u001b[0m\u001b[1;33m)\u001b[0m\u001b[1;33m;\u001b[0m\u001b[1;33m\u001b[0m\u001b[1;33m\u001b[0m\u001b[0m\n\u001b[0m",
      "\u001b[1;31mAttributeError\u001b[0m: 'numpy.ndarray' object has no attribute 'columns'"
     ]
    }
   ],
   "source": [
    "stump1 = DecisionTreeClassifier(max_depth=1, random_state=1)\n",
    "stump1.fit(X, y, sample_weight=w)\n",
    "\n",
    "pred = stump1.predict(X)\n",
    "plot_tree(stump1, feature_names=X.columns);"
   ]
  },
  {
   "cell_type": "code",
   "execution_count": 41,
   "metadata": {},
   "outputs": [
    {
     "data": {
      "text/plain": [
       "array([ True,  True,  True, False,  True, False,  True,  True, False,\n",
       "       False,  True,  True,  True,  True, False,  True,  True,  True,\n",
       "        True,  True,  True,  True,  True,  True,  True,  True,  True,\n",
       "        True,  True,  True,  True,  True,  True,  True,  True,  True,\n",
       "       False,  True, False, False, False, False,  True,  True, False,\n",
       "        True,  True, False,  True,  True,  True,  True,  True,  True,\n",
       "        True,  True,  True,  True,  True,  True,  True,  True,  True,\n",
       "        True,  True,  True,  True,  True,  True,  True,  True,  True,\n",
       "        True, False,  True,  True,  True,  True,  True,  True,  True,\n",
       "        True,  True,  True,  True,  True, False,  True,  True,  True,\n",
       "        True, False,  True,  True,  True,  True,  True,  True,  True,\n",
       "       False,  True,  True,  True,  True,  True, False,  True,  True,\n",
       "        True,  True,  True,  True,  True,  True,  True,  True,  True,\n",
       "        True,  True,  True,  True,  True,  True,  True,  True,  True,\n",
       "        True,  True,  True,  True,  True,  True,  True, False,  True,\n",
       "       False,  True,  True,  True,  True,  True,  True,  True,  True,\n",
       "        True,  True, False,  True,  True,  True,  True,  True,  True,\n",
       "        True,  True,  True,  True, False,  True,  True,  True,  True,\n",
       "        True,  True,  True,  True,  True,  True,  True,  True,  True,\n",
       "        True,  True,  True,  True,  True,  True,  True,  True,  True,\n",
       "        True,  True,  True,  True,  True,  True,  True,  True,  True,\n",
       "        True, False,  True,  True, False, False,  True, False,  True,\n",
       "        True,  True,  True,  True,  True,  True,  True,  True,  True,\n",
       "        True,  True, False,  True,  True,  True,  True,  True, False,\n",
       "        True,  True,  True,  True,  True,  True,  True,  True,  True,\n",
       "        True,  True,  True,  True, False,  True,  True,  True,  True,\n",
       "        True,  True,  True,  True,  True,  True,  True,  True,  True,\n",
       "        True,  True,  True,  True,  True,  True,  True,  True,  True,\n",
       "        True,  True,  True, False,  True,  True,  True,  True,  True,\n",
       "        True,  True,  True,  True,  True,  True,  True,  True,  True,\n",
       "        True,  True,  True,  True,  True,  True,  True,  True,  True,\n",
       "        True,  True,  True,  True,  True,  True,  True,  True,  True,\n",
       "        True,  True,  True,  True,  True,  True,  True,  True,  True,\n",
       "       False,  True,  True,  True,  True,  True,  True,  True,  True,\n",
       "        True,  True,  True,  True,  True,  True,  True,  True,  True,\n",
       "        True,  True,  True,  True,  True,  True,  True,  True,  True,\n",
       "        True,  True,  True,  True,  True,  True,  True,  True,  True,\n",
       "        True,  True,  True,  True,  True,  True,  True,  True,  True,\n",
       "        True,  True,  True,  True,  True, False,  True,  True,  True,\n",
       "        True,  True,  True,  True,  True,  True,  True,  True,  True,\n",
       "        True,  True,  True, False,  True,  True,  True,  True,  True,\n",
       "        True,  True,  True,  True,  True,  True, False,  True,  True,\n",
       "        True, False,  True,  True,  True,  True,  True, False,  True,\n",
       "        True,  True,  True,  True,  True,  True,  True,  True,  True,\n",
       "        True,  True,  True,  True,  True,  True,  True,  True,  True,\n",
       "        True, False,  True,  True,  True,  True,  True,  True,  True,\n",
       "        True,  True,  True,  True,  True,  True,  True,  True,  True,\n",
       "        True,  True,  True,  True,  True,  True,  True, False,  True,\n",
       "        True,  True,  True,  True,  True,  True,  True,  True,  True,\n",
       "        True,  True,  True,  True,  True,  True,  True,  True,  True,\n",
       "        True,  True,  True,  True,  True,  True,  True,  True,  True,\n",
       "        True,  True,  True,  True,  True,  True,  True,  True,  True,\n",
       "        True,  True,  True,  True, False,  True,  True,  True,  True,\n",
       "        True,  True,  True,  True,  True,  True,  True, False,  True,\n",
       "        True,  True,  True,  True,  True, False,  True,  True,  True,\n",
       "        True,  True,  True,  True,  True,  True, False,  True,  True,\n",
       "        True,  True,  True,  True, False,  True,  True,  True, False,\n",
       "        True,  True,  True,  True,  True,  True,  True,  True,  True,\n",
       "        True,  True,  True,  True,  True,  True,  True,  True,  True,\n",
       "        True,  True,  True,  True,  True, False,  True,  True,  True,\n",
       "        True,  True,  True,  True,  True,  True,  True,  True,  True,\n",
       "        True,  True,  True,  True,  True,  True,  True,  True,  True,\n",
       "        True,  True,  True,  True,  True,  True,  True,  True,  True,\n",
       "        True,  True])"
      ]
     },
     "execution_count": 41,
     "metadata": {},
     "output_type": "execute_result"
    }
   ],
   "source": [
    "pred == y"
   ]
  },
  {
   "cell_type": "code",
   "execution_count": 42,
   "metadata": {},
   "outputs": [
    {
     "data": {
      "text/plain": [
       "0.0773286467486819"
      ]
     },
     "execution_count": 42,
     "metadata": {},
     "output_type": "execute_result"
    }
   ],
   "source": [
    "error1 = sum(pred != y) / len(y)\n",
    "error1"
   ]
  },
  {
   "cell_type": "markdown",
   "metadata": {},
   "source": [
    "- критерием остановки является значение $\\varepsilon_{j} \\geq 0.5$. При таком значении ошибки нужно выбрать другой классификатор и продолжить.\n",
    "\n",
    "- выбираем вес для дерева $\\alpha_{n}$ по формуле\n",
    "\n",
    "$$\\alpha_{n} = \\frac{1}{2}\\text{ln}\\frac{1 - \\varepsilon_{n}}{\\varepsilon_{n}}$$\n"
   ]
  },
  {
   "cell_type": "code",
   "execution_count": 43,
   "metadata": {},
   "outputs": [],
   "source": [
    "def amount_of_say(x):\n",
    "    return 1/2 * np.log((1 - x) / x)"
   ]
  },
  {
   "cell_type": "code",
   "execution_count": 44,
   "metadata": {},
   "outputs": [
    {
     "name": "stderr",
     "output_type": "stream",
     "text": [
      "C:\\Users\\Maxim\\Anaconda3\\lib\\site-packages\\ipykernel_launcher.py:2: RuntimeWarning: divide by zero encountered in double_scalars\n",
      "  \n",
      "C:\\Users\\Maxim\\Anaconda3\\lib\\site-packages\\ipykernel_launcher.py:2: RuntimeWarning: divide by zero encountered in log\n",
      "  \n"
     ]
    },
    {
     "data": {
      "image/png": "[encoded data removed]",
      "text/plain": [
       "<Figure size 432x288 with 1 Axes>"
      ]
     },
     "metadata": {
      "needs_background": "light"
     },
     "output_type": "display_data"
    }
   ],
   "source": [
    "dots = np.linspace(0, 1, 1000)\n",
    "amount_of_say_value = list(map(amount_of_say, dots))\n",
    "\n",
    "plt.xlabel('error')\n",
    "plt.ylabel('amount_of_say(error)')\n",
    "plt.grid()\n",
    "plt.plot(dots, amount_of_say_value);"
   ]
  },
  {
   "cell_type": "markdown",
   "metadata": {},
   "source": [
    "**Получим вес для пня**"
   ]
  },
  {
   "cell_type": "code",
   "execution_count": 45,
   "metadata": {},
   "outputs": [
    {
     "data": {
      "text/plain": [
       "1.2396043143366813"
      ]
     },
     "execution_count": 45,
     "metadata": {},
     "output_type": "execute_result"
    }
   ],
   "source": [
    "alpha1 = 1/2 * np.log((1 - error1) / error1)\n",
    "alpha1"
   ]
  },
  {
   "cell_type": "markdown",
   "metadata": {},
   "source": [
    "- обновляем веса при объектах:\n",
    "$$D_i = D_{i-1}e^{\\alpha_i} - \\text{изменение веса одного объекта при неверной классификации} $$"
   ]
  },
  {
   "cell_type": "code",
   "execution_count": 46,
   "metadata": {},
   "outputs": [],
   "source": [
    "def new_sample_weight(x):\n",
    "    return np.exp(x)"
   ]
  },
  {
   "cell_type": "code",
   "execution_count": 47,
   "metadata": {},
   "outputs": [
    {
     "data": {
      "image/png": "[encoded data removed]",
      "text/plain": [
       "<Figure size 432x288 with 1 Axes>"
      ]
     },
     "metadata": {
      "needs_background": "light"
     },
     "output_type": "display_data"
    }
   ],
   "source": [
    "dots = np.linspace(0, 3.5, 1000)\n",
    "new_sample_weight_value = list(map(new_sample_weight, dots))\n",
    "\n",
    "plt.xlabel('amount of say')\n",
    "plt.ylabel('new_sample_weight')\n",
    "plt.grid()\n",
    "plt.plot(dots, new_sample_weight_value);"
   ]
  },
  {
   "cell_type": "markdown",
   "metadata": {},
   "source": [
    "Если пень сделал не очень хорошую классификацию, то вес объекта станет немного больше, если пень сделал хорошую классификацию, то вес объекта станет больше."
   ]
  },
  {
   "cell_type": "markdown",
   "metadata": {},
   "source": [
    "**Меняем вес неверное классифицированного объекта**"
   ]
  },
  {
   "cell_type": "code",
   "execution_count": 48,
   "metadata": {},
   "outputs": [
    {
     "data": {
      "text/plain": [
       "array([0.00175747, 0.00175747, 0.00175747, 0.00607073, 0.00175747,\n",
       "       0.00607073, 0.00175747, 0.00175747, 0.00607073, 0.00607073,\n",
       "       0.00175747, 0.00175747, 0.00175747, 0.00175747, 0.00607073,\n",
       "       0.00175747, 0.00175747, 0.00175747, 0.00175747, 0.00175747,\n",
       "       0.00175747, 0.00175747, 0.00175747, 0.00175747, 0.00175747,\n",
       "       0.00175747, 0.00175747, 0.00175747, 0.00175747, 0.00175747,\n",
       "       0.00175747, 0.00175747, 0.00175747, 0.00175747, 0.00175747,\n",
       "       0.00175747, 0.00607073, 0.00175747, 0.00607073, 0.00607073,\n",
       "       0.00607073, 0.00607073, 0.00175747, 0.00175747, 0.00607073,\n",
       "       0.00175747, 0.00175747, 0.00607073, 0.00175747, 0.00175747,\n",
       "       0.00175747, 0.00175747, 0.00175747, 0.00175747, 0.00175747,\n",
       "       0.00175747, 0.00175747, 0.00175747, 0.00175747, 0.00175747,\n",
       "       0.00175747, 0.00175747, 0.00175747, 0.00175747, 0.00175747,\n",
       "       0.00175747, 0.00175747, 0.00175747, 0.00175747, 0.00175747,\n",
       "       0.00175747, 0.00175747, 0.00175747, 0.00607073, 0.00175747,\n",
       "       0.00175747, 0.00175747, 0.00175747, 0.00175747, 0.00175747,\n",
       "       0.00175747, 0.00175747, 0.00175747, 0.00175747, 0.00175747,\n",
       "       0.00175747, 0.00607073, 0.00175747, 0.00175747, 0.00175747,\n",
       "       0.00175747, 0.00607073, 0.00175747, 0.00175747, 0.00175747,\n",
       "       0.00175747, 0.00175747, 0.00175747, 0.00175747, 0.00607073,\n",
       "       0.00175747, 0.00175747, 0.00175747, 0.00175747, 0.00175747,\n",
       "       0.00607073, 0.00175747, 0.00175747, 0.00175747, 0.00175747,\n",
       "       0.00175747, 0.00175747, 0.00175747, 0.00175747, 0.00175747,\n",
       "       0.00175747, 0.00175747, 0.00175747, 0.00175747, 0.00175747,\n",
       "       0.00175747, 0.00175747, 0.00175747, 0.00175747, 0.00175747,\n",
       "       0.00175747, 0.00175747, 0.00175747, 0.00175747, 0.00175747,\n",
       "       0.00175747, 0.00175747, 0.00175747, 0.00607073, 0.00175747,\n",
       "       0.00607073, 0.00175747, 0.00175747, 0.00175747, 0.00175747,\n",
       "       0.00175747, 0.00175747, 0.00175747, 0.00175747, 0.00175747,\n",
       "       0.00175747, 0.00607073, 0.00175747, 0.00175747, 0.00175747,\n",
       "       0.00175747, 0.00175747, 0.00175747, 0.00175747, 0.00175747,\n",
       "       0.00175747, 0.00175747, 0.00607073, 0.00175747, 0.00175747,\n",
       "       0.00175747, 0.00175747, 0.00175747, 0.00175747, 0.00175747,\n",
       "       0.00175747, 0.00175747, 0.00175747, 0.00175747, 0.00175747,\n",
       "       0.00175747, 0.00175747, 0.00175747, 0.00175747, 0.00175747,\n",
       "       0.00175747, 0.00175747, 0.00175747, 0.00175747, 0.00175747,\n",
       "       0.00175747, 0.00175747, 0.00175747, 0.00175747, 0.00175747,\n",
       "       0.00175747, 0.00175747, 0.00175747, 0.00175747, 0.00175747,\n",
       "       0.00607073, 0.00175747, 0.00175747, 0.00607073, 0.00607073,\n",
       "       0.00175747, 0.00607073, 0.00175747, 0.00175747, 0.00175747,\n",
       "       0.00175747, 0.00175747, 0.00175747, 0.00175747, 0.00175747,\n",
       "       0.00175747, 0.00175747, 0.00175747, 0.00175747, 0.00607073,\n",
       "       0.00175747, 0.00175747, 0.00175747, 0.00175747, 0.00175747,\n",
       "       0.00607073, 0.00175747, 0.00175747, 0.00175747, 0.00175747,\n",
       "       0.00175747, 0.00175747, 0.00175747, 0.00175747, 0.00175747,\n",
       "       0.00175747, 0.00175747, 0.00175747, 0.00175747, 0.00607073,\n",
       "       0.00175747, 0.00175747, 0.00175747, 0.00175747, 0.00175747,\n",
       "       0.00175747, 0.00175747, 0.00175747, 0.00175747, 0.00175747,\n",
       "       0.00175747, 0.00175747, 0.00175747, 0.00175747, 0.00175747,\n",
       "       0.00175747, 0.00175747, 0.00175747, 0.00175747, 0.00175747,\n",
       "       0.00175747, 0.00175747, 0.00175747, 0.00175747, 0.00175747,\n",
       "       0.00607073, 0.00175747, 0.00175747, 0.00175747, 0.00175747,\n",
       "       0.00175747, 0.00175747, 0.00175747, 0.00175747, 0.00175747,\n",
       "       0.00175747, 0.00175747, 0.00175747, 0.00175747, 0.00175747,\n",
       "       0.00175747, 0.00175747, 0.00175747, 0.00175747, 0.00175747,\n",
       "       0.00175747, 0.00175747, 0.00175747, 0.00175747, 0.00175747,\n",
       "       0.00175747, 0.00175747, 0.00175747, 0.00175747, 0.00175747,\n",
       "       0.00175747, 0.00175747, 0.00175747, 0.00175747, 0.00175747,\n",
       "       0.00175747, 0.00175747, 0.00175747, 0.00175747, 0.00175747,\n",
       "       0.00175747, 0.00175747, 0.00607073, 0.00175747, 0.00175747,\n",
       "       0.00175747, 0.00175747, 0.00175747, 0.00175747, 0.00175747,\n",
       "       0.00175747, 0.00175747, 0.00175747, 0.00175747, 0.00175747,\n",
       "       0.00175747, 0.00175747, 0.00175747, 0.00175747, 0.00175747,\n",
       "       0.00175747, 0.00175747, 0.00175747, 0.00175747, 0.00175747,\n",
       "       0.00175747, 0.00175747, 0.00175747, 0.00175747, 0.00175747,\n",
       "       0.00175747, 0.00175747, 0.00175747, 0.00175747, 0.00175747,\n",
       "       0.00175747, 0.00175747, 0.00175747, 0.00175747, 0.00175747,\n",
       "       0.00175747, 0.00175747, 0.00175747, 0.00175747, 0.00175747,\n",
       "       0.00175747, 0.00175747, 0.00175747, 0.00175747, 0.00175747,\n",
       "       0.00175747, 0.00175747, 0.00607073, 0.00175747, 0.00175747,\n",
       "       0.00175747, 0.00175747, 0.00175747, 0.00175747, 0.00175747,\n",
       "       0.00175747, 0.00175747, 0.00175747, 0.00175747, 0.00175747,\n",
       "       0.00175747, 0.00175747, 0.00175747, 0.00607073, 0.00175747,\n",
       "       0.00175747, 0.00175747, 0.00175747, 0.00175747, 0.00175747,\n",
       "       0.00175747, 0.00175747, 0.00175747, 0.00175747, 0.00175747,\n",
       "       0.00607073, 0.00175747, 0.00175747, 0.00175747, 0.00607073,\n",
       "       0.00175747, 0.00175747, 0.00175747, 0.00175747, 0.00175747,\n",
       "       0.00607073, 0.00175747, 0.00175747, 0.00175747, 0.00175747,\n",
       "       0.00175747, 0.00175747, 0.00175747, 0.00175747, 0.00175747,\n",
       "       0.00175747, 0.00175747, 0.00175747, 0.00175747, 0.00175747,\n",
       "       0.00175747, 0.00175747, 0.00175747, 0.00175747, 0.00175747,\n",
       "       0.00175747, 0.00607073, 0.00175747, 0.00175747, 0.00175747,\n",
       "       0.00175747, 0.00175747, 0.00175747, 0.00175747, 0.00175747,\n",
       "       0.00175747, 0.00175747, 0.00175747, 0.00175747, 0.00175747,\n",
       "       0.00175747, 0.00175747, 0.00175747, 0.00175747, 0.00175747,\n",
       "       0.00175747, 0.00175747, 0.00175747, 0.00175747, 0.00175747,\n",
       "       0.00607073, 0.00175747, 0.00175747, 0.00175747, 0.00175747,\n",
       "       0.00175747, 0.00175747, 0.00175747, 0.00175747, 0.00175747,\n",
       "       0.00175747, 0.00175747, 0.00175747, 0.00175747, 0.00175747,\n",
       "       0.00175747, 0.00175747, 0.00175747, 0.00175747, 0.00175747,\n",
       "       0.00175747, 0.00175747, 0.00175747, 0.00175747, 0.00175747,\n",
       "       0.00175747, 0.00175747, 0.00175747, 0.00175747, 0.00175747,\n",
       "       0.00175747, 0.00175747, 0.00175747, 0.00175747, 0.00175747,\n",
       "       0.00175747, 0.00175747, 0.00175747, 0.00175747, 0.00175747,\n",
       "       0.00175747, 0.00175747, 0.00607073, 0.00175747, 0.00175747,\n",
       "       0.00175747, 0.00175747, 0.00175747, 0.00175747, 0.00175747,\n",
       "       0.00175747, 0.00175747, 0.00175747, 0.00175747, 0.00607073,\n",
       "       0.00175747, 0.00175747, 0.00175747, 0.00175747, 0.00175747,\n",
       "       0.00175747, 0.00607073, 0.00175747, 0.00175747, 0.00175747,\n",
       "       0.00175747, 0.00175747, 0.00175747, 0.00175747, 0.00175747,\n",
       "       0.00175747, 0.00607073, 0.00175747, 0.00175747, 0.00175747,\n",
       "       0.00175747, 0.00175747, 0.00175747, 0.00607073, 0.00175747,\n",
       "       0.00175747, 0.00175747, 0.00607073, 0.00175747, 0.00175747,\n",
       "       0.00175747, 0.00175747, 0.00175747, 0.00175747, 0.00175747,\n",
       "       0.00175747, 0.00175747, 0.00175747, 0.00175747, 0.00175747,\n",
       "       0.00175747, 0.00175747, 0.00175747, 0.00175747, 0.00175747,\n",
       "       0.00175747, 0.00175747, 0.00175747, 0.00175747, 0.00175747,\n",
       "       0.00175747, 0.00607073, 0.00175747, 0.00175747, 0.00175747,\n",
       "       0.00175747, 0.00175747, 0.00175747, 0.00175747, 0.00175747,\n",
       "       0.00175747, 0.00175747, 0.00175747, 0.00175747, 0.00175747,\n",
       "       0.00175747, 0.00175747, 0.00175747, 0.00175747, 0.00175747,\n",
       "       0.00175747, 0.00175747, 0.00175747, 0.00175747, 0.00175747,\n",
       "       0.00175747, 0.00175747, 0.00175747, 0.00175747, 0.00175747,\n",
       "       0.00175747, 0.00175747, 0.00175747, 0.00175747])"
      ]
     },
     "execution_count": 48,
     "metadata": {},
     "output_type": "execute_result"
    }
   ],
   "source": [
    "wrong_mask = pred != y\n",
    "w[wrong_mask] = w[wrong_mask] * np.exp(alpha1)\n",
    "w"
   ]
  },
  {
   "cell_type": "markdown",
   "metadata": {},
   "source": [
    "$$D_i = D_{i-1}e^{-\\alpha_i} - \\text{изменение веса одного объекта при верной классификации} $$"
   ]
  },
  {
   "cell_type": "code",
   "execution_count": 49,
   "metadata": {},
   "outputs": [],
   "source": [
    "def new_sample_weight(x):\n",
    "    return np.exp(-x)"
   ]
  },
  {
   "cell_type": "code",
   "execution_count": 50,
   "metadata": {},
   "outputs": [
    {
     "data": {
      "image/png": "[encoded data removed]",
      "text/plain": [
       "<Figure size 432x288 with 1 Axes>"
      ]
     },
     "metadata": {
      "needs_background": "light"
     },
     "output_type": "display_data"
    }
   ],
   "source": [
    "dots = np.linspace(0, 3.5, 1000)\n",
    "new_sample_weight_value = list(map(new_sample_weight, dots))\n",
    "\n",
    "plt.xlabel('amount of say')\n",
    "plt.ylabel('new_sample_weight')\n",
    "plt.grid()\n",
    "plt.plot(dots, new_sample_weight_value);"
   ]
  },
  {
   "cell_type": "markdown",
   "metadata": {},
   "source": [
    "Если пень сделал не очень хорошую классификацию, то вес объекта станет меньше, если пень сделал хорошую классификацию, то вес объекта станет немного меньше.\n",
    "\n",
    "То есть, те объекты, которые хорошо классифицируются будут иметь меньший вес, чем те, на которых классификатор ошибается."
   ]
  },
  {
   "cell_type": "markdown",
   "metadata": {},
   "source": [
    "**Меняем веса верно классифицированных объектов**"
   ]
  },
  {
   "cell_type": "code",
   "execution_count": 51,
   "metadata": {},
   "outputs": [
    {
     "data": {
      "text/plain": [
       "array([0.00050879, 0.00050879, 0.00050879, 0.00607073, 0.00050879,\n",
       "       0.00607073, 0.00050879, 0.00050879, 0.00607073, 0.00607073,\n",
       "       0.00050879, 0.00050879, 0.00050879, 0.00050879, 0.00607073,\n",
       "       0.00050879, 0.00050879, 0.00050879, 0.00050879, 0.00050879,\n",
       "       0.00050879, 0.00050879, 0.00050879, 0.00050879, 0.00050879,\n",
       "       0.00050879, 0.00050879, 0.00050879, 0.00050879, 0.00050879,\n",
       "       0.00050879, 0.00050879, 0.00050879, 0.00050879, 0.00050879,\n",
       "       0.00050879, 0.00607073, 0.00050879, 0.00607073, 0.00607073,\n",
       "       0.00607073, 0.00607073, 0.00050879, 0.00050879, 0.00607073,\n",
       "       0.00050879, 0.00050879, 0.00607073, 0.00050879, 0.00050879,\n",
       "       0.00050879, 0.00050879, 0.00050879, 0.00050879, 0.00050879,\n",
       "       0.00050879, 0.00050879, 0.00050879, 0.00050879, 0.00050879,\n",
       "       0.00050879, 0.00050879, 0.00050879, 0.00050879, 0.00050879,\n",
       "       0.00050879, 0.00050879, 0.00050879, 0.00050879, 0.00050879,\n",
       "       0.00050879, 0.00050879, 0.00050879, 0.00607073, 0.00050879,\n",
       "       0.00050879, 0.00050879, 0.00050879, 0.00050879, 0.00050879,\n",
       "       0.00050879, 0.00050879, 0.00050879, 0.00050879, 0.00050879,\n",
       "       0.00050879, 0.00607073, 0.00050879, 0.00050879, 0.00050879,\n",
       "       0.00050879, 0.00607073, 0.00050879, 0.00050879, 0.00050879,\n",
       "       0.00050879, 0.00050879, 0.00050879, 0.00050879, 0.00607073,\n",
       "       0.00050879, 0.00050879, 0.00050879, 0.00050879, 0.00050879,\n",
       "       0.00607073, 0.00050879, 0.00050879, 0.00050879, 0.00050879,\n",
       "       0.00050879, 0.00050879, 0.00050879, 0.00050879, 0.00050879,\n",
       "       0.00050879, 0.00050879, 0.00050879, 0.00050879, 0.00050879,\n",
       "       0.00050879, 0.00050879, 0.00050879, 0.00050879, 0.00050879,\n",
       "       0.00050879, 0.00050879, 0.00050879, 0.00050879, 0.00050879,\n",
       "       0.00050879, 0.00050879, 0.00050879, 0.00607073, 0.00050879,\n",
       "       0.00607073, 0.00050879, 0.00050879, 0.00050879, 0.00050879,\n",
       "       0.00050879, 0.00050879, 0.00050879, 0.00050879, 0.00050879,\n",
       "       0.00050879, 0.00607073, 0.00050879, 0.00050879, 0.00050879,\n",
       "       0.00050879, 0.00050879, 0.00050879, 0.00050879, 0.00050879,\n",
       "       0.00050879, 0.00050879, 0.00607073, 0.00050879, 0.00050879,\n",
       "       0.00050879, 0.00050879, 0.00050879, 0.00050879, 0.00050879,\n",
       "       0.00050879, 0.00050879, 0.00050879, 0.00050879, 0.00050879,\n",
       "       0.00050879, 0.00050879, 0.00050879, 0.00050879, 0.00050879,\n",
       "       0.00050879, 0.00050879, 0.00050879, 0.00050879, 0.00050879,\n",
       "       0.00050879, 0.00050879, 0.00050879, 0.00050879, 0.00050879,\n",
       "       0.00050879, 0.00050879, 0.00050879, 0.00050879, 0.00050879,\n",
       "       0.00607073, 0.00050879, 0.00050879, 0.00607073, 0.00607073,\n",
       "       0.00050879, 0.00607073, 0.00050879, 0.00050879, 0.00050879,\n",
       "       0.00050879, 0.00050879, 0.00050879, 0.00050879, 0.00050879,\n",
       "       0.00050879, 0.00050879, 0.00050879, 0.00050879, 0.00607073,\n",
       "       0.00050879, 0.00050879, 0.00050879, 0.00050879, 0.00050879,\n",
       "       0.00607073, 0.00050879, 0.00050879, 0.00050879, 0.00050879,\n",
       "       0.00050879, 0.00050879, 0.00050879, 0.00050879, 0.00050879,\n",
       "       0.00050879, 0.00050879, 0.00050879, 0.00050879, 0.00607073,\n",
       "       0.00050879, 0.00050879, 0.00050879, 0.00050879, 0.00050879,\n",
       "       0.00050879, 0.00050879, 0.00050879, 0.00050879, 0.00050879,\n",
       "       0.00050879, 0.00050879, 0.00050879, 0.00050879, 0.00050879,\n",
       "       0.00050879, 0.00050879, 0.00050879, 0.00050879, 0.00050879,\n",
       "       0.00050879, 0.00050879, 0.00050879, 0.00050879, 0.00050879,\n",
       "       0.00607073, 0.00050879, 0.00050879, 0.00050879, 0.00050879,\n",
       "       0.00050879, 0.00050879, 0.00050879, 0.00050879, 0.00050879,\n",
       "       0.00050879, 0.00050879, 0.00050879, 0.00050879, 0.00050879,\n",
       "       0.00050879, 0.00050879, 0.00050879, 0.00050879, 0.00050879,\n",
       "       0.00050879, 0.00050879, 0.00050879, 0.00050879, 0.00050879,\n",
       "       0.00050879, 0.00050879, 0.00050879, 0.00050879, 0.00050879,\n",
       "       0.00050879, 0.00050879, 0.00050879, 0.00050879, 0.00050879,\n",
       "       0.00050879, 0.00050879, 0.00050879, 0.00050879, 0.00050879,\n",
       "       0.00050879, 0.00050879, 0.00607073, 0.00050879, 0.00050879,\n",
       "       0.00050879, 0.00050879, 0.00050879, 0.00050879, 0.00050879,\n",
       "       0.00050879, 0.00050879, 0.00050879, 0.00050879, 0.00050879,\n",
       "       0.00050879, 0.00050879, 0.00050879, 0.00050879, 0.00050879,\n",
       "       0.00050879, 0.00050879, 0.00050879, 0.00050879, 0.00050879,\n",
       "       0.00050879, 0.00050879, 0.00050879, 0.00050879, 0.00050879,\n",
       "       0.00050879, 0.00050879, 0.00050879, 0.00050879, 0.00050879,\n",
       "       0.00050879, 0.00050879, 0.00050879, 0.00050879, 0.00050879,\n",
       "       0.00050879, 0.00050879, 0.00050879, 0.00050879, 0.00050879,\n",
       "       0.00050879, 0.00050879, 0.00050879, 0.00050879, 0.00050879,\n",
       "       0.00050879, 0.00050879, 0.00607073, 0.00050879, 0.00050879,\n",
       "       0.00050879, 0.00050879, 0.00050879, 0.00050879, 0.00050879,\n",
       "       0.00050879, 0.00050879, 0.00050879, 0.00050879, 0.00050879,\n",
       "       0.00050879, 0.00050879, 0.00050879, 0.00607073, 0.00050879,\n",
       "       0.00050879, 0.00050879, 0.00050879, 0.00050879, 0.00050879,\n",
       "       0.00050879, 0.00050879, 0.00050879, 0.00050879, 0.00050879,\n",
       "       0.00607073, 0.00050879, 0.00050879, 0.00050879, 0.00607073,\n",
       "       0.00050879, 0.00050879, 0.00050879, 0.00050879, 0.00050879,\n",
       "       0.00607073, 0.00050879, 0.00050879, 0.00050879, 0.00050879,\n",
       "       0.00050879, 0.00050879, 0.00050879, 0.00050879, 0.00050879,\n",
       "       0.00050879, 0.00050879, 0.00050879, 0.00050879, 0.00050879,\n",
       "       0.00050879, 0.00050879, 0.00050879, 0.00050879, 0.00050879,\n",
       "       0.00050879, 0.00607073, 0.00050879, 0.00050879, 0.00050879,\n",
       "       0.00050879, 0.00050879, 0.00050879, 0.00050879, 0.00050879,\n",
       "       0.00050879, 0.00050879, 0.00050879, 0.00050879, 0.00050879,\n",
       "       0.00050879, 0.00050879, 0.00050879, 0.00050879, 0.00050879,\n",
       "       0.00050879, 0.00050879, 0.00050879, 0.00050879, 0.00050879,\n",
       "       0.00607073, 0.00050879, 0.00050879, 0.00050879, 0.00050879,\n",
       "       0.00050879, 0.00050879, 0.00050879, 0.00050879, 0.00050879,\n",
       "       0.00050879, 0.00050879, 0.00050879, 0.00050879, 0.00050879,\n",
       "       0.00050879, 0.00050879, 0.00050879, 0.00050879, 0.00050879,\n",
       "       0.00050879, 0.00050879, 0.00050879, 0.00050879, 0.00050879,\n",
       "       0.00050879, 0.00050879, 0.00050879, 0.00050879, 0.00050879,\n",
       "       0.00050879, 0.00050879, 0.00050879, 0.00050879, 0.00050879,\n",
       "       0.00050879, 0.00050879, 0.00050879, 0.00050879, 0.00050879,\n",
       "       0.00050879, 0.00050879, 0.00607073, 0.00050879, 0.00050879,\n",
       "       0.00050879, 0.00050879, 0.00050879, 0.00050879, 0.00050879,\n",
       "       0.00050879, 0.00050879, 0.00050879, 0.00050879, 0.00607073,\n",
       "       0.00050879, 0.00050879, 0.00050879, 0.00050879, 0.00050879,\n",
       "       0.00050879, 0.00607073, 0.00050879, 0.00050879, 0.00050879,\n",
       "       0.00050879, 0.00050879, 0.00050879, 0.00050879, 0.00050879,\n",
       "       0.00050879, 0.00607073, 0.00050879, 0.00050879, 0.00050879,\n",
       "       0.00050879, 0.00050879, 0.00050879, 0.00607073, 0.00050879,\n",
       "       0.00050879, 0.00050879, 0.00607073, 0.00050879, 0.00050879,\n",
       "       0.00050879, 0.00050879, 0.00050879, 0.00050879, 0.00050879,\n",
       "       0.00050879, 0.00050879, 0.00050879, 0.00050879, 0.00050879,\n",
       "       0.00050879, 0.00050879, 0.00050879, 0.00050879, 0.00050879,\n",
       "       0.00050879, 0.00050879, 0.00050879, 0.00050879, 0.00050879,\n",
       "       0.00050879, 0.00607073, 0.00050879, 0.00050879, 0.00050879,\n",
       "       0.00050879, 0.00050879, 0.00050879, 0.00050879, 0.00050879,\n",
       "       0.00050879, 0.00050879, 0.00050879, 0.00050879, 0.00050879,\n",
       "       0.00050879, 0.00050879, 0.00050879, 0.00050879, 0.00050879,\n",
       "       0.00050879, 0.00050879, 0.00050879, 0.00050879, 0.00050879,\n",
       "       0.00050879, 0.00050879, 0.00050879, 0.00050879, 0.00050879,\n",
       "       0.00050879, 0.00050879, 0.00050879, 0.00050879])"
      ]
     },
     "execution_count": 51,
     "metadata": {},
     "output_type": "execute_result"
    }
   ],
   "source": [
    "w[~wrong_mask] = w[~wrong_mask] * np.exp(-alpha1)\n",
    "w"
   ]
  },
  {
   "cell_type": "code",
   "execution_count": 52,
   "metadata": {},
   "outputs": [
    {
     "data": {
      "text/plain": [
       "0.5342243990710215"
      ]
     },
     "execution_count": 52,
     "metadata": {},
     "output_type": "execute_result"
    }
   ],
   "source": [
    "sum(w)"
   ]
  },
  {
   "cell_type": "code",
   "execution_count": 53,
   "metadata": {},
   "outputs": [],
   "source": [
    "w /= sum(w)"
   ]
  },
  {
   "cell_type": "code",
   "execution_count": 54,
   "metadata": {},
   "outputs": [
    {
     "data": {
      "text/plain": [
       "array([0.00095238, 0.00095238, 0.00095238, 0.01136364, 0.00095238,\n",
       "       0.01136364, 0.00095238, 0.00095238, 0.01136364, 0.01136364,\n",
       "       0.00095238, 0.00095238, 0.00095238, 0.00095238, 0.01136364,\n",
       "       0.00095238, 0.00095238, 0.00095238, 0.00095238, 0.00095238,\n",
       "       0.00095238, 0.00095238, 0.00095238, 0.00095238, 0.00095238,\n",
       "       0.00095238, 0.00095238, 0.00095238, 0.00095238, 0.00095238,\n",
       "       0.00095238, 0.00095238, 0.00095238, 0.00095238, 0.00095238,\n",
       "       0.00095238, 0.01136364, 0.00095238, 0.01136364, 0.01136364,\n",
       "       0.01136364, 0.01136364, 0.00095238, 0.00095238, 0.01136364,\n",
       "       0.00095238, 0.00095238, 0.01136364, 0.00095238, 0.00095238,\n",
       "       0.00095238, 0.00095238, 0.00095238, 0.00095238, 0.00095238,\n",
       "       0.00095238, 0.00095238, 0.00095238, 0.00095238, 0.00095238,\n",
       "       0.00095238, 0.00095238, 0.00095238, 0.00095238, 0.00095238,\n",
       "       0.00095238, 0.00095238, 0.00095238, 0.00095238, 0.00095238,\n",
       "       0.00095238, 0.00095238, 0.00095238, 0.01136364, 0.00095238,\n",
       "       0.00095238, 0.00095238, 0.00095238, 0.00095238, 0.00095238,\n",
       "       0.00095238, 0.00095238, 0.00095238, 0.00095238, 0.00095238,\n",
       "       0.00095238, 0.01136364, 0.00095238, 0.00095238, 0.00095238,\n",
       "       0.00095238, 0.01136364, 0.00095238, 0.00095238, 0.00095238,\n",
       "       0.00095238, 0.00095238, 0.00095238, 0.00095238, 0.01136364,\n",
       "       0.00095238, 0.00095238, 0.00095238, 0.00095238, 0.00095238,\n",
       "       0.01136364, 0.00095238, 0.00095238, 0.00095238, 0.00095238,\n",
       "       0.00095238, 0.00095238, 0.00095238, 0.00095238, 0.00095238,\n",
       "       0.00095238, 0.00095238, 0.00095238, 0.00095238, 0.00095238,\n",
       "       0.00095238, 0.00095238, 0.00095238, 0.00095238, 0.00095238,\n",
       "       0.00095238, 0.00095238, 0.00095238, 0.00095238, 0.00095238,\n",
       "       0.00095238, 0.00095238, 0.00095238, 0.01136364, 0.00095238,\n",
       "       0.01136364, 0.00095238, 0.00095238, 0.00095238, 0.00095238,\n",
       "       0.00095238, 0.00095238, 0.00095238, 0.00095238, 0.00095238,\n",
       "       0.00095238, 0.01136364, 0.00095238, 0.00095238, 0.00095238,\n",
       "       0.00095238, 0.00095238, 0.00095238, 0.00095238, 0.00095238,\n",
       "       0.00095238, 0.00095238, 0.01136364, 0.00095238, 0.00095238,\n",
       "       0.00095238, 0.00095238, 0.00095238, 0.00095238, 0.00095238,\n",
       "       0.00095238, 0.00095238, 0.00095238, 0.00095238, 0.00095238,\n",
       "       0.00095238, 0.00095238, 0.00095238, 0.00095238, 0.00095238,\n",
       "       0.00095238, 0.00095238, 0.00095238, 0.00095238, 0.00095238,\n",
       "       0.00095238, 0.00095238, 0.00095238, 0.00095238, 0.00095238,\n",
       "       0.00095238, 0.00095238, 0.00095238, 0.00095238, 0.00095238,\n",
       "       0.01136364, 0.00095238, 0.00095238, 0.01136364, 0.01136364,\n",
       "       0.00095238, 0.01136364, 0.00095238, 0.00095238, 0.00095238,\n",
       "       0.00095238, 0.00095238, 0.00095238, 0.00095238, 0.00095238,\n",
       "       0.00095238, 0.00095238, 0.00095238, 0.00095238, 0.01136364,\n",
       "       0.00095238, 0.00095238, 0.00095238, 0.00095238, 0.00095238,\n",
       "       0.01136364, 0.00095238, 0.00095238, 0.00095238, 0.00095238,\n",
       "       0.00095238, 0.00095238, 0.00095238, 0.00095238, 0.00095238,\n",
       "       0.00095238, 0.00095238, 0.00095238, 0.00095238, 0.01136364,\n",
       "       0.00095238, 0.00095238, 0.00095238, 0.00095238, 0.00095238,\n",
       "       0.00095238, 0.00095238, 0.00095238, 0.00095238, 0.00095238,\n",
       "       0.00095238, 0.00095238, 0.00095238, 0.00095238, 0.00095238,\n",
       "       0.00095238, 0.00095238, 0.00095238, 0.00095238, 0.00095238,\n",
       "       0.00095238, 0.00095238, 0.00095238, 0.00095238, 0.00095238,\n",
       "       0.01136364, 0.00095238, 0.00095238, 0.00095238, 0.00095238,\n",
       "       0.00095238, 0.00095238, 0.00095238, 0.00095238, 0.00095238,\n",
       "       0.00095238, 0.00095238, 0.00095238, 0.00095238, 0.00095238,\n",
       "       0.00095238, 0.00095238, 0.00095238, 0.00095238, 0.00095238,\n",
       "       0.00095238, 0.00095238, 0.00095238, 0.00095238, 0.00095238,\n",
       "       0.00095238, 0.00095238, 0.00095238, 0.00095238, 0.00095238,\n",
       "       0.00095238, 0.00095238, 0.00095238, 0.00095238, 0.00095238,\n",
       "       0.00095238, 0.00095238, 0.00095238, 0.00095238, 0.00095238,\n",
       "       0.00095238, 0.00095238, 0.01136364, 0.00095238, 0.00095238,\n",
       "       0.00095238, 0.00095238, 0.00095238, 0.00095238, 0.00095238,\n",
       "       0.00095238, 0.00095238, 0.00095238, 0.00095238, 0.00095238,\n",
       "       0.00095238, 0.00095238, 0.00095238, 0.00095238, 0.00095238,\n",
       "       0.00095238, 0.00095238, 0.00095238, 0.00095238, 0.00095238,\n",
       "       0.00095238, 0.00095238, 0.00095238, 0.00095238, 0.00095238,\n",
       "       0.00095238, 0.00095238, 0.00095238, 0.00095238, 0.00095238,\n",
       "       0.00095238, 0.00095238, 0.00095238, 0.00095238, 0.00095238,\n",
       "       0.00095238, 0.00095238, 0.00095238, 0.00095238, 0.00095238,\n",
       "       0.00095238, 0.00095238, 0.00095238, 0.00095238, 0.00095238,\n",
       "       0.00095238, 0.00095238, 0.01136364, 0.00095238, 0.00095238,\n",
       "       0.00095238, 0.00095238, 0.00095238, 0.00095238, 0.00095238,\n",
       "       0.00095238, 0.00095238, 0.00095238, 0.00095238, 0.00095238,\n",
       "       0.00095238, 0.00095238, 0.00095238, 0.01136364, 0.00095238,\n",
       "       0.00095238, 0.00095238, 0.00095238, 0.00095238, 0.00095238,\n",
       "       0.00095238, 0.00095238, 0.00095238, 0.00095238, 0.00095238,\n",
       "       0.01136364, 0.00095238, 0.00095238, 0.00095238, 0.01136364,\n",
       "       0.00095238, 0.00095238, 0.00095238, 0.00095238, 0.00095238,\n",
       "       0.01136364, 0.00095238, 0.00095238, 0.00095238, 0.00095238,\n",
       "       0.00095238, 0.00095238, 0.00095238, 0.00095238, 0.00095238,\n",
       "       0.00095238, 0.00095238, 0.00095238, 0.00095238, 0.00095238,\n",
       "       0.00095238, 0.00095238, 0.00095238, 0.00095238, 0.00095238,\n",
       "       0.00095238, 0.01136364, 0.00095238, 0.00095238, 0.00095238,\n",
       "       0.00095238, 0.00095238, 0.00095238, 0.00095238, 0.00095238,\n",
       "       0.00095238, 0.00095238, 0.00095238, 0.00095238, 0.00095238,\n",
       "       0.00095238, 0.00095238, 0.00095238, 0.00095238, 0.00095238,\n",
       "       0.00095238, 0.00095238, 0.00095238, 0.00095238, 0.00095238,\n",
       "       0.01136364, 0.00095238, 0.00095238, 0.00095238, 0.00095238,\n",
       "       0.00095238, 0.00095238, 0.00095238, 0.00095238, 0.00095238,\n",
       "       0.00095238, 0.00095238, 0.00095238, 0.00095238, 0.00095238,\n",
       "       0.00095238, 0.00095238, 0.00095238, 0.00095238, 0.00095238,\n",
       "       0.00095238, 0.00095238, 0.00095238, 0.00095238, 0.00095238,\n",
       "       0.00095238, 0.00095238, 0.00095238, 0.00095238, 0.00095238,\n",
       "       0.00095238, 0.00095238, 0.00095238, 0.00095238, 0.00095238,\n",
       "       0.00095238, 0.00095238, 0.00095238, 0.00095238, 0.00095238,\n",
       "       0.00095238, 0.00095238, 0.01136364, 0.00095238, 0.00095238,\n",
       "       0.00095238, 0.00095238, 0.00095238, 0.00095238, 0.00095238,\n",
       "       0.00095238, 0.00095238, 0.00095238, 0.00095238, 0.01136364,\n",
       "       0.00095238, 0.00095238, 0.00095238, 0.00095238, 0.00095238,\n",
       "       0.00095238, 0.01136364, 0.00095238, 0.00095238, 0.00095238,\n",
       "       0.00095238, 0.00095238, 0.00095238, 0.00095238, 0.00095238,\n",
       "       0.00095238, 0.01136364, 0.00095238, 0.00095238, 0.00095238,\n",
       "       0.00095238, 0.00095238, 0.00095238, 0.01136364, 0.00095238,\n",
       "       0.00095238, 0.00095238, 0.01136364, 0.00095238, 0.00095238,\n",
       "       0.00095238, 0.00095238, 0.00095238, 0.00095238, 0.00095238,\n",
       "       0.00095238, 0.00095238, 0.00095238, 0.00095238, 0.00095238,\n",
       "       0.00095238, 0.00095238, 0.00095238, 0.00095238, 0.00095238,\n",
       "       0.00095238, 0.00095238, 0.00095238, 0.00095238, 0.00095238,\n",
       "       0.00095238, 0.01136364, 0.00095238, 0.00095238, 0.00095238,\n",
       "       0.00095238, 0.00095238, 0.00095238, 0.00095238, 0.00095238,\n",
       "       0.00095238, 0.00095238, 0.00095238, 0.00095238, 0.00095238,\n",
       "       0.00095238, 0.00095238, 0.00095238, 0.00095238, 0.00095238,\n",
       "       0.00095238, 0.00095238, 0.00095238, 0.00095238, 0.00095238,\n",
       "       0.00095238, 0.00095238, 0.00095238, 0.00095238, 0.00095238,\n",
       "       0.00095238, 0.00095238, 0.00095238, 0.00095238])"
      ]
     },
     "execution_count": 54,
     "metadata": {},
     "output_type": "execute_result"
    }
   ],
   "source": [
    "w"
   ]
  },
  {
   "cell_type": "code",
   "execution_count": 55,
   "metadata": {},
   "outputs": [
    {
     "data": {
      "text/plain": [
       "0.9999999999999996"
      ]
     },
     "execution_count": 55,
     "metadata": {},
     "output_type": "execute_result"
    }
   ],
   "source": [
    "sum(w)"
   ]
  },
  {
   "cell_type": "markdown",
   "metadata": {},
   "source": [
    "**Обучим следующий пень**"
   ]
  },
  {
   "cell_type": "code",
   "execution_count": 56,
   "metadata": {},
   "outputs": [
    {
     "ename": "AttributeError",
     "evalue": "'numpy.ndarray' object has no attribute 'columns'",
     "output_type": "error",
     "traceback": [
      "\u001b[1;31m---------------------------------------------------------------------------\u001b[0m",
      "\u001b[1;31mAttributeError\u001b[0m                            Traceback (most recent call last)",
      "\u001b[1;32m<ipython-input-56-bfe4afd0a89f>\u001b[0m in \u001b[0;36m<module>\u001b[1;34m\u001b[0m\n\u001b[0;32m      3\u001b[0m \u001b[1;33m\u001b[0m\u001b[0m\n\u001b[0;32m      4\u001b[0m \u001b[0mpred\u001b[0m \u001b[1;33m=\u001b[0m \u001b[0mstump2\u001b[0m\u001b[1;33m.\u001b[0m\u001b[0mpredict\u001b[0m\u001b[1;33m(\u001b[0m\u001b[0mX\u001b[0m\u001b[1;33m)\u001b[0m\u001b[1;33m\u001b[0m\u001b[1;33m\u001b[0m\u001b[0m\n\u001b[1;32m----> 5\u001b[1;33m \u001b[0mplot_tree\u001b[0m\u001b[1;33m(\u001b[0m\u001b[0mstump2\u001b[0m\u001b[1;33m,\u001b[0m \u001b[0mfeature_names\u001b[0m\u001b[1;33m=\u001b[0m\u001b[0mX\u001b[0m\u001b[1;33m.\u001b[0m\u001b[0mcolumns\u001b[0m\u001b[1;33m)\u001b[0m\u001b[1;33m;\u001b[0m\u001b[1;33m\u001b[0m\u001b[1;33m\u001b[0m\u001b[0m\n\u001b[0m",
      "\u001b[1;31mAttributeError\u001b[0m: 'numpy.ndarray' object has no attribute 'columns'"
     ]
    }
   ],
   "source": [
    "stump2 = DecisionTreeClassifier(max_depth=1, random_state=1)\n",
    "stump2.fit(X, y, sample_weight=w)\n",
    "\n",
    "pred = stump2.predict(X)\n",
    "plot_tree(stump2, feature_names=X.columns);"
   ]
  },
  {
   "cell_type": "code",
   "execution_count": 57,
   "metadata": {},
   "outputs": [
    {
     "data": {
      "text/plain": [
       "array([False, False, False, False, False, False, False, False, False,\n",
       "       False,  True, False, False,  True, False, False, False, False,\n",
       "       False, False, False, False, False, False, False, False, False,\n",
       "       False, False, False, False, False, False, False, False, False,\n",
       "       False, False,  True, False,  True, False, False, False, False,\n",
       "       False, False, False, False, False, False, False, False,  True,\n",
       "       False, False, False, False, False, False, False, False, False,\n",
       "       False, False, False, False, False,  True, False, False, False,\n",
       "       False, False, False, False, False, False, False, False, False,\n",
       "        True, False, False, False, False,  True, False, False,  True,\n",
       "       False, False, False, False, False, False, False, False, False,\n",
       "       False,  True, False, False, False, False, False, False, False,\n",
       "       False, False, False, False,  True, False, False, False, False,\n",
       "       False, False,  True, False, False, False, False, False, False,\n",
       "        True,  True,  True, False, False, False,  True,  True, False,\n",
       "        True, False, False, False, False, False,  True, False, False,\n",
       "       False, False, False, False,  True, False, False, False,  True,\n",
       "       False, False, False, False, False, False, False, False, False,\n",
       "       False, False, False, False, False, False, False, False, False,\n",
       "        True, False, False, False, False, False, False, False, False,\n",
       "       False, False, False, False,  True, False, False, False, False,\n",
       "       False, False, False, False, False, False, False, False,  True,\n",
       "       False, False, False, False, False, False, False,  True, False,\n",
       "        True, False, False, False, False, False,  True, False, False,\n",
       "       False, False, False, False, False, False, False, False, False,\n",
       "       False, False,  True, False, False, False, False, False, False,\n",
       "       False, False, False, False, False, False, False, False, False,\n",
       "       False, False, False, False,  True, False, False, False, False,\n",
       "       False, False, False, False, False, False, False, False, False,\n",
       "        True, False,  True, False, False, False, False, False, False,\n",
       "       False, False, False, False,  True, False, False,  True, False,\n",
       "       False, False, False, False, False, False, False, False, False,\n",
       "       False, False, False,  True, False, False, False, False, False,\n",
       "        True, False, False, False, False, False, False, False, False,\n",
       "       False, False, False, False, False, False, False, False, False,\n",
       "       False, False, False, False, False, False, False, False, False,\n",
       "       False, False, False, False, False,  True, False, False, False,\n",
       "       False, False, False, False, False, False, False,  True, False,\n",
       "       False, False, False, False, False, False, False, False, False,\n",
       "       False, False, False, False, False, False, False, False, False,\n",
       "       False, False, False, False, False, False, False, False, False,\n",
       "       False, False, False, False, False, False, False,  True, False,\n",
       "       False, False, False, False, False, False, False, False, False,\n",
       "       False, False, False, False, False, False, False, False, False,\n",
       "        True, False, False, False, False, False, False, False, False,\n",
       "       False, False, False, False, False, False, False, False, False,\n",
       "        True, False, False, False, False, False, False, False, False,\n",
       "        True, False, False, False, False, False, False, False, False,\n",
       "       False, False, False, False, False, False, False, False,  True,\n",
       "       False, False, False, False, False, False, False, False, False,\n",
       "       False, False, False, False, False, False, False, False, False,\n",
       "       False, False, False, False, False, False, False, False, False,\n",
       "       False,  True, False, False, False, False, False, False, False,\n",
       "       False, False, False, False, False, False, False,  True, False,\n",
       "       False, False, False,  True, False, False, False, False, False,\n",
       "       False,  True, False, False, False, False, False, False, False,\n",
       "       False, False, False, False, False, False, False, False, False,\n",
       "       False,  True, False, False, False, False, False, False, False,\n",
       "       False, False, False, False,  True, False, False, False, False,\n",
       "       False, False, False, False, False, False, False, False, False,\n",
       "       False, False, False, False, False, False, False, False, False,\n",
       "       False, False, False, False, False, False, False, False, False,\n",
       "       False, False, False, False, False, False, False, False, False,\n",
       "       False, False])"
      ]
     },
     "execution_count": 57,
     "metadata": {},
     "output_type": "execute_result"
    }
   ],
   "source": [
    "pred != y"
   ]
  },
  {
   "cell_type": "code",
   "execution_count": 58,
   "metadata": {},
   "outputs": [
    {
     "data": {
      "text/plain": [
       "array([0.00043916, 0.00043916, 0.00043916, 0.00523999, 0.00043916,\n",
       "       0.00523999, 0.00043916, 0.00043916, 0.00523999, 0.00523999,\n",
       "       0.00476673, 0.00043916, 0.00043916, 0.00476673, 0.00523999,\n",
       "       0.00043916, 0.00043916, 0.00043916, 0.00043916, 0.00043916,\n",
       "       0.00043916, 0.00043916, 0.00043916, 0.00043916, 0.00043916,\n",
       "       0.00043916, 0.00043916, 0.00043916, 0.00043916, 0.00043916,\n",
       "       0.00043916, 0.00043916, 0.00043916, 0.00043916, 0.00043916,\n",
       "       0.00043916, 0.00523999, 0.00043916, 0.05687575, 0.00523999,\n",
       "       0.05687575, 0.00523999, 0.00043916, 0.00043916, 0.00523999,\n",
       "       0.00043916, 0.00043916, 0.00523999, 0.00043916, 0.00043916,\n",
       "       0.00043916, 0.00043916, 0.00043916, 0.00476673, 0.00043916,\n",
       "       0.00043916, 0.00043916, 0.00043916, 0.00043916, 0.00043916,\n",
       "       0.00043916, 0.00043916, 0.00043916, 0.00043916, 0.00043916,\n",
       "       0.00043916, 0.00043916, 0.00043916, 0.00476673, 0.00043916,\n",
       "       0.00043916, 0.00043916, 0.00043916, 0.00523999, 0.00043916,\n",
       "       0.00043916, 0.00043916, 0.00043916, 0.00043916, 0.00043916,\n",
       "       0.00043916, 0.00476673, 0.00043916, 0.00043916, 0.00043916,\n",
       "       0.00043916, 0.05687575, 0.00043916, 0.00043916, 0.00476673,\n",
       "       0.00043916, 0.00523999, 0.00043916, 0.00043916, 0.00043916,\n",
       "       0.00043916, 0.00043916, 0.00043916, 0.00043916, 0.00523999,\n",
       "       0.00476673, 0.00043916, 0.00043916, 0.00043916, 0.00043916,\n",
       "       0.00523999, 0.00043916, 0.00043916, 0.00043916, 0.00043916,\n",
       "       0.00043916, 0.00043916, 0.00476673, 0.00043916, 0.00043916,\n",
       "       0.00043916, 0.00043916, 0.00043916, 0.00043916, 0.00476673,\n",
       "       0.00043916, 0.00043916, 0.00043916, 0.00043916, 0.00043916,\n",
       "       0.00043916, 0.00476673, 0.00476673, 0.00476673, 0.00043916,\n",
       "       0.00043916, 0.00043916, 0.00476673, 0.05687575, 0.00043916,\n",
       "       0.05687575, 0.00043916, 0.00043916, 0.00043916, 0.00043916,\n",
       "       0.00043916, 0.00476673, 0.00043916, 0.00043916, 0.00043916,\n",
       "       0.00043916, 0.00523999, 0.00043916, 0.00476673, 0.00043916,\n",
       "       0.00043916, 0.00043916, 0.00476673, 0.00043916, 0.00043916,\n",
       "       0.00043916, 0.00043916, 0.00523999, 0.00043916, 0.00043916,\n",
       "       0.00043916, 0.00043916, 0.00043916, 0.00043916, 0.00043916,\n",
       "       0.00043916, 0.00043916, 0.00043916, 0.00043916, 0.00043916,\n",
       "       0.00043916, 0.00476673, 0.00043916, 0.00043916, 0.00043916,\n",
       "       0.00043916, 0.00043916, 0.00043916, 0.00043916, 0.00043916,\n",
       "       0.00043916, 0.00043916, 0.00043916, 0.00043916, 0.00476673,\n",
       "       0.00043916, 0.00043916, 0.00043916, 0.00043916, 0.00043916,\n",
       "       0.00523999, 0.00043916, 0.00043916, 0.00523999, 0.00523999,\n",
       "       0.00043916, 0.00523999, 0.00476673, 0.00043916, 0.00043916,\n",
       "       0.00043916, 0.00043916, 0.00043916, 0.00043916, 0.00043916,\n",
       "       0.00476673, 0.00043916, 0.00476673, 0.00043916, 0.00523999,\n",
       "       0.00043916, 0.00043916, 0.00043916, 0.00476673, 0.00043916,\n",
       "       0.00523999, 0.00043916, 0.00043916, 0.00043916, 0.00043916,\n",
       "       0.00043916, 0.00043916, 0.00043916, 0.00043916, 0.00043916,\n",
       "       0.00043916, 0.00043916, 0.00476673, 0.00043916, 0.00523999,\n",
       "       0.00043916, 0.00043916, 0.00043916, 0.00043916, 0.00043916,\n",
       "       0.00043916, 0.00043916, 0.00043916, 0.00043916, 0.00043916,\n",
       "       0.00043916, 0.00043916, 0.00043916, 0.00043916, 0.00043916,\n",
       "       0.00043916, 0.00043916, 0.00476673, 0.00043916, 0.00043916,\n",
       "       0.00043916, 0.00043916, 0.00043916, 0.00043916, 0.00043916,\n",
       "       0.00523999, 0.00043916, 0.00043916, 0.00043916, 0.00043916,\n",
       "       0.00043916, 0.00476673, 0.00043916, 0.00476673, 0.00043916,\n",
       "       0.00043916, 0.00043916, 0.00043916, 0.00043916, 0.00043916,\n",
       "       0.00043916, 0.00043916, 0.00043916, 0.00043916, 0.00476673,\n",
       "       0.00043916, 0.00043916, 0.00476673, 0.00043916, 0.00043916,\n",
       "       0.00043916, 0.00043916, 0.00043916, 0.00043916, 0.00043916,\n",
       "       0.00043916, 0.00043916, 0.00043916, 0.00043916, 0.00043916,\n",
       "       0.00043916, 0.00476673, 0.00043916, 0.00043916, 0.00043916,\n",
       "       0.00043916, 0.00043916, 0.05687575, 0.00043916, 0.00043916,\n",
       "       0.00043916, 0.00043916, 0.00043916, 0.00043916, 0.00043916,\n",
       "       0.00043916, 0.00043916, 0.00043916, 0.00043916, 0.00043916,\n",
       "       0.00043916, 0.00043916, 0.00043916, 0.00043916, 0.00043916,\n",
       "       0.00043916, 0.00043916, 0.00043916, 0.00043916, 0.00043916,\n",
       "       0.00043916, 0.00043916, 0.00043916, 0.00043916, 0.00043916,\n",
       "       0.00043916, 0.00043916, 0.00043916, 0.00043916, 0.00476673,\n",
       "       0.00043916, 0.00043916, 0.00043916, 0.00043916, 0.00043916,\n",
       "       0.00043916, 0.00043916, 0.00043916, 0.00043916, 0.00043916,\n",
       "       0.00476673, 0.00043916, 0.00043916, 0.00043916, 0.00043916,\n",
       "       0.00043916, 0.00043916, 0.00523999, 0.00043916, 0.00043916,\n",
       "       0.00043916, 0.00043916, 0.00043916, 0.00043916, 0.00043916,\n",
       "       0.00043916, 0.00043916, 0.00043916, 0.00043916, 0.00043916,\n",
       "       0.00043916, 0.00043916, 0.00043916, 0.00523999, 0.00043916,\n",
       "       0.00043916, 0.00043916, 0.00043916, 0.00043916, 0.00043916,\n",
       "       0.00043916, 0.00043916, 0.00043916, 0.00043916, 0.00043916,\n",
       "       0.00523999, 0.00476673, 0.00043916, 0.00043916, 0.00523999,\n",
       "       0.00043916, 0.00043916, 0.00043916, 0.00043916, 0.00043916,\n",
       "       0.00523999, 0.00043916, 0.00043916, 0.00043916, 0.00043916,\n",
       "       0.00043916, 0.00043916, 0.00043916, 0.00043916, 0.00043916,\n",
       "       0.00043916, 0.00476673, 0.00043916, 0.00043916, 0.00043916,\n",
       "       0.00043916, 0.00043916, 0.00043916, 0.00043916, 0.00043916,\n",
       "       0.00043916, 0.00523999, 0.00043916, 0.00043916, 0.00043916,\n",
       "       0.00043916, 0.00043916, 0.00043916, 0.00043916, 0.00476673,\n",
       "       0.00043916, 0.00043916, 0.00043916, 0.00043916, 0.00043916,\n",
       "       0.00043916, 0.00043916, 0.00043916, 0.00476673, 0.00043916,\n",
       "       0.00043916, 0.00043916, 0.00043916, 0.00043916, 0.00043916,\n",
       "       0.00523999, 0.00043916, 0.00043916, 0.00043916, 0.00043916,\n",
       "       0.00043916, 0.00043916, 0.00043916, 0.00043916, 0.00043916,\n",
       "       0.00476673, 0.00043916, 0.00043916, 0.00043916, 0.00043916,\n",
       "       0.00043916, 0.00043916, 0.00043916, 0.00043916, 0.00043916,\n",
       "       0.00043916, 0.00043916, 0.00043916, 0.00043916, 0.00043916,\n",
       "       0.00043916, 0.00043916, 0.00043916, 0.00043916, 0.00043916,\n",
       "       0.00043916, 0.00043916, 0.00043916, 0.00043916, 0.00043916,\n",
       "       0.00043916, 0.00043916, 0.00043916, 0.00043916, 0.00476673,\n",
       "       0.00043916, 0.00043916, 0.00523999, 0.00043916, 0.00043916,\n",
       "       0.00043916, 0.00043916, 0.00043916, 0.00043916, 0.00043916,\n",
       "       0.00043916, 0.00043916, 0.00043916, 0.00043916, 0.05687575,\n",
       "       0.00043916, 0.00043916, 0.00043916, 0.00043916, 0.00476673,\n",
       "       0.00043916, 0.00523999, 0.00043916, 0.00043916, 0.00043916,\n",
       "       0.00043916, 0.00476673, 0.00043916, 0.00043916, 0.00043916,\n",
       "       0.00043916, 0.00523999, 0.00043916, 0.00043916, 0.00043916,\n",
       "       0.00043916, 0.00043916, 0.00043916, 0.00523999, 0.00043916,\n",
       "       0.00043916, 0.00043916, 0.00523999, 0.00043916, 0.00476673,\n",
       "       0.00043916, 0.00043916, 0.00043916, 0.00043916, 0.00043916,\n",
       "       0.00043916, 0.00043916, 0.00043916, 0.00043916, 0.00043916,\n",
       "       0.00043916, 0.00476673, 0.00043916, 0.00043916, 0.00043916,\n",
       "       0.00043916, 0.00043916, 0.00043916, 0.00043916, 0.00043916,\n",
       "       0.00043916, 0.00523999, 0.00043916, 0.00043916, 0.00043916,\n",
       "       0.00043916, 0.00043916, 0.00043916, 0.00043916, 0.00043916,\n",
       "       0.00043916, 0.00043916, 0.00043916, 0.00043916, 0.00043916,\n",
       "       0.00043916, 0.00043916, 0.00043916, 0.00043916, 0.00043916,\n",
       "       0.00043916, 0.00043916, 0.00043916, 0.00043916, 0.00043916,\n",
       "       0.00043916, 0.00043916, 0.00043916, 0.00043916, 0.00043916,\n",
       "       0.00043916, 0.00043916, 0.00043916, 0.00043916])"
      ]
     },
     "execution_count": 58,
     "metadata": {},
     "output_type": "execute_result"
    }
   ],
   "source": [
    "error2 = sum(pred != y) / len(y)\n",
    "alpha2 = 1/2 * np.log((1 - error2) / error2)\n",
    "\n",
    "wrong_mask = pred != y\n",
    "w[wrong_mask] = w[wrong_mask] * np.exp(alpha2)\n",
    "\n",
    "w[~wrong_mask] = w[~wrong_mask] * np.exp(-alpha2)\n",
    "w /= sum(w)\n",
    "w"
   ]
  },
  {
   "cell_type": "markdown",
   "metadata": {},
   "source": [
    "**Обучим следующий пень**"
   ]
  },
  {
   "cell_type": "code",
   "execution_count": 59,
   "metadata": {},
   "outputs": [
    {
     "data": {
      "text/plain": [
       "array([0.00080776, 0.00037988, 0.00037988, 0.00453262, 0.00080776,\n",
       "       0.00453262, 0.00037988, 0.00037988, 0.00453262, 0.00453262,\n",
       "       0.00412325, 0.00037988, 0.00037988, 0.00412325, 0.00453262,\n",
       "       0.00037988, 0.00037988, 0.00037988, 0.00037988, 0.00037988,\n",
       "       0.00037988, 0.00037988, 0.00080776, 0.00037988, 0.00037988,\n",
       "       0.00080776, 0.00037988, 0.00037988, 0.00037988, 0.00080776,\n",
       "       0.00037988, 0.00037988, 0.00037988, 0.00037988, 0.00037988,\n",
       "       0.00037988, 0.00453262, 0.00037988, 0.04919787, 0.00453262,\n",
       "       0.04919787, 0.00453262, 0.00037988, 0.00037988, 0.00453262,\n",
       "       0.00080776, 0.00037988, 0.00453262, 0.00037988, 0.00080776,\n",
       "       0.00080776, 0.00037988, 0.00037988, 0.00412325, 0.00037988,\n",
       "       0.00037988, 0.00037988, 0.00037988, 0.00037988, 0.00037988,\n",
       "       0.00037988, 0.00080776, 0.00037988, 0.00037988, 0.00037988,\n",
       "       0.00037988, 0.00080776, 0.00080776, 0.00412325, 0.00037988,\n",
       "       0.00037988, 0.00037988, 0.00037988, 0.00963805, 0.00037988,\n",
       "       0.00037988, 0.00037988, 0.00080776, 0.00037988, 0.00080776,\n",
       "       0.00080776, 0.00412325, 0.00037988, 0.00037988, 0.00080776,\n",
       "       0.00037988, 0.04919787, 0.00037988, 0.00080776, 0.00412325,\n",
       "       0.00080776, 0.00453262, 0.00037988, 0.00080776, 0.00037988,\n",
       "       0.00037988, 0.00037988, 0.00080776, 0.00037988, 0.00453262,\n",
       "       0.00412325, 0.00037988, 0.00080776, 0.00080776, 0.00037988,\n",
       "       0.00963805, 0.00080776, 0.00080776, 0.00037988, 0.00080776,\n",
       "       0.00037988, 0.00080776, 0.00876757, 0.00037988, 0.00037988,\n",
       "       0.00080776, 0.00037988, 0.00037988, 0.00037988, 0.00412325,\n",
       "       0.00037988, 0.00037988, 0.00037988, 0.00037988, 0.00037988,\n",
       "       0.00080776, 0.00412325, 0.00412325, 0.00412325, 0.00037988,\n",
       "       0.00037988, 0.00037988, 0.00412325, 0.04919787, 0.00037988,\n",
       "       0.04919787, 0.00080776, 0.00037988, 0.00080776, 0.00037988,\n",
       "       0.00037988, 0.00412325, 0.00080776, 0.00037988, 0.00037988,\n",
       "       0.00037988, 0.00453262, 0.00080776, 0.00412325, 0.00037988,\n",
       "       0.00080776, 0.00080776, 0.00412325, 0.00037988, 0.00037988,\n",
       "       0.00080776, 0.00037988, 0.00963805, 0.00037988, 0.00037988,\n",
       "       0.00080776, 0.00080776, 0.00037988, 0.00080776, 0.00037988,\n",
       "       0.00080776, 0.00037988, 0.00037988, 0.00037988, 0.00037988,\n",
       "       0.00037988, 0.00412325, 0.00080776, 0.00037988, 0.00037988,\n",
       "       0.00037988, 0.00080776, 0.00037988, 0.00080776, 0.00037988,\n",
       "       0.00037988, 0.00037988, 0.00037988, 0.00037988, 0.00412325,\n",
       "       0.00037988, 0.00037988, 0.00037988, 0.00080776, 0.00037988,\n",
       "       0.00453262, 0.00080776, 0.00037988, 0.00453262, 0.00453262,\n",
       "       0.00037988, 0.00453262, 0.00412325, 0.00037988, 0.00037988,\n",
       "       0.00080776, 0.00037988, 0.00037988, 0.00037988, 0.00080776,\n",
       "       0.00876757, 0.00037988, 0.00412325, 0.00080776, 0.00453262,\n",
       "       0.00037988, 0.00080776, 0.00080776, 0.00412325, 0.00037988,\n",
       "       0.00453262, 0.00080776, 0.00080776, 0.00037988, 0.00037988,\n",
       "       0.00037988, 0.00037988, 0.00037988, 0.00037988, 0.00080776,\n",
       "       0.00037988, 0.00037988, 0.00412325, 0.00080776, 0.00453262,\n",
       "       0.00037988, 0.00080776, 0.00080776, 0.00037988, 0.00037988,\n",
       "       0.00080776, 0.00037988, 0.00037988, 0.00080776, 0.00037988,\n",
       "       0.00037988, 0.00037988, 0.00080776, 0.00080776, 0.00037988,\n",
       "       0.00080776, 0.00080776, 0.00412325, 0.00080776, 0.00037988,\n",
       "       0.00037988, 0.00037988, 0.00037988, 0.00037988, 0.00037988,\n",
       "       0.00963805, 0.00037988, 0.00080776, 0.00037988, 0.00037988,\n",
       "       0.00037988, 0.00412325, 0.00037988, 0.00412325, 0.00037988,\n",
       "       0.00037988, 0.00037988, 0.00080776, 0.00080776, 0.00080776,\n",
       "       0.00037988, 0.00037988, 0.00037988, 0.00037988, 0.00412325,\n",
       "       0.00037988, 0.00037988, 0.00412325, 0.00080776, 0.00037988,\n",
       "       0.00037988, 0.00037988, 0.00037988, 0.00037988, 0.00037988,\n",
       "       0.00037988, 0.00080776, 0.00037988, 0.00037988, 0.00080776,\n",
       "       0.00037988, 0.00876757, 0.00037988, 0.00080776, 0.00037988,\n",
       "       0.00037988, 0.00037988, 0.04919787, 0.00080776, 0.00080776,\n",
       "       0.00037988, 0.00037988, 0.00037988, 0.00080776, 0.00037988,\n",
       "       0.00080776, 0.00037988, 0.00037988, 0.00037988, 0.00037988,\n",
       "       0.00080776, 0.00037988, 0.00037988, 0.00037988, 0.00037988,\n",
       "       0.00037988, 0.00037988, 0.00037988, 0.00080776, 0.00037988,\n",
       "       0.00037988, 0.00080776, 0.00037988, 0.00037988, 0.00037988,\n",
       "       0.00037988, 0.00037988, 0.00037988, 0.00037988, 0.00412325,\n",
       "       0.00080776, 0.00037988, 0.00080776, 0.00037988, 0.00080776,\n",
       "       0.00037988, 0.00037988, 0.00037988, 0.00080776, 0.00037988,\n",
       "       0.00412325, 0.00037988, 0.00037988, 0.00037988, 0.00037988,\n",
       "       0.00037988, 0.00080776, 0.00453262, 0.00037988, 0.00037988,\n",
       "       0.00037988, 0.00037988, 0.00037988, 0.00037988, 0.00037988,\n",
       "       0.00037988, 0.00080776, 0.00080776, 0.00037988, 0.00080776,\n",
       "       0.00037988, 0.00080776, 0.00080776, 0.00963805, 0.00037988,\n",
       "       0.00037988, 0.00037988, 0.00080776, 0.00037988, 0.00037988,\n",
       "       0.00037988, 0.00037988, 0.00080776, 0.00080776, 0.00037988,\n",
       "       0.00453262, 0.00412325, 0.00080776, 0.00037988, 0.00453262,\n",
       "       0.00037988, 0.00037988, 0.00080776, 0.00037988, 0.00037988,\n",
       "       0.00453262, 0.00037988, 0.00037988, 0.00037988, 0.00037988,\n",
       "       0.00037988, 0.00037988, 0.00037988, 0.00037988, 0.00080776,\n",
       "       0.00080776, 0.00876757, 0.00037988, 0.00037988, 0.00080776,\n",
       "       0.00037988, 0.00037988, 0.00080776, 0.00037988, 0.00037988,\n",
       "       0.00080776, 0.00453262, 0.00080776, 0.00037988, 0.00080776,\n",
       "       0.00080776, 0.00080776, 0.00080776, 0.00080776, 0.00412325,\n",
       "       0.00080776, 0.00080776, 0.00037988, 0.00037988, 0.00080776,\n",
       "       0.00080776, 0.00037988, 0.00037988, 0.00876757, 0.00037988,\n",
       "       0.00080776, 0.00037988, 0.00080776, 0.00037988, 0.00037988,\n",
       "       0.00453262, 0.00037988, 0.00037988, 0.00037988, 0.00037988,\n",
       "       0.00037988, 0.00080776, 0.00037988, 0.00080776, 0.00037988,\n",
       "       0.00876757, 0.00037988, 0.00037988, 0.00037988, 0.00080776,\n",
       "       0.00080776, 0.00037988, 0.00037988, 0.00080776, 0.00037988,\n",
       "       0.00080776, 0.00037988, 0.00080776, 0.00037988, 0.00037988,\n",
       "       0.00080776, 0.00080776, 0.00080776, 0.00080776, 0.00080776,\n",
       "       0.00037988, 0.00037988, 0.00080776, 0.00080776, 0.00080776,\n",
       "       0.00080776, 0.00080776, 0.00080776, 0.00037988, 0.00876757,\n",
       "       0.00080776, 0.00080776, 0.00453262, 0.00080776, 0.00037988,\n",
       "       0.00037988, 0.00080776, 0.00037988, 0.00037988, 0.00080776,\n",
       "       0.00080776, 0.00080776, 0.00037988, 0.00080776, 0.04919787,\n",
       "       0.00037988, 0.00080776, 0.00037988, 0.00037988, 0.00412325,\n",
       "       0.00080776, 0.00453262, 0.00037988, 0.00037988, 0.00080776,\n",
       "       0.00080776, 0.00412325, 0.00080776, 0.00080776, 0.00037988,\n",
       "       0.00037988, 0.00453262, 0.00037988, 0.00037988, 0.00037988,\n",
       "       0.00037988, 0.00080776, 0.00037988, 0.00453262, 0.00037988,\n",
       "       0.00037988, 0.00037988, 0.00453262, 0.00037988, 0.00412325,\n",
       "       0.00037988, 0.00037988, 0.00037988, 0.00080776, 0.00037988,\n",
       "       0.00037988, 0.00037988, 0.00080776, 0.00080776, 0.00037988,\n",
       "       0.00037988, 0.00876757, 0.00037988, 0.00037988, 0.00037988,\n",
       "       0.00080776, 0.00080776, 0.00037988, 0.00037988, 0.00080776,\n",
       "       0.00037988, 0.00453262, 0.00080776, 0.00080776, 0.00080776,\n",
       "       0.00037988, 0.00080776, 0.00080776, 0.00080776, 0.00080776,\n",
       "       0.00080776, 0.00037988, 0.00037988, 0.00080776, 0.00080776,\n",
       "       0.00080776, 0.00080776, 0.00080776, 0.00080776, 0.00080776,\n",
       "       0.00080776, 0.00037988, 0.00080776, 0.00080776, 0.00080776,\n",
       "       0.00080776, 0.00080776, 0.00037988, 0.00037988, 0.00037988,\n",
       "       0.00037988, 0.00037988, 0.00037988, 0.00080776])"
      ]
     },
     "execution_count": 59,
     "metadata": {},
     "output_type": "execute_result"
    }
   ],
   "source": [
    "stump3 = DecisionTreeClassifier(max_depth=1, random_state=1)\n",
    "stump3.fit(X, y, sample_weight=w)\n",
    "\n",
    "pred = stump3.predict(X)\n",
    "error3 = sum(pred != y) / len(y)\n",
    "alpha3 = 1/2 * np.log((1 - error3) / error3)\n",
    "\n",
    "wrong_mask = pred != y\n",
    "w[wrong_mask] = w[wrong_mask] * np.exp(alpha3)\n",
    "\n",
    "w[~wrong_mask] = w[~wrong_mask] * np.exp(-alpha3)\n",
    "w /= sum(w)\n",
    "w"
   ]
  },
  {
   "cell_type": "markdown",
   "metadata": {},
   "source": [
    "**Предскажем классы объектов с помощью трех пней**"
   ]
  },
  {
   "cell_type": "code",
   "execution_count": 60,
   "metadata": {},
   "outputs": [
    {
     "data": {
      "text/plain": [
       "array([[ 0.03807591,  0.05068012, -0.02991782, ..., -0.00259226,\n",
       "        -0.01290794,  0.00306441],\n",
       "       [-0.03457486,  0.05068012, -0.00081689, ...,  0.1081111 ,\n",
       "         0.02671426,  0.07348023],\n",
       "       [ 0.03444337,  0.05068012,  0.02828403, ..., -0.00259226,\n",
       "        -0.0594727 , -0.02178823],\n",
       "       ...,\n",
       "       [ 0.07076875,  0.05068012,  0.01211685, ...,  0.03430886,\n",
       "         0.02736771, -0.0010777 ],\n",
       "       [-0.05273755,  0.05068012, -0.01806189, ...,  0.1081111 ,\n",
       "         0.03605579, -0.04249877],\n",
       "       [-0.01277963, -0.04464164, -0.06548562, ..., -0.0070204 ,\n",
       "        -0.03075121, -0.05078298]])"
      ]
     },
     "metadata": {},
     "output_type": "display_data"
    },
    {
     "data": {
      "text/plain": [
       "array([160., 292., 145., 124.,  78.,  54., 113.,  80.,  96., 163., 220.,\n",
       "        89.,  42., 131., 185., 115., 144.,  84., 275., 129., 164.,  48.,\n",
       "       140., 101., 178.,  81., 292., 303., 177., 222.,  69., 332., 180.,\n",
       "       147., 152., 137., 124., 196.,  52., 209.,  43., 249., 102., 151.,\n",
       "        97.,  58., 208., 103.,  78., 215.,  91., 212., 236.,  25., 252.,\n",
       "        70., 155., 168., 281., 150.,  72., 186., 276., 138., 158., 158.,\n",
       "        77., 163.,  65., 155.,  91., 241., 111., 265., 242., 293., 129.,\n",
       "       190., 104., 187., 242., 101.,  94., 161.,  71., 173., 182.,  90.,\n",
       "       103.,  53., 233., 109., 288., 270.,  72., 127., 258., 190.,  87.,\n",
       "       128., 136., 264., 274., 172., 153.,  59.,  55., 107., 144., 171.,\n",
       "        96.])"
      ]
     },
     "metadata": {},
     "output_type": "display_data"
    }
   ],
   "source": [
    "display(X_test, y_test)"
   ]
  },
  {
   "cell_type": "code",
   "execution_count": 61,
   "metadata": {},
   "outputs": [
    {
     "data": {
      "text/plain": [
       "(1.2396043143366813, 1.1922745154227379, 0.3772090029764931)"
      ]
     },
     "execution_count": 61,
     "metadata": {},
     "output_type": "execute_result"
    }
   ],
   "source": [
    "alpha1, alpha2, alpha3"
   ]
  },
  {
   "cell_type": "code",
   "execution_count": 62,
   "metadata": {},
   "outputs": [
    {
     "ename": "ValueError",
     "evalue": "Number of features of the model must match the input. Model n_features is 30 and input n_features is 10 ",
     "output_type": "error",
     "traceback": [
      "\u001b[1;31m---------------------------------------------------------------------------\u001b[0m",
      "\u001b[1;31mValueError\u001b[0m                                Traceback (most recent call last)",
      "\u001b[1;32m<ipython-input-62-4cf76099e9ed>\u001b[0m in \u001b[0;36m<module>\u001b[1;34m\u001b[0m\n\u001b[1;32m----> 1\u001b[1;33m \u001b[0mpred1\u001b[0m \u001b[1;33m=\u001b[0m \u001b[0mstump1\u001b[0m\u001b[1;33m.\u001b[0m\u001b[0mpredict\u001b[0m\u001b[1;33m(\u001b[0m\u001b[0mX_test\u001b[0m\u001b[1;33m)\u001b[0m\u001b[1;33m\u001b[0m\u001b[1;33m\u001b[0m\u001b[0m\n\u001b[0m\u001b[0;32m      2\u001b[0m \u001b[0mpred2\u001b[0m \u001b[1;33m=\u001b[0m \u001b[0mstump2\u001b[0m\u001b[1;33m.\u001b[0m\u001b[0mpredict\u001b[0m\u001b[1;33m(\u001b[0m\u001b[0mX_test\u001b[0m\u001b[1;33m)\u001b[0m\u001b[1;33m\u001b[0m\u001b[1;33m\u001b[0m\u001b[0m\n\u001b[0;32m      3\u001b[0m \u001b[0mpred3\u001b[0m \u001b[1;33m=\u001b[0m \u001b[0mstump3\u001b[0m\u001b[1;33m.\u001b[0m\u001b[0mpredict\u001b[0m\u001b[1;33m(\u001b[0m\u001b[0mX_test\u001b[0m\u001b[1;33m)\u001b[0m\u001b[1;33m\u001b[0m\u001b[1;33m\u001b[0m\u001b[0m\n\u001b[0;32m      4\u001b[0m \u001b[0mpred1\u001b[0m\u001b[1;33m,\u001b[0m \u001b[0mpred2\u001b[0m\u001b[1;33m,\u001b[0m \u001b[0mpred3\u001b[0m\u001b[1;33m\u001b[0m\u001b[1;33m\u001b[0m\u001b[0m\n",
      "\u001b[1;32m~\\Anaconda3\\lib\\site-packages\\sklearn\\tree\\tree.py\u001b[0m in \u001b[0;36mpredict\u001b[1;34m(self, X, check_input)\u001b[0m\n\u001b[0;32m    428\u001b[0m         \"\"\"\n\u001b[0;32m    429\u001b[0m         \u001b[0mcheck_is_fitted\u001b[0m\u001b[1;33m(\u001b[0m\u001b[0mself\u001b[0m\u001b[1;33m,\u001b[0m \u001b[1;34m'tree_'\u001b[0m\u001b[1;33m)\u001b[0m\u001b[1;33m\u001b[0m\u001b[1;33m\u001b[0m\u001b[0m\n\u001b[1;32m--> 430\u001b[1;33m         \u001b[0mX\u001b[0m \u001b[1;33m=\u001b[0m \u001b[0mself\u001b[0m\u001b[1;33m.\u001b[0m\u001b[0m_validate_X_predict\u001b[0m\u001b[1;33m(\u001b[0m\u001b[0mX\u001b[0m\u001b[1;33m,\u001b[0m \u001b[0mcheck_input\u001b[0m\u001b[1;33m)\u001b[0m\u001b[1;33m\u001b[0m\u001b[1;33m\u001b[0m\u001b[0m\n\u001b[0m\u001b[0;32m    431\u001b[0m         \u001b[0mproba\u001b[0m \u001b[1;33m=\u001b[0m \u001b[0mself\u001b[0m\u001b[1;33m.\u001b[0m\u001b[0mtree_\u001b[0m\u001b[1;33m.\u001b[0m\u001b[0mpredict\u001b[0m\u001b[1;33m(\u001b[0m\u001b[0mX\u001b[0m\u001b[1;33m)\u001b[0m\u001b[1;33m\u001b[0m\u001b[1;33m\u001b[0m\u001b[0m\n\u001b[0;32m    432\u001b[0m         \u001b[0mn_samples\u001b[0m \u001b[1;33m=\u001b[0m \u001b[0mX\u001b[0m\u001b[1;33m.\u001b[0m\u001b[0mshape\u001b[0m\u001b[1;33m[\u001b[0m\u001b[1;36m0\u001b[0m\u001b[1;33m]\u001b[0m\u001b[1;33m\u001b[0m\u001b[1;33m\u001b[0m\u001b[0m\n",
      "\u001b[1;32m~\\Anaconda3\\lib\\site-packages\\sklearn\\tree\\tree.py\u001b[0m in \u001b[0;36m_validate_X_predict\u001b[1;34m(self, X, check_input)\u001b[0m\n\u001b[0;32m    400\u001b[0m                              \u001b[1;34m\"match the input. Model n_features is %s and \"\u001b[0m\u001b[1;33m\u001b[0m\u001b[1;33m\u001b[0m\u001b[0m\n\u001b[0;32m    401\u001b[0m                              \u001b[1;34m\"input n_features is %s \"\u001b[0m\u001b[1;33m\u001b[0m\u001b[1;33m\u001b[0m\u001b[0m\n\u001b[1;32m--> 402\u001b[1;33m                              % (self.n_features_, n_features))\n\u001b[0m\u001b[0;32m    403\u001b[0m \u001b[1;33m\u001b[0m\u001b[0m\n\u001b[0;32m    404\u001b[0m         \u001b[1;32mreturn\u001b[0m \u001b[0mX\u001b[0m\u001b[1;33m\u001b[0m\u001b[1;33m\u001b[0m\u001b[0m\n",
      "\u001b[1;31mValueError\u001b[0m: Number of features of the model must match the input. Model n_features is 30 and input n_features is 10 "
     ]
    }
   ],
   "source": [
    "pred1 = stump1.predict(X_test)\n",
    "pred2 = stump2.predict(X_test)\n",
    "pred3 = stump3.predict(X_test)\n",
    "pred1, pred2, pred3"
   ]
  },
  {
   "cell_type": "code",
   "execution_count": 63,
   "metadata": {},
   "outputs": [
    {
     "data": {
      "text/plain": [
       "(2.431878829759419, 0.3772090029764931)"
      ]
     },
     "execution_count": 63,
     "metadata": {},
     "output_type": "execute_result"
    }
   ],
   "source": [
    "alpha1 + alpha2, alpha3"
   ]
  },
  {
   "cell_type": "code",
   "execution_count": 64,
   "metadata": {},
   "outputs": [
    {
     "data": {
      "text/plain": [
       "array([160., 292., 145., 124.,  78.,  54., 113.,  80.,  96., 163., 220.,\n",
       "        89.,  42., 131., 185., 115., 144.,  84., 275., 129., 164.,  48.,\n",
       "       140., 101., 178.,  81., 292., 303., 177., 222.,  69., 332., 180.,\n",
       "       147., 152., 137., 124., 196.,  52., 209.,  43., 249., 102., 151.,\n",
       "        97.,  58., 208., 103.,  78., 215.,  91., 212., 236.,  25., 252.,\n",
       "        70., 155., 168., 281., 150.,  72., 186., 276., 138., 158., 158.,\n",
       "        77., 163.,  65., 155.,  91., 241., 111., 265., 242., 293., 129.,\n",
       "       190., 104., 187., 242., 101.,  94., 161.,  71., 173., 182.,  90.,\n",
       "       103.,  53., 233., 109., 288., 270.,  72., 127., 258., 190.,  87.,\n",
       "       128., 136., 264., 274., 172., 153.,  59.,  55., 107., 144., 171.,\n",
       "        96.])"
      ]
     },
     "execution_count": 64,
     "metadata": {},
     "output_type": "execute_result"
    }
   ],
   "source": [
    "pred = 1\n",
    "y_test"
   ]
  },
  {
   "cell_type": "markdown",
   "metadata": {},
   "source": [
    "## Алгоритм AdaBoost<a class='anchor' id='alg_ada'>"
   ]
  },
  {
   "cell_type": "markdown",
   "metadata": {
    "colab_type": "text",
    "id": "0X9EilDubsjL"
   },
   "source": [
    "__1.__ Инициализация начальных весов объектов из выборки длиной $l$ (равномерно):\n",
    "\n",
    "$$D_{1}(i) = \\frac{1}{l}$$\n",
    "\n",
    "__2.__ Для каждого из $N$ деревьев в ансамбле:\n",
    "\n",
    "- находим классификатор $b_{n}$, который минимизирует взвешенную ошибку классификации\n",
    "\n",
    "$$b_{n} = \\underset{b}{\\text{argmin}}\\;\\varepsilon_{j},$$\n",
    "\n",
    "    где \n",
    "\n",
    "$$\\varepsilon_{j} = \\sum_{i=1}^{l}D_{n}(i)[y_{i}\\neq b_{j}(x)]$$\n",
    "$D_{n}(i)$ - вес объекта, $[y_{i}\\neq b_{j}(x)]$ - неправильно классифицированные объекты\n",
    "\n",
    "- критерием остановки является значение $\\varepsilon_{j} \\geq 0.5$. При таком значении ошибки нужно выбрать другой классификатор и продолжить.\n",
    "\n",
    "- выбираем вес для дерева $\\alpha_{n}$ по формуле\n",
    "\n",
    "$$\\alpha_{n} = \\frac{1}{2}\\text{ln}\\frac{1 - \\varepsilon_{n}}{\\varepsilon_{n}}$$\n",
    "\n",
    "- обновляем веса при объектах:\n",
    "\n",
    "$$D_{n+1}(i) = \\frac{D_{n}(i)e^{-\\alpha_{n}y_{i}b_{n}(x_{i})}}{Z_{n}},$$\n",
    "\n",
    "выражение $y_{i}b_{n}(x_{i})$ в случае $Y = \\{-1, 1\\}$ будет равняться 1 для правильно классифицированных объектов и -1 для неправильно классифицированных, то есть по сути правильность классификации будет означать, будет $e^{\\alpha_{n}}$ стоять в числителе (увеличивается вес неправильно классиф. объектов) или в знаменателе (уменьшается вес правильно классиф. объектов) формулы. В случае $Y = \\{0,1\\}$ вес будет уменьшаться у правильно классифицированных объектов, а у неправильно классифицированных - оставаться неизменным (до нормализации). $Z_{n}$ здесь - нормализующий параметр, выбираемый так, чтобы $D_{n+1}$ по своей сути являлся распределением вероятностей, то есть\n",
    "\n",
    "$$\\sum_{i=1}^{l}D_{n+1} = 1.$$"
   ]
  },
  {
   "cell_type": "markdown",
   "metadata": {
    "id": "qTdnsVCnbshu"
   },
   "source": [
    "### Реализация алгоритма AdaBoost<a class='anchor' id='implement_ada'>"
   ]
  },
  {
   "cell_type": "code",
   "execution_count": 65,
   "metadata": {
    "id": "AMMYdEpSbsjM"
   },
   "outputs": [],
   "source": [
    "from sklearn.tree import DecisionTreeClassifier\n",
    "from sklearn.datasets import load_breast_cancer"
   ]
  },
  {
   "cell_type": "code",
   "execution_count": 66,
   "metadata": {
    "id": "2cQW-bglbsjP"
   },
   "outputs": [
    {
     "data": {
      "text/plain": [
       "((569, 30), (569,))"
      ]
     },
     "execution_count": 66,
     "metadata": {},
     "output_type": "execute_result"
    }
   ],
   "source": [
    "X, y = load_breast_cancer(return_X_y=True)\n",
    "X.shape, y.shape"
   ]
  },
  {
   "cell_type": "markdown",
   "metadata": {
    "id": "HbArvbGPbsjS"
   },
   "source": [
    "Разделим выборку на обучающую и тестовую"
   ]
  },
  {
   "cell_type": "code",
   "execution_count": 67,
   "metadata": {
    "id": "-3Q2bSlibsjV"
   },
   "outputs": [],
   "source": [
    "X_train, X_test, y_train, y_test = model_selection.train_test_split(X, y, test_size=0.25, random_state=32)"
   ]
  },
  {
   "cell_type": "markdown",
   "metadata": {
    "id": "C-YeAmXObsjZ"
   },
   "source": [
    "Реализуем функцию подсчета ошибки"
   ]
  },
  {
   "cell_type": "code",
   "execution_count": 68,
   "metadata": {
    "id": "qxVwBxTtbsja"
   },
   "outputs": [],
   "source": [
    "def get_error(pred, y):\n",
    "    return sum(pred != y) / len(y)"
   ]
  },
  {
   "cell_type": "markdown",
   "metadata": {
    "id": "xVRjV3Rubsjb"
   },
   "source": [
    "И сам алгоритм"
   ]
  },
  {
   "cell_type": "code",
   "execution_count": 69,
   "metadata": {
    "id": "wiKx_qKObsjb"
   },
   "outputs": [],
   "source": [
    "def adaboost(X, y, N):\n",
    "\n",
    "    # Размер выборки\n",
    "    n_objects = len(X)\n",
    "\n",
    "    # Запишем количество классов в переменную\n",
    "    n_classes = len(np.unique((y)))\n",
    "\n",
    "    # Начальные веса объектов\n",
    "    w = np.ones(n_objects) / n_objects\n",
    "\n",
    "    # Деревья с весами будем записывать в список\n",
    "    models = []\n",
    "\n",
    "    for n in range(N):\n",
    "        # Зададим дерево и обучим его\n",
    "        clf = DecisionTreeClassifier(max_depth=1)\n",
    "        clf.fit(X, y, sample_weight=w)\n",
    "\n",
    "        predictions = clf.predict(X)\n",
    "        error = get_error(predictions, y)\n",
    "        \n",
    "        # отбросим дерево, если его ошибка больше 0.5\n",
    "        # Запишем условие в общем виде (применимо к небинарным классификаторам)\n",
    "        if error >= 1 - 1/n_classes: \n",
    "            continue\n",
    "\n",
    "        # Обработаем граничные значения ошибок\n",
    "        if error == 0:\n",
    "            error += 1e-10\n",
    "        elif error == 1:\n",
    "            error -= 1e-10\n",
    "        # Вычислим вес для дерева\n",
    "        alpha = 0.5 * np.log((1 - error) / error)\n",
    "\n",
    "\n",
    "        # Найдем индексы правильно классифицированных элементов\n",
    "        wrong_mask = predictions != y\n",
    "\n",
    "        # Увеличим веса для неправильно классифицированных элементов\n",
    "        w[wrong_mask] *= np.exp(alpha)\n",
    "        # Уменьшаем веса для правильно классифицированных элементов\n",
    "        w[~wrong_mask] *= np.exp(-alpha)\n",
    "\n",
    "        # Нормализуем веса\n",
    "        w /= w.sum()\n",
    "\n",
    "        # Добавим дерево с весом в список\n",
    "        models.append((alpha, clf))\n",
    "    \n",
    "    return models"
   ]
  },
  {
   "cell_type": "markdown",
   "metadata": {
    "id": "GCRBLGmYbsjd"
   },
   "source": [
    "Обучим алгоритм из 50 деревьев"
   ]
  },
  {
   "cell_type": "code",
   "execution_count": 70,
   "metadata": {
    "id": "M2QwLTjkbsje"
   },
   "outputs": [],
   "source": [
    "N = 50\n",
    "\n",
    "models = adaboost(X_train, y_train, N)"
   ]
  },
  {
   "cell_type": "markdown",
   "metadata": {
    "id": "pf6R7t9Wbsjg"
   },
   "source": [
    "Теперь осуществим предсказание"
   ]
  },
  {
   "cell_type": "code",
   "execution_count": 71,
   "metadata": {},
   "outputs": [
    {
     "data": {
      "text/plain": [
       "array([[0., 0.],\n",
       "       [0., 0.],\n",
       "       [0., 0.],\n",
       "       [0., 0.],\n",
       "       [0., 0.],\n",
       "       [0., 0.],\n",
       "       [0., 0.],\n",
       "       [0., 0.],\n",
       "       [0., 0.],\n",
       "       [0., 0.]])"
      ]
     },
     "execution_count": 71,
     "metadata": {},
     "output_type": "execute_result"
    }
   ],
   "source": [
    "np.zeros((10, 2))"
   ]
  },
  {
   "cell_type": "code",
   "execution_count": 72,
   "metadata": {
    "colab": {
     "base_uri": "https://localhost:8080/",
     "height": 34
    },
    "id": "1cRftLvhbsjg",
    "outputId": "a66d98df-1a4d-4b13-ac89-d8bcc7fdfd57"
   },
   "outputs": [],
   "source": [
    "def predict(X, models):\n",
    "    \n",
    "    n_classes = 2\n",
    "    n_objects = len(X)\n",
    "    \n",
    "    # вначале обозначим предсказание нулевым массивом\n",
    "    y_pred = np.zeros((n_objects, n_classes))\n",
    "    \n",
    "    for alpha, clf in models:\n",
    "        prediction = clf.predict(X)\n",
    "        # Для каждого предсказания будем прибавлять alpha к\n",
    "        # элементу с индексом предсказанного класса\n",
    "        y_pred[range(n_objects), prediction] += alpha\n",
    "    \n",
    "    # выберем индексы с максимальными суммарными весами -\n",
    "    # получим предсказанные алгоритмом классы\n",
    "    y_pred = np.argmax(y_pred, axis=1)\n",
    "    \n",
    "    return y_pred"
   ]
  },
  {
   "cell_type": "code",
   "execution_count": 73,
   "metadata": {},
   "outputs": [
    {
     "name": "stdout",
     "output_type": "stream",
     "text": [
      "Точность алгоритма на обучающей выборке: 96.948\n"
     ]
    }
   ],
   "source": [
    "print(f'Точность алгоритма на обучающей выборке: {(1 - get_error(predict(X_train, models), y_train)) * 100:.3f}')"
   ]
  },
  {
   "cell_type": "code",
   "execution_count": 74,
   "metadata": {
    "colab": {
     "base_uri": "https://localhost:8080/",
     "height": 34
    },
    "id": "AIOQigknbsjj",
    "outputId": "7294c81b-418f-4bcb-c9c0-71636718e216"
   },
   "outputs": [
    {
     "name": "stdout",
     "output_type": "stream",
     "text": [
      "Точность алгоритма на тестовой выборке: 94.406\n"
     ]
    }
   ],
   "source": [
    "print(f'Точность алгоритма на тестовой выборке: {(1 - get_error(predict(X_test, models), y_test)) * 100:.3f}')"
   ]
  },
  {
   "cell_type": "markdown",
   "metadata": {
    "id": "64NptCn3bsjm"
   },
   "source": [
    "Построим графики зависимости ошибки от количества базовых алгоритмов в ансамбле."
   ]
  },
  {
   "cell_type": "code",
   "execution_count": 75,
   "metadata": {
    "id": "f2diAmLwbsjn"
   },
   "outputs": [],
   "source": [
    "train_errors = []\n",
    "test_errors = []\n",
    "\n",
    "for n in range(1, 31):\n",
    "    models = adaboost(X_train, y_train, n)\n",
    "    train_errors.append(get_error(predict(X_train, models), y_train))\n",
    "    test_errors.append(get_error(predict(X_test, models), y_test))"
   ]
  },
  {
   "cell_type": "code",
   "execution_count": 76,
   "metadata": {
    "colab": {
     "base_uri": "https://localhost:8080/",
     "height": 1000
    },
    "id": "ufw5bo9Lbsjp",
    "outputId": "b269e88d-f96d-41cc-cbeb-12911c5cf299"
   },
   "outputs": [
    {
     "data": {
      "image/png": "[encoded data removed]",
      "text/plain": [
       "<Figure size 432x288 with 1 Axes>"
      ]
     },
     "metadata": {
      "needs_background": "light"
     },
     "output_type": "display_data"
    }
   ],
   "source": [
    "x = list(range(1, 31))\n",
    "\n",
    "plt.xlim(0, 30)\n",
    "plt.plot(x, train_errors, label='train errors')\n",
    "plt.plot(x, test_errors, label='test errors')\n",
    "plt.xlabel('N')\n",
    "plt.ylabel('Error')\n",
    "plt.legend(loc='upper right');"
   ]
  },
  {
   "cell_type": "markdown",
   "metadata": {
    "id": "aTqEbRmPbsjq"
   },
   "source": [
    "Достоинствами алгоритма AdaBoost можно назвать простоту реализации, хорошую обобщающую способность и небольшую вычислительную сложность. В то же время, есть и недостатки - в первую очередь, склонность к переобучению при наличии в данных шума и выбросов: для наиболее трудноклассифицируемых объектов алгоритм будет определять очень большие веса и в итоге переобучаться на них. В то же время это является и плюсом: таким образом можно идентифицировать выбросы. "
   ]
  },
  {
   "cell_type": "markdown",
   "metadata": {},
   "source": [
    "## Домашнее задание<a class='anchor' id='hw'>"
   ]
  },
  {
   "cell_type": "markdown",
   "metadata": {},
   "source": [
    "1. Для реализованной модели градиентного бустинга построить графики зависимости ошибки от количества деревьев в ансамбле и от максимальной глубины деревьев. Сделать выводы о зависимости ошибки от этих параметров."
   ]
  },
  {
   "cell_type": "code",
   "execution_count": 77,
   "metadata": {},
   "outputs": [],
   "source": [
    "def adaboost(X, y, N, max_depth=1):\n",
    "\n",
    "    # Размер выборки\n",
    "    n_objects = len(X)\n",
    "\n",
    "    # Запишем количество классов в переменную\n",
    "    n_classes = len(np.unique((y)))\n",
    "\n",
    "    # Начальные веса деревьев\n",
    "    w = np.ones(n_objects) / n_objects\n",
    "\n",
    "    # Деревья с весами будем записывать в список\n",
    "    models = []\n",
    "\n",
    "    for n in range(N):\n",
    "        # Зададим дерево и обучим его\n",
    "        clf = DecisionTreeClassifier(max_depth=max_depth)\n",
    "        clf.fit(X, y, sample_weight=w)\n",
    "\n",
    "        predictions = clf.predict(X)\n",
    "        e = get_error(predictions, y)\n",
    "        # отбросим дерево, если его ошибка больше 0.5\n",
    "        # Запишем условие в общем виде (применимо к небинарным классификаторам)\n",
    "        if e >= 1 - 1/n_classes: \n",
    "            break\n",
    "        \n",
    "        # Вычислим вес для дерева\n",
    "        if e > 0:\n",
    "            alpha = 0.5 * np.log((1 - e) / e)\n",
    "        else:\n",
    "            alpha = 0.0\n",
    "\n",
    "        # Найдем индексы правильно классифицированных элементов\n",
    "        match = predictions == y\n",
    "\n",
    "        # Увеличим веса для неправильно классифицированных элементов\n",
    "        w[~match] *= np.exp(alpha)\n",
    "\n",
    "        # Нормализуем веса\n",
    "        w /= w.sum()\n",
    "\n",
    "        # Добавим дерево с весом в список\n",
    "        models.append((alpha, clf))\n",
    "    \n",
    "    return models"
   ]
  },
  {
   "cell_type": "code",
   "execution_count": 78,
   "metadata": {},
   "outputs": [],
   "source": [
    "train_errors = []\n",
    "test_errors = []\n",
    "\n",
    "for n in range(1, 31):\n",
    "    mods = adaboost(X_train, y_train, N=n)\n",
    "    train_errors.append(get_error(predict(X_train, mods), y_train))\n",
    "    test_errors.append(get_error(predict(X_test, mods), y_test))"
   ]
  },
  {
   "cell_type": "code",
   "execution_count": 79,
   "metadata": {},
   "outputs": [
    {
     "data": {
      "text/plain": [
       "<matplotlib.legend.Legend at 0x2130f070f88>"
      ]
     },
     "execution_count": 79,
     "metadata": {},
     "output_type": "execute_result"
    },
    {
     "data": {
      "image/png": "[encoded data removed]",
      "text/plain": [
       "<Figure size 432x288 with 1 Axes>"
      ]
     },
     "metadata": {
      "needs_background": "light"
     },
     "output_type": "display_data"
    }
   ],
   "source": [
    "x = list(range(1, 31))\n",
    "\n",
    "plt.xlim(0, 30)\n",
    "plt.plot(x, train_errors, label='train errors')\n",
    "plt.plot(x, test_errors, label='test errors')\n",
    "plt.xlabel('N')\n",
    "plt.ylabel('Accuracy')\n",
    "plt.legend(loc='upper right')"
   ]
  },
  {
   "cell_type": "code",
   "execution_count": 80,
   "metadata": {},
   "outputs": [],
   "source": [
    "train_errors = []\n",
    "test_errors = []\n",
    "\n",
    "for n in range(1, 31):\n",
    "    mods = adaboost(X_train, y_train, N=15, max_depth=n)\n",
    "    train_errors.append(get_error(predict(X_train, mods), y_train))\n",
    "    test_errors.append(get_error(predict(X_test, mods), y_test))"
   ]
  },
  {
   "cell_type": "code",
   "execution_count": 81,
   "metadata": {},
   "outputs": [
    {
     "data": {
      "text/plain": [
       "<matplotlib.legend.Legend at 0x2130efbf2c8>"
      ]
     },
     "execution_count": 81,
     "metadata": {},
     "output_type": "execute_result"
    },
    {
     "data": {
      "image/png": "[encoded data removed]",
      "text/plain": [
       "<Figure size 432x288 with 1 Axes>"
      ]
     },
     "metadata": {
      "needs_background": "light"
     },
     "output_type": "display_data"
    }
   ],
   "source": [
    "x = list(range(1, 31))\n",
    "\n",
    "plt.xlim(0, 30)\n",
    "plt.plot(x, train_errors, label='train errors')\n",
    "plt.plot(x, test_errors, label='test errors')\n",
    "plt.xlabel('Tree Depth')\n",
    "plt.ylabel('Accuracy')\n",
    "plt.legend(loc='upper right')"
   ]
  },
  {
   "cell_type": "markdown",
   "metadata": {},
   "source": [
    "2. *Модифицировать реализованный алгоритм градиентного бустинга, чтобы получился стохастический градиентный бустинг. Размер подвыборки принять равным 0.5. Сравнить на одном графике кривые изменения ошибки на тестовой выборке в зависимости от числа итераций."
   ]
  },
  {
   "cell_type": "markdown",
   "metadata": {},
   "source": [
    "Проект: \n",
    "1. https://www.kaggle.com/c/regression-tutors-expected-math-exam-results регрессия\n",
    "1. https://www.kaggle.com/c/classification-choose-tutors классификация"
   ]
  },
  {
   "cell_type": "markdown",
   "metadata": {
    "id": "gKn5SRC2bsjr"
   },
   "source": [
    "## Дополнительные материалы"
   ]
  },
  {
   "cell_type": "markdown",
   "metadata": {
    "colab_type": "text",
    "id": "c6i9D-7Xbsjs"
   },
   "source": [
    "1. [Интерактивная демонстрация градиентного бустинга](http://arogozhnikov.github.io/2016/06/24/gradient_boosting_explained.html)\n",
    "2. [sklearn.datasets](https://scikit-learn.org/stable/datasets/index.html)\n",
    "3. [sklearn.tree.DecisionTreeRegressor](https://scikit-learn.org/stable/modules/generated/sklearn.tree.DecisionTreeRegressor.html)\n",
    "4. [$L_{1}$ loss и $L_{2}$ loss](https://afteracademy.com/blog/what-are-l1-and-l2-loss-functions)\n",
    "5. [XGBoost](https://github.com/esokolov/ml-course-hse/blob/master/2016-fall/lecture-notes/lecture10-ensembles.pdf)\n",
    "6. [AdaBoost](https://ru.wikipedia.org/wiki/AdaBoost)\n",
    "7. [XGBoost: A Scalable Tree Boosting System - оригинальная статья](http://scholar.google.ru/scholar_url?url=https://dl.acm.org/ft_gateway.cfm%3Fftid%3D1775849%26id%3D2939785&hl=en&sa=X&scisig=AAGBfm3b8fqJWtjjjejQ5fQwrtg9eQQK-w&nossl=1&oi=scholarr)"
   ]
  },
  {
   "cell_type": "markdown",
   "metadata": {},
   "source": [
    "## Summary"
   ]
  },
  {
   "cell_type": "markdown",
   "metadata": {},
   "source": [
    "* На больших и сложных данных градиентный бустинг - один из лучших алгоритмов\n",
    "* Много настраиваемых параметров \n",
    "* Есть очень быстрые реализации \n",
    "* Обычно строят на деревьях решений"
   ]
  },
  {
   "cell_type": "markdown",
   "metadata": {},
   "source": [
    "### Определения\n",
    "*Бустинг*\n",
    "\n",
    "**Бустинг** — это техника построения ансамблей, в которой предсказатели построены не независимо, а последовательно."
   ]
  },
  {
   "cell_type": "markdown",
   "metadata": {},
   "source": [
    "**Алгоритм построения градиентного бустинга**\n",
    "1. Инициализация начального алгоритма $b_{0}(x)$\n",
    "\n",
    "2. Цикл по n = 1,2,3,...:\n",
    "\n",
    "    * Подсчитывание остатков $s = \\left ( \\left.-\\frac{\\partial L}{\\partial z} \\right|_{z = a_{n-1}(x_{1})},...,\\left.-\\frac{\\partial L}{\\partial z} \\right|_{z = a_{n-1}(x_{l})}\\right );$\n",
    "\n",
    "    * Обучение нового алгоритма $b_{n}(x) = \\underset{s}{\\text{argmin}}\\frac{1}{l}\\sum_{i=1}^{l}(b(x_{i})-s_{i})^{2};$\n",
    "    \n",
    "    * Добавление алгоритма в композицию $a_{n}(x) = a_{n-1}(x) + \\eta b_{n}(x).$"
   ]
  },
  {
   "cell_type": "markdown",
   "metadata": {},
   "source": [
    "**Алгоритм построения AdaBoost**\n",
    "1. Инициализация начальных весов объектов:\n",
    "$D_{1}(i) = \\frac{1}{l}$\n",
    "2. Цикл по n = 1,2,3,...:\n",
    "\n",
    "    * находим классификатор $b_{n}$, который минимизирует взвешенную ошибку классификации\n",
    "$b_{n} = \\underset{b}{\\text{argmin}}\\;\\varepsilon_{j},$    где \n",
    "$\\varepsilon_{j} = \\sum_{i=1}^{l}D_{n}(i)[y_{i}\\neq b_{j}(x)]$\n",
    "\n",
    "    * выбираем вес для дерева $\\alpha_{n}$ по формуле\n",
    "    $\\alpha_{n} = \\frac{1}{2}\\text{ln}\\frac{1 - \\varepsilon_{n}}{\\varepsilon_{n}}$\n",
    "    * обновляем веса при объектах:\n",
    "$D_{n+1}(i) = \\frac{D_{n}(i)e^{-\\alpha_{n}y_{i}b_{n}(x_{i})}}{Z_{n}},$\n",
    "    * критерием останова является значение $\\varepsilon_{j} \\geq 0.5$. При таком значении ошибки нужно выбрать другой классификатор и продолжить."
   ]
  }
 ],
 "metadata": {
  "colab": {
   "collapsed_sections": [
    "Rg5ilDbTbshs",
    "Z2tMUhhXbsjK"
   ],
   "name": "Lesson_6(edited).ipynb",
   "provenance": []
  },
  "kernelspec": {
   "display_name": "Python 3",
   "language": "python",
   "name": "python3"
  },
  "language_info": {
   "codemirror_mode": {
    "name": "ipython",
    "version": 3
   },
   "file_extension": ".py",
   "mimetype": "text/x-python",
   "name": "python",
   "nbconvert_exporter": "python",
   "pygments_lexer": "ipython3",
   "version": "3.7.4"
  }
 },
 "nbformat": 4,
 "nbformat_minor": 1
}
