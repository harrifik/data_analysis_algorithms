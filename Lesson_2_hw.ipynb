{
 "cells": [
  {
   "cell_type": "markdown",
   "metadata": {
    "id": "JkQFTgKJiqsy"
   },
   "source": [
    "# Урок 2. Масштабирование признаков. Регуляризация. Стохастический градиентный спуск."
   ]
  },
  {
   "cell_type": "markdown",
   "metadata": {},
   "source": [
    "**План занятия**\n",
    "\n",
    "* [Теоретическая часть](#theory)\n",
    "    * [Масштабирование признаков](#0)\n",
    "    * [Стохастический градиентный спуск](#1)\n",
    "    * [SGD своими руками](#sgd_manual)\n",
    "    * [Переобучение](#overfit)\n",
    "    * [Методы борьбы с переобучением](#methods)\n",
    "        * [Регуляризация](#reg)\n",
    "* [Практическая часть](#practice)\n",
    "    * [Домашнее задание](#hw)"
   ]
  },
  {
   "cell_type": "markdown",
   "metadata": {},
   "source": [
    "## <center>Теоретическая часть<a class=\"anchor\" id=\"theory\"></a><center>"
   ]
  },
  {
   "cell_type": "markdown",
   "metadata": {
    "id": "JLVfsJXviqs1"
   },
   "source": [
    "## Масштабирование признаков <a class='anchor' id='0'>"
   ]
  },
  {
   "cell_type": "markdown",
   "metadata": {
    "id": "Eu5ocQDMiqs2"
   },
   "source": [
    "В машинном обучении при работе с линейными моделями полезной является практика _масштабирования признаков_. Многие методы машинного обучения, в том числе и линейные, наиболее эффективны в том случае, когда признаки имеют одинаковый масштаб. По сути масштабирование означает приведение признаков к какой-то единой шкале. "
   ]
  },
  {
   "cell_type": "markdown",
   "metadata": {
    "id": "Gsw78QW7iqs3"
   },
   "source": [
    "Существует большое количество методов масштабирования, наиболее популярными из которых являются _нормализация_ и _стандартизация_.\n",
    "\n",
    "Метод **нормализации** заколючается в приведении признаков к масштабу в диапазоне [0-1].\n",
    "\n",
    "Для его реализации необходимо найти минимальное $min_{j} (x^{j}_{i})$ и максимальное $max_{j} (x^{j}_{i})$ значение признака на обучающей выборке. При этом отмасштабированное значение признака будет находиться по формуле\n",
    "\n",
    "$$x^{j}_{i} = \\frac{x^{j}_{i} - min_{j} (x^{j}_{i})}{max_{j} (x^{j}_{i})-min_{j} (x^{j}_{i})}.$$\n",
    "\n",
    "После преобразования значений признаков минимальное значение превратится в 0, а максимальное - в 1.\n",
    "\n",
    "Пример различия в сходимости алгоритма на сырых и нормализованных данных:\n",
    "<img src=\"images/L2_normalization.png\" style=\"width: 500px;\">\n",
    "\n",
    "**Стандартизация** заключается в получении своего рода значения сдвига каждого признака от среднего. Для ее реализации необходимо вычислить среднее значение признака \n",
    "\n",
    "$$\\mu_{j} = \\frac{1}{l}\\sum^{l}_{i=1}x^{j}_{i}$$\n",
    "\n",
    "и стандартное отклонение, которое находится путем суммирования квадратов отклонения значений признака на объектах выборки от среднего $\\mu_{j}$ и делением на число объектов выборки с последующим извлечением корня:\n",
    "\n",
    "$$\\sigma_{j} = \\sqrt{\\frac{1}{l}\\sum^{l}_{i=1}(x^{j}_{i}-\\mu_{j})^{2}}$$\n",
    "\n",
    "Чтобы отмасштабировать признак, каждое его значение преобразуется по формуле\n",
    "\n",
    "$$x^{j}_{i}=\\frac{x^{j}_{i} - \\mu_{j}}{\\sigma_{j}}.$$"
   ]
  },
  {
   "cell_type": "markdown",
   "metadata": {
    "id": "s32Rv-eFiqs4"
   },
   "source": [
    "Масштабирование является важным этапом подготовки данных перед применением методов машинного обучения. \n",
    "\n",
    "Важным и последним свойством масштабирования является факт, что после масштабирования признаков в линейных моделях веса при них могут интерпретироваться как мера значимости этих признаков.\n",
    "\n",
    "Существуют различные ситуации, когда целесообразно применять тот или иной метод масштабирования. Нормализовать полезно признаки, опирающиеся на величину значений - такие как расстояние (knn, k-means). Стандартизировать полезно признаки для модели, которая опирается на распределение (линейные модели). В общем случае, когда выбор метода неочевиден, полезной практикой считается создавать масштабированные копии набора данных, с которыми работает специалист, и сравнивать друг с другом полученные после применения модели результаты для выявления оптимального метода масштабирования для имеющейся ситуации."
   ]
  },
  {
   "cell_type": "markdown",
   "metadata": {
    "id": "SMcddg8niqs5"
   },
   "source": [
    "## Стохастический градиентный спуск <a class='anchor' id='1'>"
   ]
  },
  {
   "cell_type": "markdown",
   "metadata": {},
   "source": [
    "1. Инициализация w\n",
    "\n",
    "2. Цикл по k = 1,2,3,...:\n",
    "\n",
    "    * $w^{k} = w^{k-1} - \\eta_{k}\\nabla Q(w^{k-1}, X)$\n",
    "\n",
    "    * Если $||w^{k} - w^{k-1}|| < \\epsilon$, то завершить.\n"
   ]
  },
  {
   "cell_type": "markdown",
   "metadata": {
    "id": "HkzFJVniiqs6"
   },
   "source": [
    "Вспомним метод градиентного спуска, рассмотренный ранее.\n",
    "\n",
    "На каждой итерации приближение получается вычитанием из предыдущего вектора градиента, умноженного на некоторый шаг:\n",
    "\n",
    "\n",
    "$$w^{k} = w^{k-1} - \\eta_{k}\\nabla Q(w^{k-1}, X).$$\n",
    "\n",
    "При этом выражение градиента в матричной форме выглядит так:\n",
    "\n",
    "$$\\nabla_{w}Q(w,X) = \\frac{2}{l}X^{T}(Xw-y).$$\n",
    "\n",
    "Если расписать $j$-ю компонетну этого градиента, то получим\n",
    "\n",
    "$$\\frac{\\partial Q}{\\partial w_{j}} = \\frac{2}{l}\\sum^{l}_{i=1}x^{j}_{i}(\\left \\langle w,x_{i} \\right \\rangle - y_{i}),$$\n",
    "\n",
    "то есть суммирование по всем $l$ объектам обучающей выборки. Здесь выражение под суммой показывает, как нужно изменить $j$-й вес, чтобы как можно сильнее улучшить качество __на объекте $x_{i}$__, а вся сумма показывает, как нужно изменить вес, чтобы улучшить качество на __всей выборке__.\n",
    "\n",
    "В этой формуле отражен один из главных недостатков градиентного спуска: если выборка большая по объему, то даже один шаг градиентного спуска будет занимать много вычислительных ресурсов и времени."
   ]
  },
  {
   "cell_type": "markdown",
   "metadata": {
    "id": "Xlcthp9Uiqs7"
   },
   "source": [
    "Стремление к оптимизации процесса привело к появлению _стохастического градиентного спуска_ (Stochastic gradient descent, SGD). Идея его основана на том, что на одной итерации мы вычитаем не вектор градиента, вычисленный по всей выборке, а вместо этого случайно выбираем один объект из обучающей выборки $x_{i}$ и вычисляем градиент только на этом объекте, то есть градиент только одного слагаемого в функционале ошибки и вычитаем именно этот градиент из текущего приближения вектора весов:\n",
    "\n",
    "$$w^{k} = w^{k-1} - \\eta_{k}\\nabla Q(w^{k-1}, \\{x_{i}\\}),$$\n",
    "\n",
    "то есть $\\nabla Q(w^{k-1}, X)$ заменяется на $\\nabla Q(w^{k-1}, \\{x_{i}\\})$."
   ]
  },
  {
   "cell_type": "markdown",
   "metadata": {
    "id": "2mKZbftTiqs9"
   },
   "source": [
    "Если в случае градиентного спуска мы стараемся на каждой итерации уменьшить ошибку на всей выборке, и по мере увеличения числа итераций ошибка падает монотонно, то в случае стохастического градиентного спуска мы уменьшаем на каждой итерации ошибку только на одном объекте, но при этом есть вероятность увеличить ее на другом объекте, поэтому график изменения ошибки может получаться немонотонным, и даже иметь пики (см. пример по ссылке [1] из списка литературы). То есть на какой-то итерации мы можем даже увеличить ошибку, но при этом в целом по ходу метода ошибка снижается, и рано или поздно мы выходим на нормальный уровень."
   ]
  },
  {
   "cell_type": "markdown",
   "metadata": {},
   "source": [
    "1. Инициализация w\n",
    "\n",
    "2. Цикл по k = 1,2,3,...:\n",
    "\n",
    "    * Выбираем случайные объект $x_{i}$ из X\n",
    "    * $w^{k} = w^{k-1} - \\eta_{k}\\nabla Q(w^{k-1}, \\{x_{i}\\})$\n",
    "    * Если $||w^{k} - w^{k-1}|| < \\epsilon$, то завершить.\n"
   ]
  },
  {
   "cell_type": "markdown",
   "metadata": {},
   "source": [
    "<img src=\"images/compare_gd_sgd.png\" width=550px>"
   ]
  },
  {
   "cell_type": "markdown",
   "metadata": {},
   "source": [
    "## SGD своими руками<a class=\"anchor\" id=\"sgd_manual\"></a>"
   ]
  },
  {
   "cell_type": "markdown",
   "metadata": {
    "id": "-BBJDLSQiqs-"
   },
   "source": [
    "Реализуем стохастический градиентный спуск своими руками."
   ]
  },
  {
   "cell_type": "code",
   "execution_count": 1,
   "metadata": {
    "id": "c7NGnJrtiqs_"
   },
   "outputs": [],
   "source": [
    "import numpy as np\n",
    "from sklearn import datasets\n",
    "import matplotlib.pyplot as plt\n",
    "from mpl_toolkits.mplot3d.axes3d import Axes3D\n",
    "\n",
    "%matplotlib inline\n",
    "import warnings\n",
    "warnings.filterwarnings('ignore')"
   ]
  },
  {
   "cell_type": "code",
   "execution_count": 2,
   "metadata": {
    "id": "L92vtZuDiqtD"
   },
   "outputs": [
    {
     "data": {
      "text/plain": [
       "array([[  3.78794466,  -0.61837549],\n",
       "       [ -6.52931145,  -1.06706712],\n",
       "       [-10.6581629 ,  -0.34682333],\n",
       "       ...,\n",
       "       [ 11.94510163,   1.00147133],\n",
       "       [  1.25623099,   0.35261274],\n",
       "       [ -0.5674652 ,   0.41214611]])"
      ]
     },
     "metadata": {},
     "output_type": "display_data"
    },
    {
     "data": {
      "text/plain": [
       "array([-2.61123036e+01, -1.22254125e+02, -9.33701155e+01,  2.23698676e+01,\n",
       "       -1.19353069e+00,  7.55093913e+01,  4.17391914e+00,  3.37850492e+01,\n",
       "       -4.13327830e+01, -1.71060319e+00,  6.91533479e+01, -3.84944494e+01,\n",
       "       -1.40841311e+01, -7.87094871e+00,  2.24655412e+01,  3.52449558e+01,\n",
       "        3.54202311e+01,  4.54019343e+01,  3.93612257e+01,  1.13645719e-01,\n",
       "       -1.23294801e+01,  1.18940297e+02,  2.90747757e+02,  1.07353713e+01,\n",
       "        1.33621709e+02, -8.58105655e+01, -1.19323461e+01,  5.66776267e+01,\n",
       "        1.45867826e+02, -2.72626165e+02, -3.86689973e+00,  4.64700598e+01,\n",
       "        1.34844522e+02,  1.01167107e+01,  1.02407708e+01,  1.50555004e+01,\n",
       "        6.05940840e+01, -1.46615087e-01, -1.04571676e+02, -1.09697817e+02,\n",
       "        1.21274981e+01,  9.99648515e+01,  8.47610760e+01, -1.05265489e+02,\n",
       "        1.35034101e+02, -3.24978496e+02,  6.56243085e+01, -4.80030943e+01,\n",
       "        8.43343786e+01,  3.38914896e+00,  2.65015621e+01,  6.26227854e+01,\n",
       "       -1.45046490e+02,  5.99890287e+01, -4.29487922e+01, -6.21770636e+01,\n",
       "       -7.43718851e+01,  1.41640904e+01,  7.62513523e+01, -9.31185763e+01,\n",
       "       -4.63520375e+01,  4.29125963e+01, -9.66584329e+00,  8.93121009e+01,\n",
       "       -4.03193579e+01, -1.01379573e+02,  1.01841520e+02, -5.15662519e+01,\n",
       "       -4.52628857e+01, -1.87124862e+01, -9.12844792e+01,  3.59927570e+01,\n",
       "        6.17592461e+01,  2.22494640e+02,  1.32434204e+02, -3.60881053e+01,\n",
       "        6.22684440e+01,  1.17243754e+02, -7.81544631e+01, -1.15367499e+02,\n",
       "        2.07386737e+02, -1.05860234e+02,  1.85276901e+01, -1.28578014e+02,\n",
       "        3.16618174e+01,  4.66424452e+01, -1.25927975e+02,  3.92521273e+01,\n",
       "       -6.16557147e+01, -7.16591893e+01, -5.25599518e+01,  8.57629576e+01,\n",
       "        1.21017018e+02, -4.52865631e+01,  1.01235726e+02, -5.85374634e+01,\n",
       "        1.54127676e+02,  7.97155843e+01, -1.80370851e+02,  1.90235368e+01,\n",
       "        1.25097722e+00,  8.85002223e+01, -1.51621734e+02,  1.41323799e+02,\n",
       "        4.18851676e+01,  5.20369920e+01, -4.25228301e+01,  1.09583957e+02,\n",
       "       -7.91647431e+01, -4.74113606e+00, -2.52046023e+02, -2.69093444e+01,\n",
       "        5.19952741e+01, -8.64234670e+01, -5.25334656e-01, -6.78597223e+01,\n",
       "        1.17300246e+01,  6.97830260e+01, -5.55128430e+01, -1.49814920e+02,\n",
       "       -3.20406862e+01, -6.54315386e+01, -9.20757249e+00,  1.62937115e+02,\n",
       "       -6.42369455e+01,  2.13940023e+02, -1.90901395e+02, -9.77602152e+01,\n",
       "       -4.43268555e+01,  1.47342417e+01, -8.54881576e+01,  7.22014476e+00,\n",
       "        1.36013024e+02,  5.02397565e+01,  4.87812888e+01,  1.36143655e+01,\n",
       "        6.87647966e+01,  3.61672551e+01, -7.59032358e+01, -2.00121857e+02,\n",
       "        1.16208277e+01,  4.31042606e+01,  3.16115880e+01, -4.75901362e+01,\n",
       "       -1.29087233e+02, -5.53559217e+01,  1.50745846e+01,  1.70758154e+01,\n",
       "       -1.53630565e+02,  1.71958382e+01, -1.83512595e+02,  2.43362655e+01,\n",
       "       -4.50652116e+01, -2.92099620e+00,  1.23015030e+02, -1.11788567e+02,\n",
       "        8.50991008e+01, -1.46376768e+02,  3.27701445e+01, -2.93018471e+01,\n",
       "        4.69203461e+01,  1.08423413e+02, -6.13209350e+01,  4.94785289e+01,\n",
       "       -1.41109577e+02,  4.33054311e+01, -1.52549152e+02, -2.46530040e+01,\n",
       "       -1.00874101e+02,  3.38889732e+01, -1.23153355e+02,  2.17420651e+02,\n",
       "        5.46966513e+01,  4.06833605e+01,  1.16655415e+02,  1.47106932e+02,\n",
       "        2.81929267e+01, -1.11048654e+02,  7.80397611e+01, -3.49932950e+00,\n",
       "        9.91980807e+00,  7.16777443e+00,  9.55759488e+01,  1.06216158e+02,\n",
       "        1.54782642e+02, -2.26334446e+01, -7.82932490e+01,  1.73939404e+02,\n",
       "        1.75698853e+02, -4.76494719e+01, -1.27657625e+02, -5.11138947e+01,\n",
       "       -9.78206844e+00, -1.29280315e+02, -1.22503741e+02,  7.65780719e+01,\n",
       "       -2.11869965e+02,  3.06571220e+01, -7.66394137e+01, -1.24552588e+02,\n",
       "       -3.56285913e+01,  6.00062639e+01, -1.11473800e+02, -2.70266744e+00,\n",
       "       -6.21499474e+01,  1.28866824e+02,  3.57562503e+01, -1.63234454e+02,\n",
       "        1.83023392e+01, -1.37009065e+02, -4.88380133e+01, -1.61400354e+02,\n",
       "        2.58238176e+01, -1.71481525e+02,  7.17168100e+01, -1.51549918e+02,\n",
       "       -7.31412133e+01, -8.62281492e+01, -1.66868840e+01,  1.40935437e+02,\n",
       "        5.57925015e+01, -1.56402975e+02, -1.22790672e+02, -1.40778628e+02,\n",
       "       -7.18758210e+01, -6.87462711e+01, -1.38957317e+01, -1.73461298e+02,\n",
       "       -3.76770515e+01,  7.76924609e+01,  1.74823500e+02,  1.53499233e+02,\n",
       "       -3.31312744e+01,  7.71680849e+01, -8.79504754e+01, -3.24639116e+01,\n",
       "       -5.35527646e+01,  1.95842854e+02,  3.35714470e+00,  5.11947797e+01,\n",
       "        3.12736009e+01,  8.11437215e+01, -8.29488116e+01,  5.30395852e+01,\n",
       "       -2.77664212e+01, -4.38009254e+01,  3.43211816e+01,  7.56218288e+00,\n",
       "       -2.83344315e+01,  3.81263689e+01,  6.90682668e+01, -7.27304368e+01,\n",
       "       -1.94558174e+01, -7.94634380e+01,  2.19422785e+02, -6.32058902e+01,\n",
       "       -1.00445761e+02, -4.70053506e+01, -1.95597242e+01, -1.02558330e+02,\n",
       "       -1.00434144e+02,  1.39166519e+02, -1.37781213e+02,  2.10456615e+01,\n",
       "        1.53807527e+02,  4.82381452e+01,  9.19882759e+01,  8.86443171e+01,\n",
       "        3.36746742e+01, -7.15218367e+01, -6.79874189e+01,  3.58485159e+01,\n",
       "        1.14037947e+02,  5.88694911e+01,  2.89656802e+01, -1.92212573e+01,\n",
       "       -2.15755242e+02,  6.32586245e+01, -1.09385437e+02,  1.11195633e+02,\n",
       "        6.83161018e+01, -7.22547529e+01, -4.94899902e+01,  5.12699554e+01,\n",
       "       -5.64041836e+01, -3.49849293e+01,  7.51632837e+01, -1.06282835e+02,\n",
       "       -1.52944899e+02,  1.43720730e+02,  7.40856903e+01,  6.23607516e+01,\n",
       "        7.95378817e+00, -1.33696648e+02,  3.44960554e+01, -1.28476614e+01,\n",
       "        4.92297625e+01, -5.49095870e+01, -5.22363136e+01, -3.17464973e+01,\n",
       "        6.76710400e+01, -7.09109912e+00, -5.21825216e+01,  1.66279830e+02,\n",
       "       -7.70948273e+01, -5.28934618e+01,  1.14456807e+02,  5.97281267e+01,\n",
       "       -3.74767202e+01, -1.87988738e+01, -9.62567938e+01,  6.12507614e+01,\n",
       "        1.08598319e+02, -6.90957649e+01, -1.26634856e+02, -1.60658799e+01,\n",
       "        8.04013711e+01, -9.39713230e+01, -5.24077123e+01, -8.66848307e+01,\n",
       "        1.26797195e+02, -1.94170159e+01, -6.16451342e+01, -1.00573544e+02,\n",
       "        5.53269236e+01, -1.13977889e+02, -1.20668952e+02, -4.10033533e+01,\n",
       "        1.93359236e+01, -8.33637331e+01, -1.12059533e+02, -8.25593895e+01,\n",
       "        1.62928017e+02,  6.52366217e+01, -2.27313972e+02,  2.36210943e+01,\n",
       "        6.37784088e+01, -7.88244509e+01, -7.56402104e+00,  6.13010734e-01,\n",
       "       -3.63529545e+00, -1.38541709e+02,  2.78577077e+01,  3.63657284e+01,\n",
       "        8.48711063e+01,  2.12988667e+01, -5.46537760e+01,  8.33274018e+01,\n",
       "       -1.72486438e+02, -7.93426033e+00, -7.44169633e+01, -2.87813091e+01,\n",
       "       -6.44510912e+00,  2.12273173e+00,  2.32935544e+00,  1.05194084e+02,\n",
       "       -3.79526683e+01, -5.73991156e+01,  1.55465577e+02,  1.23034646e+02,\n",
       "        2.42548332e+02,  5.68040766e+01, -2.41939948e+01,  4.34050342e+01,\n",
       "        1.11492793e+01,  1.54727891e+01, -1.01363158e+00, -2.67481387e+01,\n",
       "       -5.04025385e+01,  6.59664755e+01,  6.27144274e+01, -1.42624267e+02,\n",
       "       -6.02778342e+01, -4.19319983e+01,  6.46795774e+01,  1.92643420e+02,\n",
       "       -2.63345961e+00, -1.04025968e+02, -2.61025984e+02, -8.84772284e+01,\n",
       "       -4.06520575e+01,  3.51804487e+01,  9.02302386e+01, -4.63205226e+01,\n",
       "       -1.49723268e+02, -1.12700513e+01,  1.86843230e+02, -4.81354243e+01,\n",
       "        7.64046251e+01,  2.99280359e+01,  1.83673284e+02, -8.13474507e+01,\n",
       "        1.29158499e+02, -6.26700113e+01, -5.83251685e+01,  6.10773820e+01,\n",
       "        9.80870954e+01,  7.44815241e+01,  4.96719229e+01, -1.17832066e+02,\n",
       "        3.90462664e+00, -5.74875075e+01,  4.06001471e+01, -7.37328152e+01,\n",
       "       -7.65652066e+01, -1.12682658e+02, -1.15889636e+02, -5.19324723e+00,\n",
       "       -3.26278695e+01,  1.56670157e+02, -9.27239033e+01,  6.48705982e+01,\n",
       "        9.08028109e+01, -9.25654826e+01, -5.49474455e+00, -4.02669576e+01,\n",
       "        3.89694142e+01,  1.36969898e+02, -6.69190386e+00,  5.08774271e+01,\n",
       "        3.84477226e+01, -1.02813510e+02, -7.63088142e+01, -4.96375227e+01,\n",
       "       -4.58536539e+01, -8.24288235e+01, -1.84770921e+01,  1.40477893e+02,\n",
       "       -5.48175417e+01, -4.53224368e+01, -5.89806353e+01,  8.80530593e+01,\n",
       "       -1.90458992e+01, -1.32411946e+02, -1.05296446e+02, -6.82443627e+01,\n",
       "       -2.85878896e+01,  2.15019745e+01,  4.67381430e+01, -4.92576372e+01,\n",
       "        8.91436842e-01,  3.99966838e+01, -2.65801742e+01, -1.23298038e+00,\n",
       "       -1.09860555e+02,  1.02412102e+02, -6.06778497e+00, -2.69204167e+01,\n",
       "       -4.02738665e+01, -6.48855000e+01,  2.80686898e+00, -6.85078799e+00,\n",
       "       -2.30915158e+01, -1.18681501e+02, -9.12061469e+00,  9.95855229e+01,\n",
       "       -1.91517916e+00,  2.87512689e+01,  5.55112011e+01, -1.63092949e+02,\n",
       "        4.23447136e+01,  2.91609944e+01,  2.27493044e+01,  9.71245322e+00,\n",
       "        1.61972545e+02,  1.52836241e+00,  8.25630465e+01,  4.64672169e+01,\n",
       "        4.16521527e+01, -2.31917083e+01, -6.71330835e+01, -1.04022173e+02,\n",
       "        3.56184505e+01,  1.13054720e+02,  7.83825316e+01,  3.56327369e+01,\n",
       "        1.09017662e+02, -1.85866482e+02,  2.57415087e+01, -1.92316194e+01,\n",
       "        7.81907520e+01, -4.31135625e+01, -2.53988344e+01,  9.76907903e+00,\n",
       "       -3.40706744e+01,  4.60493706e+01,  3.80989283e+00,  6.53747320e+01,\n",
       "        1.30690616e+02,  8.99745496e+01,  9.48065031e+01,  1.22084011e+02,\n",
       "        7.70105030e+01, -5.96343771e+00, -2.67821506e+01, -1.13365906e+02,\n",
       "        8.19719920e+01, -2.51323591e+00,  1.46039496e+01, -1.83789133e+02,\n",
       "       -7.27587598e+00, -1.34819039e+02,  2.24356844e+01,  1.85321761e+02,\n",
       "       -1.92308995e+01, -1.50702825e+02, -1.81094398e+01,  6.89114159e+01,\n",
       "        5.28371429e+01, -1.84633713e+02, -1.80976146e+02, -2.72958441e+02,\n",
       "        9.62702660e+01, -8.61528395e+01,  7.21042455e+01,  2.14472824e+01,\n",
       "       -1.05530026e+02,  1.46996963e+02, -1.00939676e+02,  4.17269853e+01,\n",
       "        3.07478414e+01, -2.41927805e+01, -1.37861537e+02, -8.10733697e+01,\n",
       "        1.06905678e+02,  1.28308981e+02,  9.71088589e+01,  4.55386216e+01,\n",
       "       -9.75507186e+01, -6.08454431e+01, -1.01267091e+02, -1.28771111e+00,\n",
       "       -1.08417396e+02, -4.09575296e+01, -1.56523326e+01,  2.01747245e+01,\n",
       "        2.75025354e+00, -4.98558831e+01, -9.64707547e+01,  4.54118775e+01,\n",
       "       -1.80915958e+02, -2.95452341e+01, -1.17335320e+02,  8.05968121e+01,\n",
       "       -1.29305292e+02, -3.08560293e+01, -3.66369694e+00, -1.11341242e+02,\n",
       "       -1.70091373e+02,  9.63095544e+01, -1.19723753e+02,  5.84204325e+01,\n",
       "        2.06164044e+02,  6.02379688e+01,  1.13848480e+02,  2.04353725e+02,\n",
       "        1.44917062e+01, -2.09960733e+02,  1.73973099e+02, -2.76843277e+02,\n",
       "       -2.27585533e+01, -5.46402197e+01,  2.57704448e+01, -5.59080635e+01,\n",
       "       -3.22248993e+01, -5.70258222e+01,  4.10118287e+01, -8.42111657e+01,\n",
       "        2.09966041e+01,  3.45912825e+01,  1.56347054e+02,  4.89908971e+01,\n",
       "        2.37730886e+01,  1.08046973e+01, -3.05467954e+00, -9.99292395e+00,\n",
       "       -3.94930174e+01,  7.84728920e+01, -3.31914349e+01, -2.94868082e+01,\n",
       "        1.77195746e+01,  7.30332614e+01,  5.96119926e+01, -3.25941791e+01,\n",
       "       -6.28172774e+01,  4.68939774e+01,  2.82576918e+01, -8.72310353e+01,\n",
       "       -2.24536044e+01, -8.39966096e+01, -1.45305848e+02, -2.93171553e+01,\n",
       "        4.44471993e+01,  9.21433778e+01,  1.65492725e+02, -7.24197452e+00,\n",
       "        1.11662978e+02, -2.47056670e+01,  7.85140285e+01, -2.45115818e+01,\n",
       "       -3.50003769e+01, -1.67560620e+02, -6.01022968e+01, -6.89553001e+01,\n",
       "       -9.58310676e+01, -1.61452063e+02,  1.74516456e+01, -6.81417620e+01,\n",
       "       -1.59227201e+02, -1.20056233e+02,  3.48082809e+01,  7.61802721e+01,\n",
       "        1.39045433e+02,  1.39303202e+01, -1.25159768e+01, -2.64270660e+01,\n",
       "       -1.30699556e+02, -7.87190930e+01, -1.36870431e+02, -2.17472738e+02,\n",
       "        4.57024529e+01,  3.24526980e+02, -8.37659787e+01, -6.84992042e+01,\n",
       "       -1.40089478e+01, -1.39983298e+02,  2.60815924e+01,  1.24692950e+02,\n",
       "        7.82475840e-03, -4.21902475e+00,  1.54693241e+02,  8.80049325e+00,\n",
       "        6.84869726e+01, -7.59692524e+01,  7.19975868e+01,  1.21603840e+01,\n",
       "        4.71133936e+01, -9.93432937e+01, -1.50210045e+01,  3.60662742e+00,\n",
       "        7.67179236e+01, -2.34718917e+01,  6.82308573e+01,  3.90479528e+01,\n",
       "        3.26275481e+01,  7.95306332e+01, -1.88713973e+02, -1.41118225e+02,\n",
       "        7.43866902e+01,  2.47117445e+01, -7.31088627e+01,  2.51968576e+01,\n",
       "       -1.60133832e+01,  2.13168023e+01, -4.81133647e+01,  5.14572662e+01,\n",
       "        3.09521996e+01,  1.07192307e+02, -3.29771725e+01,  4.91915390e+01,\n",
       "       -5.75043725e+01,  1.20494155e+02,  2.34376369e+01, -7.73573602e+01,\n",
       "        1.53806197e+01, -4.38674422e+01,  1.76277202e+02, -1.18820944e+02,\n",
       "        9.97742392e+01, -1.42088729e+01,  5.79291316e+01, -2.19734207e+01,\n",
       "        6.10640950e+01,  4.52498780e+01, -4.93854104e+01,  2.55869401e+01,\n",
       "        5.91158176e+01,  1.06956141e+02, -1.15347764e+01, -3.32444405e+01,\n",
       "       -7.15386416e+01,  1.06008226e+02,  1.15013634e+02,  4.98591810e+01,\n",
       "        8.23456995e+01, -6.43468518e+01, -2.11996546e+01, -2.28156375e+02,\n",
       "        2.33986883e+00,  1.82211930e+02,  5.52515850e+01, -5.48297280e+01,\n",
       "        1.12261878e+02,  1.63316483e+01, -1.45361926e+01, -1.91766396e+01,\n",
       "        8.16038091e+01, -3.03565020e+01, -8.00470891e+01, -1.42628005e+01,\n",
       "        5.49137140e+01,  1.12668475e+02,  2.78637371e+01, -1.13385977e+01,\n",
       "        4.81088347e+01, -1.53474263e+02, -5.94558325e+00, -1.25315575e+02,\n",
       "        7.79037189e+01, -8.10073501e+01, -1.35761824e+02, -1.58034260e+00,\n",
       "       -8.40332429e+01, -1.05785588e+02,  4.10050710e+01, -3.17567355e+01,\n",
       "       -1.65131736e+01,  1.56151735e+01, -2.23172923e+02, -6.17383250e+01,\n",
       "       -6.95182192e+01, -2.55111977e-01, -8.82378558e+01,  3.74901698e+01,\n",
       "        6.28117323e+01,  3.47008424e+01,  4.73753129e+01,  1.82531234e+01,\n",
       "        1.71572431e+01,  3.55781369e+01,  2.84106472e+01, -1.07120358e+02,\n",
       "        6.04741330e+01, -6.86185529e+01,  6.82751195e+01, -4.80875350e+01,\n",
       "       -9.34451943e+01,  1.17154945e+02,  7.03167464e+00, -2.30785149e+01,\n",
       "        1.70806902e+02,  2.48159075e+01, -3.20748471e+00, -2.67416518e+01,\n",
       "       -2.91923613e+00,  9.40769951e+01, -4.73057721e+01,  4.07490829e+01,\n",
       "        8.88481492e+01, -2.80892126e+02, -2.86502213e+01, -1.09919859e+02,\n",
       "       -8.60462018e+00, -1.56602879e+01, -3.85155763e+01,  6.71463126e+01,\n",
       "       -1.20396366e+02,  2.32898019e+01,  1.35862207e+01,  8.60574083e+01,\n",
       "        8.94863622e+01, -1.97431038e+00, -1.42231415e+01, -4.30123801e+01,\n",
       "       -1.46185051e+02,  9.96759147e+00, -1.81599126e+02, -8.53484399e+01,\n",
       "       -8.49881136e+01,  6.40943130e+01,  1.42241510e+02, -3.54311882e+01,\n",
       "       -8.05682643e+01, -2.90908989e+01, -6.85825067e+00,  2.88212293e+01,\n",
       "        8.05242880e+01,  1.53762806e+02, -3.37428562e+01,  7.18084308e+01,\n",
       "        1.02889777e+02, -1.19661145e+02, -1.72326875e+02,  2.44089266e+02,\n",
       "       -9.07477888e+01, -2.83284648e+01, -1.18353030e+02, -4.90705931e+01,\n",
       "       -1.81161417e+02,  4.54374600e+01, -5.59787188e+01, -7.56809236e+00,\n",
       "       -7.51981237e+00,  1.83846084e+01,  2.75413743e+01, -8.85995196e+01,\n",
       "        1.06700052e+02,  1.39160244e+02, -9.95982962e+01, -1.74547253e+01,\n",
       "       -1.57375916e+02, -2.76479817e+01,  3.45898727e+01, -8.73988727e+01,\n",
       "        7.65474634e+01,  1.33104348e+02,  7.91587561e+01, -1.31761099e+02,\n",
       "       -5.76272792e+01, -2.31563755e+01, -3.88065649e+00, -3.46905532e+01,\n",
       "        1.96245506e+02,  2.69770128e+01, -3.15126904e-01, -3.87322774e+01,\n",
       "       -4.78237487e+01, -2.59544561e+01, -4.70596657e+01, -2.99216034e+01,\n",
       "       -8.54653900e+01, -8.12857148e+01,  3.23106475e+01,  2.92093436e+01,\n",
       "        5.88833981e+01,  1.43456765e+02, -1.20084236e+02, -1.72539756e+02,\n",
       "        6.46684708e+01, -5.41508890e+01, -1.12523096e+02,  2.43239161e+01,\n",
       "       -5.00189524e+01, -7.18233301e+01,  6.09457937e+01, -1.07598698e+01,\n",
       "        1.45746101e+02,  7.16834835e+01,  5.34830116e+00,  1.39162621e+01,\n",
       "        8.21005364e+00,  8.20674994e+01,  1.55659063e+02,  6.22351757e+01,\n",
       "       -8.87323502e+01, -1.33223394e+02, -6.16909779e+01,  5.18637615e+01,\n",
       "        1.14072190e+02, -5.14467175e+01,  1.02432514e+00, -1.27705485e+01,\n",
       "        2.36883907e+01, -7.03504376e+00,  5.76174429e+01, -9.75058551e+01,\n",
       "        5.70896520e+01,  6.77017990e+01, -3.40948542e+01, -3.61727004e+01,\n",
       "        3.25984330e+01, -1.70224837e+02, -1.21617912e+01,  3.06350353e+01,\n",
       "       -4.72940809e+01, -1.16038092e+01,  7.31033141e+00,  5.57897873e+01,\n",
       "       -2.03508570e+01, -5.44666083e+01,  6.80311757e+01,  1.76611354e+02,\n",
       "       -2.24277061e+01, -4.18014296e+01,  5.44341052e+01, -6.57449517e+01,\n",
       "       -1.48469466e+02,  2.05183376e+02, -1.14086796e+02,  1.54710874e+02,\n",
       "        3.52782285e+01,  4.79747856e+01, -9.59423681e+01, -1.26556594e+01,\n",
       "        5.73153341e+01,  7.95651704e+01, -6.76573246e+01,  7.15316933e+01,\n",
       "        1.24114121e+01,  1.34870713e+02,  1.43783014e+02,  1.26486405e+00,\n",
       "       -5.24625134e+01,  8.41132679e+01, -6.09924291e+01,  9.85593207e+01,\n",
       "        2.08555701e+02, -5.64521113e+01, -2.28445854e+01,  3.73556606e+01,\n",
       "       -2.23507566e+01, -9.00654471e+01,  4.39925836e+01, -4.80500357e+01,\n",
       "        5.70702300e+01, -6.93522578e+01, -1.29185817e+02,  8.92586988e+01,\n",
       "        1.61003947e+02, -3.92465028e+01, -8.48609255e+01,  4.85076172e+01,\n",
       "       -1.32999311e+01, -1.28280041e+00,  1.22702254e+02, -3.52058414e+01,\n",
       "       -1.02637612e+01,  5.87630589e+01,  9.67854977e+01, -3.27935331e+01,\n",
       "        1.26527034e+02,  1.34028441e+02,  4.41918569e+01, -5.58935989e+01,\n",
       "        6.64336802e+01, -1.47421676e+02, -3.40946427e+01, -1.07770705e+02,\n",
       "       -1.46814000e+02, -2.83718307e+01,  1.62198510e+01, -1.24220761e+01,\n",
       "        6.54239677e+01, -3.89185667e+01, -3.14512778e+00,  1.59811221e+02,\n",
       "        1.39756932e+02,  4.77209141e+00,  1.24282499e+00, -4.32423446e+01,\n",
       "       -7.31831817e+01,  2.04595100e+01,  1.02387723e+02, -1.34464225e+02,\n",
       "       -6.35179090e+01, -1.14569368e+02, -1.19314123e+02,  6.66453562e+01,\n",
       "        3.12608944e+01, -9.79765493e+01,  1.35570455e+02,  1.01344345e+02,\n",
       "       -5.20904461e+01,  7.51944198e+01,  7.34760597e+01,  1.13641748e+02,\n",
       "        2.40061269e+01,  2.34097166e+02,  8.31246936e+01, -3.43058990e+01,\n",
       "       -1.08032234e+02, -1.60324417e+02,  1.98476991e+02, -9.62030573e+01,\n",
       "       -8.68506107e+01,  6.68097718e+00, -4.49133291e+01,  1.59243134e+02,\n",
       "       -8.26818310e+01,  3.40522270e+01, -1.70317530e+02,  1.18334165e+02,\n",
       "       -5.80754300e+01,  6.35333474e+00, -1.26310577e+02,  4.14361364e+01,\n",
       "       -1.20737095e+02, -4.04273986e+01,  4.34362978e+01, -2.88889410e+01,\n",
       "       -2.17432017e+01,  1.29972271e+01,  3.21141673e+01,  1.34002288e+01,\n",
       "       -1.22308780e+02, -4.71479256e+00, -3.74985938e+01, -3.73074245e+01,\n",
       "       -7.11538167e+01,  4.07285130e+01, -2.63881146e+01,  3.61673161e+01,\n",
       "        3.52855328e+01, -2.77895009e+01, -3.23213754e+01, -6.84246892e+01,\n",
       "       -1.31111751e+01,  1.41659624e+02,  2.74930364e+01,  1.92340866e+01])"
      ]
     },
     "metadata": {},
     "output_type": "display_data"
    },
    {
     "data": {
      "text/plain": [
       "array([62.6735955, 68.0472182])"
      ]
     },
     "metadata": {},
     "output_type": "display_data"
    }
   ],
   "source": [
    "# сгенерируем набор данных\n",
    "X, Y, coef = datasets.make_regression(n_samples=1000, n_features=2, n_informative=2, n_targets=1, \n",
    "                                      noise=5, coef=True, random_state=2)\n",
    "X[:, 0] *= 10\n",
    "display(X, Y, coef)"
   ]
  },
  {
   "cell_type": "code",
   "execution_count": 3,
   "metadata": {},
   "outputs": [
    {
     "data": {
      "image/png": "[encoded data removed]",
      "text/plain": [
       "<Figure size 1080x720 with 1 Axes>"
      ]
     },
     "metadata": {
      "needs_background": "light"
     },
     "output_type": "display_data"
    }
   ],
   "source": [
    "fig = plt.figure(figsize=(15,10))\n",
    "ax = fig.add_subplot(111, projection='3d')\n",
    "\n",
    "ax.scatter(X[:, 0], X[:, 1], Y)\n",
    "\n",
    "ax.set_xlabel('X0')\n",
    "ax.set_ylabel('X1')\n",
    "ax.set_zlabel('Y')\n",
    "plt.show()"
   ]
  },
  {
   "cell_type": "markdown",
   "metadata": {
    "id": "4mq1B_FniqtF"
   },
   "source": [
    "Отмасштабируем получившиеся признаки методом стандартизации."
   ]
  },
  {
   "cell_type": "code",
   "execution_count": 4,
   "metadata": {
    "id": "rOKEKtFKiqtG"
   },
   "outputs": [
    {
     "data": {
      "text/plain": [
       "array([-0.79012702,  0.02045785])"
      ]
     },
     "metadata": {},
     "output_type": "display_data"
    },
    {
     "data": {
      "text/plain": [
       "array([9.85635367, 0.99101454])"
      ]
     },
     "metadata": {},
     "output_type": "display_data"
    }
   ],
   "source": [
    "# Получим средние значения и стандартное отклонение по столбцам\n",
    "\n",
    "means = np.mean(X, axis=0)\n",
    "stds = np.std(X, axis=0)\n",
    "# параметр axis указывается для вычисления значений по столбцам, а не по всему массиву\n",
    "display(means, stds)"
   ]
  },
  {
   "cell_type": "code",
   "execution_count": 5,
   "metadata": {},
   "outputs": [],
   "source": [
    "# вычтем каждое значение признака из среднего и поделим на стандартное отклонение\n",
    "for i in range(X.shape[0]):\n",
    "    for j in range(X.shape[1]):\n",
    "        X[i][j] = (X[i][j] - means[j]) / stds[j]"
   ]
  },
  {
   "cell_type": "code",
   "execution_count": 6,
   "metadata": {},
   "outputs": [
    {
     "data": {
      "text/plain": [
       "array([[ 0.46447924, -0.64462559],\n",
       "       [-0.58228272, -1.09738549],\n",
       "       [-1.00118525, -0.3706113 ],\n",
       "       ...,\n",
       "       [ 1.29208317,  0.98990825],\n",
       "       [ 0.20761816,  0.33516651],\n",
       "       [ 0.02259069,  0.39523966]])"
      ]
     },
     "execution_count": 6,
     "metadata": {},
     "output_type": "execute_result"
    }
   ],
   "source": [
    "X"
   ]
  },
  {
   "cell_type": "code",
   "execution_count": 7,
   "metadata": {},
   "outputs": [
    {
     "data": {
      "text/plain": [
       "array([-2.40328590e-17,  9.54791801e-18])"
      ]
     },
     "metadata": {},
     "output_type": "display_data"
    },
    {
     "data": {
      "text/plain": [
       "array([1., 1.])"
      ]
     },
     "metadata": {},
     "output_type": "display_data"
    }
   ],
   "source": [
    "means = np.mean(X, axis=0)\n",
    "stds = np.std(X, axis=0)\n",
    "\n",
    "display(means, stds)"
   ]
  },
  {
   "cell_type": "code",
   "execution_count": 8,
   "metadata": {
    "id": "8BMCZ7uNiqtJ"
   },
   "outputs": [],
   "source": [
    "# реализуем функцию, определяющую среднеквадратичную ошибку\n",
    "def mserror(X, w, y_pred):\n",
    "    y = X.dot(w)\n",
    "    return (sum((y - y_pred)**2)) / len(y)"
   ]
  },
  {
   "cell_type": "markdown",
   "metadata": {
    "id": "oFPTJccEiqtO"
   },
   "source": [
    "Подготовка данных и средств проверки закончена. Далее реализуем сам стохастический градиентный спуск."
   ]
  },
  {
   "cell_type": "code",
   "execution_count": 9,
   "metadata": {
    "id": "hwIeP5Y4iqtQ",
    "outputId": "d4ef12c1-fb3e-49c3-ebe3-31b35b53e902",
    "scrolled": true
   },
   "outputs": [
    {
     "name": "stdout",
     "output_type": "stream",
     "text": [
      "Iteration #0: W_new = [-0.8770491   1.16866253], MSE = 8143.11\n",
      "Iteration #100: W_new = [57.29306457 59.90767571], MSE = 114.36\n",
      "Iteration #200: W_new = [61.09511797 65.77858669], MSE = 42.21\n",
      "Iteration #300: W_new = [61.22020165 66.88497513], MSE = 39.22\n",
      "Iteration #400: W_new = [60.81127707 67.86690624], MSE = 39.01\n",
      "Iteration #500: W_new = [63.01727104 68.87449656], MSE = 42.44\n",
      "Iteration #600: W_new = [61.62004236 68.5922277 ], MSE = 39.45\n",
      "Iteration #700: W_new = [61.34086506 68.62524345], MSE = 39.5\n",
      "Iteration #800: W_new = [62.20610311 67.60795163], MSE = 39.17\n",
      "Iteration #900: W_new = [62.40866111 67.70560306], MSE = 39.51\n",
      "Iter 1000: error - 38.84856056035663, weights: [61.32996117 68.18159256]\n",
      "В случае использования стохастического градиентного спуска ошибка составляет 38.8486\n",
      "Wall time: 207 ms\n"
     ]
    }
   ],
   "source": [
    "%%time\n",
    "# инициализируем начальный вектор весов\n",
    "w = np.zeros(X.shape[1])\n",
    "\n",
    "# список векторов весов после каждой итерации\n",
    "w_list = [w.copy()]\n",
    "\n",
    "# список значений ошибок после каждой итерации\n",
    "errors = []\n",
    "\n",
    "# шаг градиентного спуска\n",
    "eta = 0.01\n",
    "\n",
    "# максимальное число итераций\n",
    "max_iter = 1e3\n",
    "\n",
    "# критерий сходимости (разница весов, при которой алгоритм останавливается)\n",
    "min_weight_dist = 1e-8\n",
    "\n",
    "# зададим начальную разницу весов большим числом\n",
    "weight_dist = np.inf\n",
    "\n",
    "# счетчик итераций\n",
    "iter_num = 0\n",
    "\n",
    "np.random.seed(1234)\n",
    "\n",
    "# ход градиентного спуска\n",
    "while weight_dist > min_weight_dist and iter_num < max_iter:\n",
    "    \n",
    "    # генерируем случайный индекс объекта выборки\n",
    "    train_ind = np.random.randint(X.shape[0], size=1)\n",
    "    \n",
    "    y_pred = np.dot(X[train_ind], w)\n",
    "    new_w = w - eta * 2 / Y[train_ind].shape[0] * np.dot(X[train_ind].T, y_pred - Y[train_ind])\n",
    "\n",
    "    weight_dist = np.linalg.norm(new_w - w, ord=2)\n",
    "\n",
    "    error = mserror(X, new_w, Y)\n",
    "    \n",
    "    w_list.append(new_w.copy())\n",
    "    errors.append(error)\n",
    "    \n",
    "    if iter_num % 100 == 0:\n",
    "        print(f'Iteration #{iter_num}: W_new = {new_w}, MSE = {round(error, 2)}')\n",
    "\n",
    "    iter_num += 1\n",
    "    w = new_w\n",
    "    \n",
    "w_list = np.array(w_list)\n",
    "\n",
    "print(f'Iter {iter_num}: error - {error}, weights: {new_w}')\n",
    "print(f'В случае использования стохастического градиентного спуска ошибка составляет {round(errors[-1], 4)}')"
   ]
  },
  {
   "cell_type": "markdown",
   "metadata": {
    "id": "B-cN_umsiqtU"
   },
   "source": [
    "Для стохастического градиентного спуска мы увеличили максимальное число итераций (max_iter) до 1000, что естественно, так как из-за специфики метода для достижения сходимости нужно большее количество шагов."
   ]
  },
  {
   "cell_type": "code",
   "execution_count": 10,
   "metadata": {
    "id": "Mq8gHc1iiqtU",
    "outputId": "25bd89c1-1ea5-47cd-8131-13371cad8077"
   },
   "outputs": [
    {
     "data": {
      "image/png": "[encoded data removed]",
      "text/plain": [
       "<Figure size 936x432 with 1 Axes>"
      ]
     },
     "metadata": {
      "needs_background": "light"
     },
     "output_type": "display_data"
    }
   ],
   "source": [
    "# Визуализируем изменение весов (красной точкой обозначены истинные веса, сгенерированные вначале)\n",
    "plt.figure(figsize=(13, 6))\n",
    "plt.title('Stochastic gradient descent')\n",
    "plt.xlabel(r'$w_1$')\n",
    "plt.ylabel(r'$w_2$')\n",
    "\n",
    "plt.scatter(w_list[:, 0], w_list[:, 1])\n",
    "plt.scatter(coef[0], coef[1], c='r')\n",
    "plt.plot(w_list[:, 0], w_list[:, 1])\n",
    "\n",
    "plt.show()"
   ]
  },
  {
   "cell_type": "code",
   "execution_count": 11,
   "metadata": {
    "id": "MXCKz_wliqtZ",
    "outputId": "b57d60a0-b120-45b2-a4bc-5f70fbbdfa4f"
   },
   "outputs": [
    {
     "data": {
      "text/plain": [
       "Text(0, 0.5, 'MSE')"
      ]
     },
     "execution_count": 11,
     "metadata": {},
     "output_type": "execute_result"
    },
    {
     "data": {
      "image/png": "[encoded data removed]",
      "text/plain": [
       "<Figure size 432x288 with 1 Axes>"
      ]
     },
     "metadata": {
      "needs_background": "light"
     },
     "output_type": "display_data"
    }
   ],
   "source": [
    "# Визуализируем изменение функционала ошибки\n",
    "plt.plot(range(len(errors)), errors)\n",
    "plt.title('MSE')\n",
    "plt.xlabel('Iteration number')\n",
    "plt.ylabel('MSE')"
   ]
  },
  {
   "cell_type": "markdown",
   "metadata": {
    "id": "QchXLomyiqte"
   },
   "source": [
    "Как и в случае градиентного спуска, вектор весов приближается к истинному. При этом падает и ошибка.\n",
    "\n",
    "Добиться лучшей скорости сходимости в методе стохастического градиентного спуска можно варьируя величину шага или используя методы, подбирающие ее адаптивно."
   ]
  },
  {
   "cell_type": "markdown",
   "metadata": {
    "id": "a_19JViDiqtg"
   },
   "source": [
    "Среди преимуществ SGD можно выделить гораздо более быстрое вычисление одного шага по сравнению с обычным градиентным спуском и отсутствие необходимости хранить всю выборку в памяти при работе метода, что в свою очередь позволяет работать с очень большими выборками, которые невозможно поместить в память."
   ]
  },
  {
   "cell_type": "markdown",
   "metadata": {
    "id": "pZXExx-Yiqth"
   },
   "source": [
    "## Переобучение <a class='anchor' id='overfit'>"
   ]
  },
  {
   "cell_type": "markdown",
   "metadata": {
    "id": "JB93X534iqth"
   },
   "source": [
    "Чтобы понять смысл переобучения и недообучения, начнем с примера. Допустим, у нас есть исходная известная зависимость 3-го порядка:\n",
    "\n",
    "$$f(x) = 0.6 - 13.2x - 5.3 x^{2} - 4.17x^{3}.$$\n",
    "\n",
    "Реализуем ее в виде python-функции и построим график."
   ]
  },
  {
   "cell_type": "code",
   "execution_count": 12,
   "metadata": {
    "id": "-x7O02fBiqti"
   },
   "outputs": [],
   "source": [
    "def f(x):\n",
    "    return 0.6 - 13.2 * x - 5.3 * x ** 2 - 4.17 * x ** 3"
   ]
  },
  {
   "cell_type": "code",
   "execution_count": 13,
   "metadata": {
    "id": "iZU05q4miqtk",
    "outputId": "2ff55331-ed9c-4a9c-d13e-15634e8f5643"
   },
   "outputs": [
    {
     "data": {
      "image/png": "[encoded data removed]",
      "text/plain": [
       "<Figure size 432x288 with 1 Axes>"
      ]
     },
     "metadata": {
      "needs_background": "light"
     },
     "output_type": "display_data"
    }
   ],
   "source": [
    "dots = np.linspace(-10, 10, 100)\n",
    "plt.xlabel('x')\n",
    "plt.ylabel('f(x)')\n",
    "plt.ylim(-5000, 5000)\n",
    "plt.xlim(-10,10)\n",
    "\n",
    "plt.plot(dots, f(dots), color='g');"
   ]
  },
  {
   "cell_type": "markdown",
   "metadata": {
    "id": "RY1HQExXiqtn"
   },
   "source": [
    "Теперь сгенерируем датасет из десяти случайных точек, подчиняющихся этой зависимости, с добавлением шума и нанесем на график."
   ]
  },
  {
   "cell_type": "code",
   "execution_count": 14,
   "metadata": {
    "id": "D8aLmQt2iqto"
   },
   "outputs": [],
   "source": [
    "np.random.seed(16)\n",
    "x_data = np.random.uniform(-10, 10, 10)\n",
    "f_data = [f(i) for i in x_data] + np.random.uniform(-1000, 1000, 10)"
   ]
  },
  {
   "cell_type": "code",
   "execution_count": 15,
   "metadata": {
    "id": "OtY-zFVaiqtq",
    "outputId": "b7a8cc00-baea-44a8-9242-dab8943ecc41"
   },
   "outputs": [
    {
     "data": {
      "image/png": "[encoded data removed]",
      "text/plain": [
       "<Figure size 432x288 with 1 Axes>"
      ]
     },
     "metadata": {
      "needs_background": "light"
     },
     "output_type": "display_data"
    }
   ],
   "source": [
    "plt.xlabel('x')\n",
    "plt.ylabel('f(x)')\n",
    "plt.ylim(-5000, 5000)\n",
    "plt.xlim(-10,10)\n",
    "\n",
    "plt.plot(dots, f(dots), color='g')\n",
    "plt.scatter(x_data, f_data);"
   ]
  },
  {
   "cell_type": "markdown",
   "metadata": {
    "id": "zMHWU0yAiqt0"
   },
   "source": [
    "Теперь попробуем создать модель, способную восстановить исходную зависимость. Самым примитивным так называемый __константный алгоритм__, то есть модель вида \n",
    "\n",
    "$$a(x) = w_{0}.$$\n",
    "\n",
    "Зависимость такой модели от признаков будет иметь вид горизонтальной прямой, что, очевидно, не обобщает нашу зависимость в должном виде (см. график ниже)."
   ]
  },
  {
   "cell_type": "code",
   "execution_count": 16,
   "metadata": {
    "id": "8mYrEwYtiqt0",
    "outputId": "64e1758a-e946-4cc2-d346-d10da99d55ae"
   },
   "outputs": [
    {
     "data": {
      "image/png": "[encoded data removed]",
      "text/plain": [
       "<Figure size 432x288 with 1 Axes>"
      ]
     },
     "metadata": {
      "needs_background": "light"
     },
     "output_type": "display_data"
    }
   ],
   "source": [
    "plt.xlabel('x')\n",
    "plt.ylabel('f(x)')\n",
    "plt.ylim(-5000, 5000)\n",
    "plt.xlim(-10,10)\n",
    "\n",
    "plt.plot(dots, f(dots), color='g')\n",
    "plt.scatter(x_data, f_data)\n",
    "plt.plot(dots, [dots.mean()]*len(dots), color='r');"
   ]
  },
  {
   "cell_type": "markdown",
   "metadata": {
    "id": "JGkSELuTiqt3"
   },
   "source": [
    "Далее усложним семейство алгоритмов, применив линейную регрессию, которая в случае одного признака будет иметь вид \n",
    "\n",
    "$$a(x) = w_{0} + w_{1}x.$$\n",
    "\n",
    "Обучим соответствующую модель, применив для этого методы python \"из коробки\" для работы с линейной регрессией."
   ]
  },
  {
   "cell_type": "code",
   "execution_count": 17,
   "metadata": {
    "id": "XIhKhnC0iqt4",
    "outputId": "647aa2f0-ffd2-4598-c332-ffdb1c76cb8f"
   },
   "outputs": [
    {
     "data": {
      "text/plain": [
       "LinearRegression(copy_X=True, fit_intercept=True, n_jobs=None, normalize=False)"
      ]
     },
     "execution_count": 17,
     "metadata": {},
     "output_type": "execute_result"
    }
   ],
   "source": [
    "from sklearn.linear_model import LinearRegression\n",
    "\n",
    "# создадим модель\n",
    "linear_regressor = LinearRegression()\n",
    "\n",
    "# обучим ее\n",
    "linear_regressor.fit(np.reshape(x_data, (-1, 1)), f_data)"
   ]
  },
  {
   "cell_type": "code",
   "execution_count": 18,
   "metadata": {
    "id": "zFLiACBZiqt7",
    "outputId": "03d85c51-0059-4ee3-902a-a037402d2ac5"
   },
   "outputs": [
    {
     "name": "stdout",
     "output_type": "stream",
     "text": [
      "-237.82400777158773 -411.9249993231067\n"
     ]
    }
   ],
   "source": [
    "# выведем полученный вес при признаке и свободный коэффициент\n",
    "print(linear_regressor.coef_[0], linear_regressor.intercept_)"
   ]
  },
  {
   "cell_type": "markdown",
   "metadata": {
    "id": "1TEVNRsgiquB"
   },
   "source": [
    "Нанесем полученную после обучения модель на график"
   ]
  },
  {
   "cell_type": "code",
   "execution_count": 19,
   "metadata": {
    "id": "TmbR6vRniquD",
    "outputId": "db673d33-8110-402a-e2db-ef73e092b77f"
   },
   "outputs": [
    {
     "data": {
      "image/png": "[encoded data removed]",
      "text/plain": [
       "<Figure size 432x288 with 1 Axes>"
      ]
     },
     "metadata": {
      "needs_background": "light"
     },
     "output_type": "display_data"
    }
   ],
   "source": [
    "plt.xlabel('x')\n",
    "plt.ylabel('f(x)')\n",
    "plt.ylim(-5000, 5000)\n",
    "plt.xlim(-10,10)\n",
    "\n",
    "plt.plot(dots, f(dots), color='g')\n",
    "plt.scatter(x_data, f_data)\n",
    "plt.plot(dots, linear_regressor.predict(np.reshape(dots, (-1, 1))), color='r');"
   ]
  },
  {
   "cell_type": "markdown",
   "metadata": {
    "id": "OVSKKmTmiquJ"
   },
   "source": [
    "Мы обучили линейную модель, и видимо, что она, как и константная, плохо восстанавливает исходную зависимость. В данном случае можно говорить о __недообучении__. Хороший алгоритм не был построен, поскольку с помощью выбранного семейства алгоритмов невозможно восстановить исходную закономерность."
   ]
  },
  {
   "cell_type": "markdown",
   "metadata": {
    "id": "km9OjqjGiquK"
   },
   "source": [
    "Усложним используемое семейство алгоритмов до кубической зависимости \n",
    "\n",
    "$$a(x) = w_{0} + w_{1}x + w_{2}x^{2} + w_{3}x^{3}.$$\n",
    "\n",
    "Сделаем это путем искусственной генерации новой матрицы признаков, состоящей из исходных $x$, возведенных в степени до 3, используя `sklearn.preprocessing.PolynomialFeatures`. "
   ]
  },
  {
   "cell_type": "markdown",
   "metadata": {},
   "source": [
    "Из [статьи](https://scikit-learn.org/stable/modules/generated/sklearn.preprocessing.PolynomialFeatures.html) про PolynomialFeatures:\n",
    "\n",
    "For example, if an input sample is two dimensional and of the form [a, b], the degree-2 polynomial features are [1, a, b, a^2, ab, b^2]."
   ]
  },
  {
   "cell_type": "code",
   "execution_count": 20,
   "metadata": {},
   "outputs": [],
   "source": [
    "from sklearn.preprocessing import PolynomialFeatures\n",
    "from sklearn.pipeline import make_pipeline\n",
    "import pandas as pd"
   ]
  },
  {
   "cell_type": "code",
   "execution_count": 21,
   "metadata": {},
   "outputs": [],
   "source": [
    "a = pd.DataFrame([[2, 3, 4]], columns=['a', 'b', 'c'])"
   ]
  },
  {
   "cell_type": "code",
   "execution_count": 22,
   "metadata": {},
   "outputs": [
    {
     "data": {
      "text/html": [
       "<div>\n",
       "<style scoped>\n",
       "    .dataframe tbody tr th:only-of-type {\n",
       "        vertical-align: middle;\n",
       "    }\n",
       "\n",
       "    .dataframe tbody tr th {\n",
       "        vertical-align: top;\n",
       "    }\n",
       "\n",
       "    .dataframe thead th {\n",
       "        text-align: right;\n",
       "    }\n",
       "</style>\n",
       "<table border=\"1\" class=\"dataframe\">\n",
       "  <thead>\n",
       "    <tr style=\"text-align: right;\">\n",
       "      <th></th>\n",
       "      <th>a</th>\n",
       "      <th>b</th>\n",
       "      <th>c</th>\n",
       "    </tr>\n",
       "  </thead>\n",
       "  <tbody>\n",
       "    <tr>\n",
       "      <td>0</td>\n",
       "      <td>2</td>\n",
       "      <td>3</td>\n",
       "      <td>4</td>\n",
       "    </tr>\n",
       "  </tbody>\n",
       "</table>\n",
       "</div>"
      ],
      "text/plain": [
       "   a  b  c\n",
       "0  2  3  4"
      ]
     },
     "execution_count": 22,
     "metadata": {},
     "output_type": "execute_result"
    }
   ],
   "source": [
    "a"
   ]
  },
  {
   "cell_type": "code",
   "execution_count": 23,
   "metadata": {},
   "outputs": [
    {
     "data": {
      "text/plain": [
       "array([[ 1.,  2.,  3.,  4.,  4.,  6.,  8.,  9., 12., 16.]])"
      ]
     },
     "execution_count": 23,
     "metadata": {},
     "output_type": "execute_result"
    }
   ],
   "source": [
    "PolynomialFeatures(degree=2).fit_transform(a)"
   ]
  },
  {
   "cell_type": "code",
   "execution_count": 24,
   "metadata": {},
   "outputs": [],
   "source": [
    "# x_data\n",
    "# x_data[0]**0, x_data[0]**1, x_data[0]**2, x_data[0]**3"
   ]
  },
  {
   "cell_type": "code",
   "execution_count": 25,
   "metadata": {},
   "outputs": [],
   "source": [
    "# PolynomialFeatures(degree=3).fit_transform(x_data.reshape(-1, 1))"
   ]
  },
  {
   "cell_type": "code",
   "execution_count": 26,
   "metadata": {
    "id": "iDLG2XuViquL",
    "outputId": "2bd60151-46f9-4b64-f1f4-d21da948095a"
   },
   "outputs": [
    {
     "data": {
      "text/plain": [
       "Pipeline(memory=None,\n",
       "         steps=[('polynomialfeatures',\n",
       "                 PolynomialFeatures(degree=3, include_bias=True,\n",
       "                                    interaction_only=False, order='C')),\n",
       "                ('linearregression',\n",
       "                 LinearRegression(copy_X=True, fit_intercept=True, n_jobs=None,\n",
       "                                  normalize=False))],\n",
       "         verbose=False)"
      ]
     },
     "execution_count": 26,
     "metadata": {},
     "output_type": "execute_result"
    }
   ],
   "source": [
    "# создадим новую кубическую модель\n",
    "third_degree_regressor = make_pipeline(PolynomialFeatures(degree=3), LinearRegression())\n",
    "\n",
    "# обучим ее\n",
    "third_degree_regressor.fit(np.reshape(x_data, (-1, 1)), f_data)"
   ]
  },
  {
   "cell_type": "code",
   "execution_count": 27,
   "metadata": {
    "id": "9kY0H8KPiquS",
    "outputId": "b6cdedec-6da3-4bb3-e8c8-077a3d0713ff"
   },
   "outputs": [
    {
     "name": "stdout",
     "output_type": "stream",
     "text": [
      "[ 0.         21.09882775 -7.90436131 -4.26313079]\n",
      "-55.95265093706246\n"
     ]
    }
   ],
   "source": [
    "# выведем полученные веса при признаках и свободный коэффициент\n",
    "print(third_degree_regressor.named_steps.linearregression.coef_)\n",
    "print(third_degree_regressor.named_steps.linearregression.intercept_)"
   ]
  },
  {
   "cell_type": "markdown",
   "metadata": {
    "id": "OBKM6B6wiquV"
   },
   "source": [
    "Нанесем полученную в итоге зависимость на график."
   ]
  },
  {
   "cell_type": "code",
   "execution_count": 28,
   "metadata": {
    "id": "6rKHJTjJiquW",
    "outputId": "7c012ee6-6aa2-426d-ce4d-15316b59f3c7"
   },
   "outputs": [
    {
     "data": {
      "image/png": "[encoded data removed]",
      "text/plain": [
       "<Figure size 432x288 with 1 Axes>"
      ]
     },
     "metadata": {
      "needs_background": "light"
     },
     "output_type": "display_data"
    }
   ],
   "source": [
    "plt.xlabel('x')\n",
    "plt.ylabel('f(x)')\n",
    "plt.ylim(-5000, 5000)\n",
    "plt.xlim(-10,10)\n",
    "\n",
    "plt.plot(dots, f(dots), color='g')\n",
    "plt.scatter(x_data, f_data)\n",
    "plt.plot(dots, third_degree_regressor.predict(np.reshape(dots, (-1, 1))), color='r');"
   ]
  },
  {
   "cell_type": "markdown",
   "metadata": {
    "id": "9VJdL3rhiquY"
   },
   "source": [
    "Полученный алгоритм достаточно хорошо описывает данные, но не идеально. И в реальных условиях может возникнуть вопрос, можно ли добиться лучшего совпадения увеличением сложности алгоритма.\n",
    "\n",
    "Проиллюстрируем, что происходит в случае использования многочлена 8-й степени."
   ]
  },
  {
   "cell_type": "code",
   "execution_count": 29,
   "metadata": {
    "id": "Vc8pOjbOiquZ",
    "outputId": "f456a08c-224d-4bb9-d633-bcc6e0647dfb"
   },
   "outputs": [
    {
     "data": {
      "text/plain": [
       "Pipeline(memory=None,\n",
       "         steps=[('polynomialfeatures',\n",
       "                 PolynomialFeatures(degree=8, include_bias=True,\n",
       "                                    interaction_only=False, order='C')),\n",
       "                ('linearregression',\n",
       "                 LinearRegression(copy_X=True, fit_intercept=True, n_jobs=None,\n",
       "                                  normalize=False))],\n",
       "         verbose=False)"
      ]
     },
     "execution_count": 29,
     "metadata": {},
     "output_type": "execute_result"
    }
   ],
   "source": [
    "# создадим модель 8-й степени\n",
    "eighth_degree_regressor = make_pipeline(PolynomialFeatures(degree=8), LinearRegression())\n",
    "\n",
    "# обучим ее\n",
    "eighth_degree_regressor.fit(np.reshape(x_data, (-1, 1)), f_data)"
   ]
  },
  {
   "cell_type": "markdown",
   "metadata": {
    "id": "y8dlT6n5iquc"
   },
   "source": [
    "Покажем получившийся график зависимости."
   ]
  },
  {
   "cell_type": "code",
   "execution_count": 30,
   "metadata": {},
   "outputs": [
    {
     "name": "stdout",
     "output_type": "stream",
     "text": [
      "[ 0.00000000e+00  1.07116178e+03  8.76325214e+02  4.03130193e+01\n",
      " -5.61701731e+01 -9.81320833e+00  9.56286203e-02  1.16554743e-01\n",
      "  6.21060017e-03]\n",
      "-1536.793905494531\n"
     ]
    }
   ],
   "source": [
    "# выведем полученные веса при признаках и свободный коэффициент\n",
    "print(eighth_degree_regressor.named_steps.linearregression.coef_)\n",
    "print(eighth_degree_regressor.named_steps.linearregression.intercept_)"
   ]
  },
  {
   "cell_type": "code",
   "execution_count": 31,
   "metadata": {
    "id": "VW7kvdoFiqud",
    "outputId": "96550f3e-f944-400b-fe2e-3e2890353751",
    "scrolled": true
   },
   "outputs": [
    {
     "data": {
      "image/png": "[encoded data removed]",
      "text/plain": [
       "<Figure size 432x288 with 1 Axes>"
      ]
     },
     "metadata": {
      "needs_background": "light"
     },
     "output_type": "display_data"
    }
   ],
   "source": [
    "plt.xlabel('x')\n",
    "plt.ylabel('f(x)')\n",
    "plt.ylim(-5000, 5000)\n",
    "plt.xlim(-10, 10)\n",
    "\n",
    "plt.plot(dots, f(dots), color='g')\n",
    "plt.scatter(x_data, f_data)\n",
    "plt.plot(dots, eighth_degree_regressor.predict(np.reshape(dots, (-1, 1))), color='r');"
   ]
  },
  {
   "cell_type": "markdown",
   "metadata": {},
   "source": [
    "## Методы борьбы с переобучением <a class='anchor' id='methods'>"
   ]
  },
  {
   "cell_type": "markdown",
   "metadata": {
    "id": "JkFoaeMCiquk"
   },
   "source": [
    "Видно, что новая модель лучше описывает имеющиеся в обучающей выборке данные и дает фактически идеальные ответы на них, но про этом в целом зависимость сильно отличается от истинной. Поэтому если мы попробуем применить эту модель на новых данных, ответы будут расходиться с правильными. Такое явление и называется __переобучением__. Алгоритм слишком сильно подогнан под обучающую выборку, и за счет этого будет давать неадекватные ответы на новых точках."
   ]
  },
  {
   "cell_type": "markdown",
   "metadata": {
    "id": "CErR0qKOiquk"
   },
   "source": [
    "Таким образом, недообучение несет за собой плохое качество на обучении и на новых данных, а переобучение - хорошее качество на обучении и плохое на новых данных.\n",
    "\n",
    "Понятно, как бороться с недообучением - усложнять семейство алгоритмов. Возникает вопрос, как выявить переобучение и его избежать. В случае переобучения, как было сказано ранее, данные из обучающей выборки алгоритмом будут описываться хорошо, а новые данные - плохо, поэтому используя только обучающую выборку, невозможно заключить, хорошо обучен алгоритм или переобучен, так как оба они будут хорошо описывать известные данные."
   ]
  },
  {
   "cell_type": "markdown",
   "metadata": {
    "id": "g9MMDQHDiqul"
   },
   "source": [
    "Есть несколько методов оценки качества алгоритма и выявления переобучения:\n",
    "\n",
    "1. Не использовать всю выборку для обучения, а откладывать часть данных для проверки полученного алгоритма. Это называется **отложенной выборкой**. Данные делятся на обучающую и тестовую выборку в соотношении, например, 0.7 к 0.3, и затем на первой части алгоритм обучается, а на второй проверяется. Размер отложенной выборки в данном случае нужно подбирать с осторожностью, так как слишком маленькая тестовая выборка не будет обеспечивать должной точности оценки качества обучения, а слишком маленькия обучающая выборка приведет к снижению качества обучения, так как будет малорепрезентативна. Таким образом, главный минус этого метода - сильная зависимость результата от того, как мы выбираем отложенную выборку. Например, в пространстве объектов могут быть какие-то особые, отличающиеся от остальных по какому-то свойству объекты, и может так произойти, что после разбиения они не попадут в обучающую выборку, алгоритм на них не обучится, и качество обучения после проверки на этих объектах, попавших в тестовую выборку, будет плохим. Один из путей решения этой проблемы - многократное случайное разбиение выборки на тестовую и обучающую и использование в качестве оценки качества среднего значения ошибки полученной после каждого разбиения. Но и этот метод не гарантирует, что каждый объект побывает в обучающей выборке, так как разбиения случайные.\n",
    "<img src=\"images/valid.png\" style=\"width: 500px;\">\n",
    "\n",
    "\n",
    "2. **Кросс-валидация** (усложненная версия метода отложенной выборки). Этот метод как раз вытекает из проблемы, описанной выше. Он является более системным подходом. В этом случае выборка разбивается на $k$ блоков, и затем каждый из них по очереди используется в качестве тестового, а остальная часть - в качестве обучающей выборки. После прохождения всей выборки таким образом получается $k$ показателей качества, и итоговая оценка качества обучения по кросс-валидации оценивается как средняя из этих $k$. В этом случае мы гарантируем, что все данные поучаствуют в обучении. Выбор количества блоков $k$ обычно зависит от размера выборки. Чем больше данных, тем меньше нужно блоков, так как во-первых в этом случае после разбиения даже на малое количество блоков у нас остается большой объем данных в обучающей выборке, что обеспечивает хорошее качество обучения, а во-вторых, разбиение на $k$ блоков означает обучение алгоритма $k$ раз, соответственно, чем их больше, тем больше получается вычислительная сложность процесса обучения модели. Обычно $k$ принимает значение от 3 до 10.\n",
    "<img src=\"images/kfolds.png\" style=\"width: 500px;\">\n",
    "\n",
    "\n",
    "3. Использовать **меры сложности модели**, позволяющие без дополнительной выборки выявить переобучение."
   ]
  },
  {
   "cell_type": "markdown",
   "metadata": {
    "id": "_I6dPoI0iqum"
   },
   "source": [
    "Одним из знаков, что произошло переобучение модели, или _мерой сложности_ является получение больших по модулю весов при признаках. Посмотрим, что получилось в нашей последней модели."
   ]
  },
  {
   "cell_type": "code",
   "execution_count": 32,
   "metadata": {
    "id": "H4vCY2DJiqum",
    "outputId": "24e975e6-1b94-4518-d817-569837122aa3"
   },
   "outputs": [
    {
     "name": "stdout",
     "output_type": "stream",
     "text": [
      "[ 0.00000000e+00  1.07116178e+03  8.76325214e+02  4.03130193e+01\n",
      " -5.61701731e+01 -9.81320833e+00  9.56286203e-02  1.16554743e-01\n",
      "  6.21060017e-03]\n",
      "-1536.793905494531\n"
     ]
    }
   ],
   "source": [
    "# выведем полученные веса при признаках и свободный коэффициент\n",
    "print(eighth_degree_regressor.named_steps.linearregression.coef_)\n",
    "print(eighth_degree_regressor.named_steps.linearregression.intercept_)"
   ]
  },
  {
   "cell_type": "markdown",
   "metadata": {
    "id": "3CveLhp1iqup"
   },
   "source": [
    "Видим веса 2 и 3 порядков в то время как в кубичесой модели и в исходной зависимости ничего подобного не было. Это и говорит нам о том, что в данном случае имеет место переобучение."
   ]
  },
  {
   "cell_type": "markdown",
   "metadata": {
    "id": "H_sCR6rXiqup"
   },
   "source": [
    "На этой особенности и основывается метод _регуляризации_ для борьбы с переобучением."
   ]
  },
  {
   "cell_type": "markdown",
   "metadata": {
    "id": "Ws1-N-_Qiqus"
   },
   "source": [
    "### Регуляризация <a class='anchor' id='reg'>"
   ]
  },
  {
   "cell_type": "markdown",
   "metadata": {},
   "source": [
    "#### $L_2$-регуляризация (ridge, регуляризация Тихонова)"
   ]
  },
  {
   "cell_type": "markdown",
   "metadata": {
    "id": "8Zgvr4aEiqut"
   },
   "source": [
    "Метод регуляризации заключается в \"штрафовании\" модели за слишком большие веса путем добавления нового члена к ошибке:\n",
    "\n",
    "$$Q(w, X) + \\lambda ||w||^{2} \\rightarrow \\underset{w}{\\text{min}}.$$\n",
    "\n",
    "добавленный член $\\lambda ||w||^{2}$ - **квадратичный регуляризатор**, который представляет собой $L_{2}$-норму вектора весов, то есть сумму квадратов весов $\\sum^{d}_{j=1}w_{j}^{2}$, коэффициент $\\lambda$ при нем - коэффициент регуляризации. Чем больше его значение, тем меньшая сложность модели будет получаться в процессе такого обучения. Если _увеличивать_ его, в какой-то момент оптимальным для модели окажется зануление всех весов. В то же время при слишком _низких_ его значениях появляется вероятность чрезмерного усложнения модели и переобучения. Выбор оптимального значения этого коэфициента является отдельной задачей и заключается в многократном обучении модели с разными его значениями и сравнении их качества."
   ]
  },
  {
   "cell_type": "markdown",
   "metadata": {
    "id": "yP69lwhriqut"
   },
   "source": [
    "По сути, смысл регуляризации заключается, как и в обычном обучении, в минимизации функционала ошибки, только в данном случае добавляется условие непревышения нормой вектора весов некоторого значения $||w||^{2}\\leq C$, то есть ограничение весов, что и будет залогом избежания переобучения."
   ]
  },
  {
   "cell_type": "markdown",
   "metadata": {},
   "source": [
    "$$\\begin{cases} Q(w, X) \\rightarrow min \\\\ ||w||^2 \\leq C \\end{cases}$$"
   ]
  },
  {
   "cell_type": "code",
   "execution_count": 33,
   "metadata": {},
   "outputs": [],
   "source": [
    "X = np.array([[ 1,  1],\n",
    "              [ 1,  1],\n",
    "              [ 1,  2],\n",
    "              [ 1,  5],\n",
    "              [ 1,  3],\n",
    "              [ 1,  0],\n",
    "              [ 1,  5],\n",
    "              [ 1, 10],\n",
    "              [ 1,  1],\n",
    "              [ 1,  2]])\n",
    "\n",
    "y = [45, 55, 50, 55, 60, 35, 75, 80, 50, 60]"
   ]
  },
  {
   "cell_type": "markdown",
   "metadata": {},
   "source": [
    "На графике ниже изображено изменение весов признаков при увеличении коэффициента регуляризации `alpha` от $10^{-3}$ до $100$ для модели `Ridge` (L2-регуляризация). Чем больше значение `alpha`, тем сильнее регуляризация и тем сильнее модель \"штрафует\" за большие значения весов, они убывают плавно и примерно одновременно друг с другом.\n"
   ]
  },
  {
   "cell_type": "code",
   "execution_count": 34,
   "metadata": {},
   "outputs": [
    {
     "data": {
      "image/png": "[encoded data removed]",
      "text/plain": [
       "<Figure size 432x288 with 1 Axes>"
      ]
     },
     "metadata": {
      "needs_background": "light"
     },
     "output_type": "display_data"
    }
   ],
   "source": [
    "from sklearn.linear_model import Ridge\n",
    "\n",
    "n = 50\n",
    "\n",
    "train_amount = 5\n",
    "train_X = X[:train_amount]\n",
    "train_y = y[:train_amount]\n",
    "test_X = X[train_amount:]\n",
    "test_y = y[train_amount:]\n",
    "\n",
    "\n",
    "coeffs = np.zeros((n, train_X.shape[1]))\n",
    "alpha_list = np.logspace(-3, 2, n)\n",
    "\n",
    "for i, val in enumerate(alpha_list):\n",
    "    ridge = Ridge(alpha=val, fit_intercept=False)\n",
    "    ridge.fit(train_X, train_y)\n",
    "    \n",
    "    coeffs[i, :] = ridge.coef_.flatten()\n",
    "\n",
    "for i in range(train_X.shape[1]):\n",
    "    plt.plot(alpha_list, coeffs[:, i])\n",
    "\n",
    "plt.title('Убывание абсолютных значений весов признаков\\n при увеличении коэффициента регуляризации alpha (Ridge)')\n",
    "plt.xticks(np.arange(0, 101, 10))\n",
    "plt.xlabel('alpha')\n",
    "plt.ylabel('Вес признака');"
   ]
  },
  {
   "cell_type": "code",
   "execution_count": 35,
   "metadata": {},
   "outputs": [
    {
     "name": "stdout",
     "output_type": "stream",
     "text": [
      "Коэффициент регуляризации: 0.35564803062231287\n",
      "Веса: [39.29323873  4.54660362]\n",
      "MSE на обучении: 45.561742881081415\n",
      "MSE на тесте: 76.444557691065\n"
     ]
    },
    {
     "data": {
      "image/png": "[encoded data removed]",
      "text/plain": [
       "<Figure size 1080x288 with 2 Axes>"
      ]
     },
     "metadata": {
      "needs_background": "light"
     },
     "output_type": "display_data"
    }
   ],
   "source": [
    "index = 25\n",
    "\n",
    "coef = coeffs[index]\n",
    "\n",
    "print(f'Коэффициент регуляризации: {alpha_list[index]}')\n",
    "print(f'Веса: {coef}')\n",
    "\n",
    "fig, axs = plt.subplots(1, 2, figsize=(15, 4))\n",
    "ax1, ax2 = axs\n",
    "\n",
    "ax1.scatter(train_X[:, 1], train_y)\n",
    "\n",
    "y_pred = np.dot(train_X, coef)\n",
    "ax1.plot(train_X[:, 1], y_pred, c='r')\n",
    "\n",
    "ax1.set_xlabel('X1')\n",
    "ax1.set_ylabel('Y')\n",
    "print(f'MSE на обучении: {np.mean((y_pred - train_y)**2)}')\n",
    "\n",
    "ax2.scatter(test_X[:, 1], test_y)\n",
    "\n",
    "y_pred = np.dot(test_X, coef)\n",
    "ax2.plot(test_X[:, 1], y_pred, c='r')\n",
    "\n",
    "ax2.set_xlabel('X1')\n",
    "ax2.set_ylabel('Y')\n",
    "print(f'MSE на тесте: {np.mean((y_pred - test_y)**2)}')\n",
    "plt.show()"
   ]
  },
  {
   "cell_type": "markdown",
   "metadata": {},
   "source": [
    "#### $L_1$-регуляризация (lasso, регуляризация через манхэттенское расстояние)"
   ]
  },
  {
   "cell_type": "markdown",
   "metadata": {
    "id": "-OTMLxupiquu"
   },
   "source": [
    "Описанный выше метод с использованием $L_{2}$-нормы вектора весов в качестве регуляризатора называется **$L_{2}$-регуляризацией**. По аналогии существует также **$L_{1}$-регуляризация**, использующая в качестве регуляризатора $L_{1}$-норму вектора весов, то есть сумму модулей весов.\n",
    "\n",
    "$$||w||_{1} = \\sum^{d}_{j=1}|w_{j}|.$$"
   ]
  },
  {
   "cell_type": "markdown",
   "metadata": {},
   "source": [
    "На графике ниже изображено изменение весов признаков при увеличении коэффициента регуляризации `alpha` от $10^{-3}$ до $100$ для модели `Lasso` (L1-регуляризация). Чем больше значение `alpha`, тем сильнее регуляризация и тем сильнее модель \"штрафует\" за большую абсолютную величину признаков. \n",
    "\n",
    "Такой метод часто используется для отбора признаков: у менее ценных признаков гораздо раньше обнуляются веса."
   ]
  },
  {
   "cell_type": "code",
   "execution_count": 36,
   "metadata": {},
   "outputs": [
    {
     "data": {
      "image/png": "[encoded data removed]",
      "text/plain": [
       "<Figure size 432x288 with 1 Axes>"
      ]
     },
     "metadata": {
      "needs_background": "light"
     },
     "output_type": "display_data"
    }
   ],
   "source": [
    "from sklearn.linear_model import Lasso\n",
    "\n",
    "n = 50\n",
    "\n",
    "coeffs = np.zeros((n, train_X.shape[1]))\n",
    "alpha_list = np.logspace(-3, 2, n)\n",
    "\n",
    "for i, val in enumerate(alpha_list):\n",
    "    lasso = Lasso(alpha=val, fit_intercept=False)\n",
    "    lasso.fit(train_X, train_y)\n",
    "    coeffs[i, :] = lasso.coef_.flatten()\n",
    "\n",
    "for i in range(train_X.shape[1]):\n",
    "    plt.plot(alpha_list, coeffs[:, i])\n",
    "\n",
    "    \n",
    "plt.title('Убывание абсолютных значений весов признаков\\n при увеличении коэффициента регуляризации alpha (Lasso)')\n",
    "plt.xticks(np.arange(0, 101, 10))\n",
    "plt.xlabel('alpha')\n",
    "plt.ylabel('Вес признака');"
   ]
  },
  {
   "cell_type": "code",
   "execution_count": 37,
   "metadata": {},
   "outputs": [
    {
     "name": "stdout",
     "output_type": "stream",
     "text": [
      "Коэффициент регуляризации: 3.7275937203149416\n",
      "Веса: [39.61933896  4.0232491 ]\n",
      "MSE на обучении: 45.55574735307549\n",
      "MSE на тесте: 89.38217775478317\n"
     ]
    },
    {
     "data": {
      "image/png": "[encoded data removed]",
      "text/plain": [
       "<Figure size 1080x288 with 2 Axes>"
      ]
     },
     "metadata": {
      "needs_background": "light"
     },
     "output_type": "display_data"
    }
   ],
   "source": [
    "index = 35\n",
    "\n",
    "coef = coeffs[index]\n",
    "\n",
    "print(f'Коэффициент регуляризации: {alpha_list[index]}')\n",
    "print(f'Веса: {coef}')\n",
    "\n",
    "fig, axs = plt.subplots(1, 2, figsize=(15, 4))\n",
    "ax1, ax2 = axs\n",
    "\n",
    "ax1.scatter(train_X[:, 1], train_y)\n",
    "\n",
    "y_pred = np.dot(train_X, coef)\n",
    "ax1.plot(train_X[:, 1], y_pred, c='r')\n",
    "\n",
    "ax1.set_xlabel('X1')\n",
    "ax1.set_ylabel('Y')\n",
    "print(f'MSE на обучении: {np.mean((y_pred - train_y)**2)}')\n",
    "\n",
    "ax2.scatter(test_X[:, 1], test_y)\n",
    "\n",
    "y_pred = np.dot(test_X, coef)\n",
    "ax2.plot(test_X[:, 1], y_pred, c='r')\n",
    "\n",
    "ax2.set_xlabel('X1')\n",
    "ax2.set_ylabel('Y')\n",
    "print(f'MSE на тесте: {np.mean((y_pred - test_y)**2)}')\n",
    "plt.show()"
   ]
  },
  {
   "cell_type": "markdown",
   "metadata": {},
   "source": [
    "#### Сравнение"
   ]
  },
  {
   "cell_type": "markdown",
   "metadata": {
    "id": "EJFR2HDliqu1"
   },
   "source": [
    "$L_{2}$-регуляризатор:\n",
    "* непрерывная гладкая функция\n",
    "* штрафует модель за сложность\n",
    "\n",
    "$L_{1}$-регуляризатор:\n",
    "* негладкая функция\n",
    "* занулении некоторых весов (отбор признаков)"
   ]
  },
  {
   "cell_type": "markdown",
   "metadata": {},
   "source": [
    "Регуляризация создает некое абстрактное поле (зеленое) в градиентном спуске (овалы), из которого не может выйти обучение модели. Если мы увеличиваем Лямбду, то поле сужается.\n",
    "\n",
    "<img src='images/compare_l1_l2_2.png'>"
   ]
  },
  {
   "cell_type": "markdown",
   "metadata": {},
   "source": [
    "Можно применить одновременно L1 и L2 регуляризацию - это называется Elastic Net. Про это можно посмотреть [здесь](https://youtu.be/1dKRdX9bfIo) и почитать в оригинальной [статье](https://web.stanford.edu/~hastie/Papers/B67.2%20(2005)%20301-320%20Zou%20&%20Hastie.pdf)."
   ]
  },
  {
   "cell_type": "markdown",
   "metadata": {
    "id": "Lq5zA2Itiqu3"
   },
   "source": [
    "### Коэффициент детерминации"
   ]
  },
  {
   "cell_type": "markdown",
   "metadata": {
    "id": "1e7sgEO5iqu3"
   },
   "source": [
    "_Коэффициент детерминации_ $R^{2}$ является еще одной метрикой качества в задачах регрессии. Ранее мы говорили о средней абсолютной и среднеквадратичной ошибке. Коэффициент детерминации позволяет развить тему среднеквадратичной ошибки, интерпретируя ее. \n",
    "\n",
    "MSE не позволяет сама по себе сделать вывод о том, как хорошо модель решает задачу. Например, если целевая переманная принимает значения от 0 до 1, а MSE равняется 10, это плохой показатель, а когда целевая переменная варьируется от 1000 до 10000, такое же значение уже является очень хорошим. Для избавления от такой неясности и был введен коэффициент детерминации, который по сути является нормированной среднеквадратичной ошибкой и принимает значения от 0 до 1.\n",
    "\n",
    "$$R^2 = 1 - \\frac{\\frac{1}{n}\\sum^{l}_{i=1}{(y - y_{pred})^2}}{\\frac{1}{n}\\sum^{l}_{i=1}{(y - \\bar{y})^2}}$$\n",
    "\n",
    "где $\\bar{y}=\\frac{1}{l}\\sum^{l}_{i=1}y_{i}$ - среднее значение целевой переменной.\n",
    "\n",
    "Коэффициент детерминации характеризует, какую долю дисперсии ответов объясняет модель. Если $R^{2}=1$, то модель идеально описывает данные, если же $R^{2}$ близко к нулю, то предсказания сопоставимы по качеству с константной моделью."
   ]
  },
  {
   "cell_type": "code",
   "execution_count": 38,
   "metadata": {},
   "outputs": [
    {
     "data": {
      "text/plain": [
       "0.04"
      ]
     },
     "execution_count": 38,
     "metadata": {},
     "output_type": "execute_result"
    }
   ],
   "source": [
    "true = np.array([0, 0.2, 0.1, 0.6, 0.3, 0.9, 0.7])\n",
    "pred = np.array([0.1, 0.3, 0.2, 0.7, 0.5, 0.5, 0.5])\n",
    "\n",
    "np.mean((true - pred)**2)"
   ]
  },
  {
   "cell_type": "code",
   "execution_count": 39,
   "metadata": {},
   "outputs": [
    {
     "data": {
      "text/plain": [
       "400.0"
      ]
     },
     "execution_count": 39,
     "metadata": {},
     "output_type": "execute_result"
    }
   ],
   "source": [
    "true = np.array([100, 20, 10, 60, 30, 90, 70])\n",
    "pred = np.array([110, 30, 20, 70, 50, 50, 50])\n",
    "\n",
    "np.mean((true - pred)**2)"
   ]
  },
  {
   "cell_type": "markdown",
   "metadata": {},
   "source": [
    "## <center>Практическая часть<a class=\"anchor\" id=\"practice\"></a><center>"
   ]
  },
  {
   "cell_type": "code",
   "execution_count": 40,
   "metadata": {
    "colab": {},
    "colab_type": "code",
    "id": "_u5bV-OlT34p"
   },
   "outputs": [],
   "source": [
    "import numpy as np\n",
    "import matplotlib.pyplot as plt"
   ]
  },
  {
   "cell_type": "markdown",
   "metadata": {},
   "source": [
    "__Задача:__ предсказание баллов ЕГЭ ученика"
   ]
  },
  {
   "cell_type": "code",
   "execution_count": 41,
   "metadata": {
    "colab": {},
    "colab_type": "code",
    "id": "_n6il-AZaLuA"
   },
   "outputs": [],
   "source": [
    "X = np.array([[   1,    1,  500,    1],\n",
    "              [   1,    1,  700,    1],\n",
    "              [   1,    2,  750,    2],\n",
    "              [   1,    5,  600,    1],\n",
    "              [   1,    3, 1450,    2],\n",
    "              [   1,    0,  800,    1],\n",
    "              [   1,    5, 1500,    3],\n",
    "              [   1,   10, 2000,    3],\n",
    "              [   1,    1,  450,    1],\n",
    "              [   1,    2, 1000,    2]])"
   ]
  },
  {
   "cell_type": "code",
   "execution_count": 42,
   "metadata": {
    "colab": {},
    "colab_type": "code",
    "id": "x8yoci01ni-t"
   },
   "outputs": [],
   "source": [
    "y = [45, 55, 50, 55, 60, 35, 75, 80, 50, 60]"
   ]
  },
  {
   "cell_type": "markdown",
   "metadata": {},
   "source": [
    "Нормализация [0, 1]"
   ]
  },
  {
   "cell_type": "code",
   "execution_count": 43,
   "metadata": {
    "colab": {
     "base_uri": "https://localhost:8080/",
     "height": 34
    },
    "colab_type": "code",
    "id": "Ei5qeZO_aT6m",
    "outputId": "087819d3-202a-46c9-f87d-49e17953099c"
   },
   "outputs": [
    {
     "data": {
      "text/plain": [
       "(0, 10)"
      ]
     },
     "execution_count": 43,
     "metadata": {},
     "output_type": "execute_result"
    }
   ],
   "source": [
    "X[:, 1].min(), X[:, 1].max()"
   ]
  },
  {
   "cell_type": "code",
   "execution_count": 44,
   "metadata": {
    "colab": {
     "base_uri": "https://localhost:8080/",
     "height": 34
    },
    "colab_type": "code",
    "id": "L7wsW1Q7b4Ts",
    "outputId": "911044d6-32c1-475a-80cd-cbaf26d5ba32"
   },
   "outputs": [
    {
     "data": {
      "text/plain": [
       "(450, 2000)"
      ]
     },
     "execution_count": 44,
     "metadata": {},
     "output_type": "execute_result"
    }
   ],
   "source": [
    "X[:, 2].min(), X[:, 2].max()"
   ]
  },
  {
   "cell_type": "code",
   "execution_count": 45,
   "metadata": {},
   "outputs": [],
   "source": [
    "def min_max_scale(X):\n",
    "    return (X - X.min()) / (X.max() - X.min())"
   ]
  },
  {
   "cell_type": "code",
   "execution_count": 46,
   "metadata": {
    "colab": {
     "base_uri": "https://localhost:8080/",
     "height": 121
    },
    "colab_type": "code",
    "id": "E55S9Bzob9Xa",
    "outputId": "4abf56a2-d484-4c24-8520-8ed1b58ccca8"
   },
   "outputs": [
    {
     "data": {
      "text/plain": [
       "array([[1.00e+00, 1.00e+00, 5.00e+02, 1.00e+00],\n",
       "       [1.00e+00, 1.00e+00, 7.00e+02, 1.00e+00],\n",
       "       [1.00e+00, 2.00e+00, 7.50e+02, 2.00e+00],\n",
       "       [1.00e+00, 5.00e+00, 6.00e+02, 1.00e+00],\n",
       "       [1.00e+00, 3.00e+00, 1.45e+03, 2.00e+00],\n",
       "       [1.00e+00, 0.00e+00, 8.00e+02, 1.00e+00],\n",
       "       [1.00e+00, 5.00e+00, 1.50e+03, 3.00e+00],\n",
       "       [1.00e+00, 1.00e+01, 2.00e+03, 3.00e+00],\n",
       "       [1.00e+00, 1.00e+00, 4.50e+02, 1.00e+00],\n",
       "       [1.00e+00, 2.00e+00, 1.00e+03, 2.00e+00]])"
      ]
     },
     "execution_count": 46,
     "metadata": {},
     "output_type": "execute_result"
    }
   ],
   "source": [
    "X_norm = X.copy()\n",
    "X_norm = X_norm.astype(np.float64)\n",
    "X_norm"
   ]
  },
  {
   "cell_type": "code",
   "execution_count": 47,
   "metadata": {
    "colab": {
     "base_uri": "https://localhost:8080/",
     "height": 121
    },
    "colab_type": "code",
    "id": "7x-6IuPOcIo0",
    "outputId": "1668fec7-37ae-4671-ad9f-f093c30a6c72"
   },
   "outputs": [
    {
     "data": {
      "text/plain": [
       "array([[1.        , 0.1       , 0.03225806, 1.        ],\n",
       "       [1.        , 0.1       , 0.16129032, 1.        ],\n",
       "       [1.        , 0.2       , 0.19354839, 2.        ],\n",
       "       [1.        , 0.5       , 0.09677419, 1.        ],\n",
       "       [1.        , 0.3       , 0.64516129, 2.        ],\n",
       "       [1.        , 0.        , 0.22580645, 1.        ],\n",
       "       [1.        , 0.5       , 0.67741935, 3.        ],\n",
       "       [1.        , 1.        , 1.        , 3.        ],\n",
       "       [1.        , 0.1       , 0.        , 1.        ],\n",
       "       [1.        , 0.2       , 0.35483871, 2.        ]])"
      ]
     },
     "execution_count": 47,
     "metadata": {},
     "output_type": "execute_result"
    }
   ],
   "source": [
    "X_norm[:, 1] = min_max_scale(X_norm[:, 1])\n",
    "X_norm[:, 2] = min_max_scale(X_norm[:, 2])\n",
    "X_norm"
   ]
  },
  {
   "cell_type": "markdown",
   "metadata": {
    "colab": {},
    "colab_type": "code",
    "id": "Zy63bpFfeqzu"
   },
   "source": [
    "Стандартизация"
   ]
  },
  {
   "cell_type": "code",
   "execution_count": 48,
   "metadata": {
    "colab": {
     "base_uri": "https://localhost:8080/",
     "height": 317
    },
    "colab_type": "code",
    "id": "8i9pB-3-fMD4",
    "outputId": "3cbe76f6-d000-4fcd-fe86-ffe853403356"
   },
   "outputs": [
    {
     "name": "stdout",
     "output_type": "stream",
     "text": [
      "3.0\n"
     ]
    },
    {
     "data": {
      "image/png": "[encoded data removed]",
      "text/plain": [
       "<Figure size 432x288 with 1 Axes>"
      ]
     },
     "metadata": {
      "needs_background": "light"
     },
     "output_type": "display_data"
    }
   ],
   "source": [
    "print(np.mean(X[:, 1]))\n",
    "plt.hist(X[:, 1])\n",
    "plt.show()"
   ]
  },
  {
   "cell_type": "code",
   "execution_count": 49,
   "metadata": {
    "colab": {
     "base_uri": "https://localhost:8080/",
     "height": 335
    },
    "colab_type": "code",
    "id": "-bnAYQqVfRX-",
    "outputId": "d59b0013-49bc-40fa-cb29-e71403e6e9e0"
   },
   "outputs": [
    {
     "name": "stdout",
     "output_type": "stream",
     "text": [
      "975.0\n"
     ]
    },
    {
     "data": {
      "image/png": "[encoded data removed]",
      "text/plain": [
       "<Figure size 432x288 with 1 Axes>"
      ]
     },
     "metadata": {
      "needs_background": "light"
     },
     "output_type": "display_data"
    }
   ],
   "source": [
    "print(np.mean(X[:, 2]))\n",
    "plt.hist(X[:, 2])\n",
    "plt.show()"
   ]
  },
  {
   "cell_type": "code",
   "execution_count": 50,
   "metadata": {},
   "outputs": [],
   "source": [
    "def standart_scale(X):\n",
    "    mean = X.mean()\n",
    "    std = X.std()\n",
    "    return (X - mean) / std"
   ]
  },
  {
   "cell_type": "code",
   "execution_count": 51,
   "metadata": {
    "colab": {},
    "colab_type": "code",
    "id": "M57-Pzl_f_rF"
   },
   "outputs": [
    {
     "data": {
      "text/plain": [
       "array([[ 1.        , -0.70710678, -0.97958969,  1.        ],\n",
       "       [ 1.        , -0.70710678, -0.56713087,  1.        ],\n",
       "       [ 1.        , -0.35355339, -0.46401617,  2.        ],\n",
       "       [ 1.        ,  0.70710678, -0.77336028,  1.        ],\n",
       "       [ 1.        ,  0.        ,  0.97958969,  2.        ],\n",
       "       [ 1.        , -1.06066017, -0.36090146,  1.        ],\n",
       "       [ 1.        ,  0.70710678,  1.08270439,  3.        ],\n",
       "       [ 1.        ,  2.47487373,  2.11385144,  3.        ],\n",
       "       [ 1.        , -0.70710678, -1.08270439,  1.        ],\n",
       "       [ 1.        , -0.35355339,  0.05155735,  2.        ]])"
      ]
     },
     "execution_count": 51,
     "metadata": {},
     "output_type": "execute_result"
    }
   ],
   "source": [
    "X_st = X.copy().astype(np.float64)\n",
    "X_st[:, 1] = standart_scale(X_st[:, 1])\n",
    "X_st[:, 2] = standart_scale(X_st[:, 2])\n",
    "X_st"
   ]
  },
  {
   "cell_type": "code",
   "execution_count": 52,
   "metadata": {
    "colab": {
     "base_uri": "https://localhost:8080/",
     "height": 352
    },
    "colab_type": "code",
    "id": "-Y1tzWGCgYjA",
    "outputId": "89dc21fe-180f-4e68-f30f-1cf276c4f154"
   },
   "outputs": [
    {
     "name": "stdout",
     "output_type": "stream",
     "text": [
      "4.4408920985006264e-17\n"
     ]
    },
    {
     "data": {
      "image/png": "[encoded data removed]",
      "text/plain": [
       "<Figure size 432x288 with 1 Axes>"
      ]
     },
     "metadata": {
      "needs_background": "light"
     },
     "output_type": "display_data"
    }
   ],
   "source": [
    "print(np.mean(X_st[:, 1]))\n",
    "plt.hist(X_st[:, 1])\n",
    "plt.show()"
   ]
  },
  {
   "cell_type": "code",
   "execution_count": 53,
   "metadata": {},
   "outputs": [
    {
     "name": "stdout",
     "output_type": "stream",
     "text": [
      "-4.163336342344337e-17\n"
     ]
    },
    {
     "data": {
      "image/png": "[encoded data removed]",
      "text/plain": [
       "<Figure size 432x288 with 1 Axes>"
      ]
     },
     "metadata": {
      "needs_background": "light"
     },
     "output_type": "display_data"
    }
   ],
   "source": [
    "print(np.mean(X_st[:, 2]))\n",
    "plt.hist(X_st[:, 2])\n",
    "plt.show()"
   ]
  },
  {
   "cell_type": "markdown",
   "metadata": {
    "colab": {},
    "colab_type": "code",
    "id": "UdGy9tjVhZol"
   },
   "source": [
    "SGD (Stochastic gradient descent)"
   ]
  },
  {
   "cell_type": "code",
   "execution_count": 54,
   "metadata": {
    "colab": {},
    "colab_type": "code",
    "id": "VDpN7UxYnrcS"
   },
   "outputs": [],
   "source": [
    "def calc_mse(y, y_pred):\n",
    "    err = np.mean((y - y_pred)**2)\n",
    "    return err"
   ]
  },
  {
   "cell_type": "code",
   "execution_count": 55,
   "metadata": {},
   "outputs": [
    {
     "data": {
      "text/plain": [
       "array([-0.69373026, -0.61644722, -0.60453905, -1.19807229])"
      ]
     },
     "execution_count": 55,
     "metadata": {},
     "output_type": "execute_result"
    }
   ],
   "source": [
    "W = np.random.randn(X.shape[1])\n",
    "W"
   ]
  },
  {
   "cell_type": "code",
   "execution_count": 56,
   "metadata": {
    "colab": {},
    "colab_type": "code",
    "id": "SgEyis2zlJeb"
   },
   "outputs": [],
   "source": [
    "# классический  GD\n",
    "def gradient_descent(X, y, iterations, eta=1e-4):\n",
    "    W = np.random.randn(X.shape[1])\n",
    "    n = X.shape[0]\n",
    "    \n",
    "    for i in range(0, iterations):\n",
    "        y_pred = np.dot(X, W)\n",
    "        err = calc_mse(y, y_pred)\n",
    "        dQ = 2/n * X.T @ (y_pred - y) # градиент функции ошибки\n",
    "        W -= (eta * dQ)\n",
    "        if i % (iterations / 10) == 0:\n",
    "            print(f'Iter: {i}, weights: {W}, error {err}')\n",
    "    print(f'Final MSE: {calc_mse(y, np.dot(X, W))}')\n",
    "    return W"
   ]
  },
  {
   "cell_type": "code",
   "execution_count": 57,
   "metadata": {
    "colab": {
     "base_uri": "https://localhost:8080/",
     "height": 207
    },
    "colab_type": "code",
    "id": "4nsYMAGjmFlB",
    "outputId": "8959a8af-3d27-42a6-afae-5db46c794fe1"
   },
   "outputs": [
    {
     "name": "stdout",
     "output_type": "stream",
     "text": [
      "Iter: 0, weights: [1.20230734 0.03340482 0.96644792 1.29563439], error 3513.909875881241\n",
      "Iter: 500, weights: [23.44355128  5.16926958 -6.91544872 19.10292562], error 39.61522581115183\n",
      "Iter: 1000, weights: [28.21567498  6.09568037 -5.89173009 16.40364483], error 33.05551365565056\n",
      "Iter: 1500, weights: [31.656581    6.21449956 -4.59794842 14.43943267], error 29.551259988040535\n",
      "Iter: 2000, weights: [34.23820297  6.24332029 -3.56622051 12.96376761], error 27.555040245595997\n",
      "Iter: 2500, weights: [36.18617548  6.25869836 -2.78128256 11.85009127], error 26.416422511108358\n",
      "Iter: 3000, weights: [37.65719186  6.2696426  -2.18785826 11.00907394], error 25.766953722595055\n",
      "Iter: 3500, weights: [38.76815607  6.27783797 -1.73961204 10.37390527], error 25.396495845738535\n",
      "Iter: 4000, weights: [39.60720884  6.28402014 -1.40106784  9.89419558], error 25.185186168946238\n",
      "Iter: 4500, weights: [40.24090255  6.28868845 -1.14538191  9.53189533], error 25.064654841895273\n",
      "Final MSE: 24.995903609006927\n"
     ]
    },
    {
     "data": {
      "text/plain": [
       "array([40.71866984,  6.29220799, -0.95260987,  9.25874252])"
      ]
     },
     "execution_count": 57,
     "metadata": {},
     "output_type": "execute_result"
    }
   ],
   "source": [
    "gradient_descent(X_st, y, iterations=5000, eta=1e-2)"
   ]
  },
  {
   "cell_type": "code",
   "execution_count": 58,
   "metadata": {},
   "outputs": [],
   "source": [
    "# стохастический градиентный спуск\n",
    "def stohastic_gradient_descent(X, y, iterations, batch_size, eta=1e-4):\n",
    "    W = np.random.randn(X.shape[1])\n",
    "    n = X.shape[0]\n",
    "    \n",
    "    n_batch = n // batch_size    \n",
    "    if n % batch_size != 0:\n",
    "        n_batch += 1\n",
    "    print(f'amount of batches is {n_batch}')\n",
    "        \n",
    "    for i in range(0, iterations):\n",
    "        \n",
    "        for b in range(n_batch):\n",
    "            start = batch_size * b\n",
    "            end = batch_size * (b + 1)\n",
    "            \n",
    "#             print(b, start, end)\n",
    "            \n",
    "            X_tmp = X[start : end, ]\n",
    "            y_tmp = y[start : end]\n",
    "\n",
    "            y_pred_tmp = np.dot(X_tmp, W)\n",
    "            err = calc_mse(y_tmp, y_pred_tmp)\n",
    "\n",
    "            dQ = 2/len(y_tmp) * X_tmp.T @ (y_pred_tmp - y_tmp) # градиент функции ошибки\n",
    "            W -= (eta * dQ)\n",
    "        \n",
    "        if i % (iterations / 10) == 0:\n",
    "            print(f'Iter: {i}, weights: {W}, error {err}')\n",
    "    \n",
    "    print(f'Final MSE: {calc_mse(y, np.dot(X, W))}')\n",
    "    return W"
   ]
  },
  {
   "cell_type": "code",
   "execution_count": 59,
   "metadata": {
    "colab": {
     "base_uri": "https://localhost:8080/",
     "height": 207
    },
    "colab_type": "code",
    "id": "2aXap4Vsm3GV",
    "outputId": "8b666b76-9d01-4b6d-813c-f1d3f5901f5f"
   },
   "outputs": [
    {
     "name": "stdout",
     "output_type": "stream",
     "text": [
      "amount of batches is 3\n",
      "Iter: 0, weights: [ 1.4733896   1.93240597 -0.14264351  6.86705762], error 2289.6568651779153\n",
      "Iter: 5000, weights: [41.55380202  6.08527163 -0.9405306   9.15937805], error 7.032789757766681\n",
      "Iter: 10000, weights: [41.57165865  6.08514951 -0.93324391  9.1492985 ], error 7.038110011451075\n",
      "Iter: 15000, weights: [41.57167097  6.08514943 -0.93323888  9.14929155], error 7.038113683816617\n",
      "Iter: 20000, weights: [41.57167098  6.08514943 -0.93323888  9.14929155], error 7.038113686350593\n",
      "Iter: 25000, weights: [41.57167098  6.08514943 -0.93323888  9.14929155], error 7.038113686351991\n",
      "Iter: 30000, weights: [41.57167098  6.08514943 -0.93323888  9.14929155], error 7.038113686351991\n",
      "Iter: 35000, weights: [41.57167098  6.08514943 -0.93323888  9.14929155], error 7.038113686351991\n",
      "Iter: 40000, weights: [41.57167098  6.08514943 -0.93323888  9.14929155], error 7.038113686351991\n",
      "Iter: 45000, weights: [41.57167098  6.08514943 -0.93323888  9.14929155], error 7.038113686351991\n",
      "Final MSE: 25.431206338482536\n"
     ]
    },
    {
     "data": {
      "text/plain": [
       "array([41.57167098,  6.08514943, -0.93323888,  9.14929155])"
      ]
     },
     "execution_count": 59,
     "metadata": {},
     "output_type": "execute_result"
    }
   ],
   "source": [
    "stohastic_gradient_descent(X_st, y, iterations=50000, batch_size=4, eta=1e-2)"
   ]
  },
  {
   "cell_type": "markdown",
   "metadata": {
    "colab": {},
    "colab_type": "code",
    "id": "DYTxT_6OrZpe"
   },
   "source": [
    "##### L1 регуляризация"
   ]
  },
  {
   "cell_type": "markdown",
   "metadata": {
    "colab": {},
    "colab_type": "code",
    "id": "Ojkn7xKrsyiw"
   },
   "source": [
    "$$Q(w, X) + \\lambda |w| \\rightarrow \\underset{w}{\\text{min}}.$$\n",
    "Про производную можно посмотреть [здесь](https://youtu.be/dHhYHGI9E6I)."
   ]
  },
  {
   "cell_type": "markdown",
   "metadata": {
    "colab": {},
    "colab_type": "code",
    "id": "j38vId7Hvtg0"
   },
   "source": [
    "##### L2 регуляризация"
   ]
  },
  {
   "cell_type": "markdown",
   "metadata": {},
   "source": [
    "$$Q(w, X) + \\lambda ||w||^{2} \\rightarrow \\underset{w}{\\text{min}}.$$\n",
    "\n",
    "<center>Производная</center>\n",
    "\n",
    "$$d\\lambda ||w||^{2} = 2\\lambda w $$"
   ]
  },
  {
   "cell_type": "code",
   "execution_count": 60,
   "metadata": {
    "colab": {},
    "colab_type": "code",
    "id": "7AVoe1Mswjni"
   },
   "outputs": [],
   "source": [
    "def gradient_descent_reg_l2(X, y, iterations, eta=1e-4, reg=1e-8):\n",
    "    W = np.random.randn(X.shape[1])\n",
    "    n = X.shape[0]\n",
    "    \n",
    "    for i in range(0, iterations):\n",
    "        y_pred = np.dot(X, W)\n",
    "        err = calc_mse(y, y_pred)\n",
    "        \n",
    "        dQ = 2/n * X.T @ (y_pred - y) # градиент функции ошибки\n",
    "        dReg = reg * W # градиент регуляризации\n",
    "        \n",
    "        W -= eta * dQ + dReg\n",
    "        \n",
    "        if i % (iterations / 10) == 0:\n",
    "            print(f'Iter: {i}, weights: {W}, error {err}')\n",
    "    \n",
    "    print(f'Final MSE: {calc_mse(y, np.dot(X, W))}')\n",
    "    return W"
   ]
  },
  {
   "cell_type": "code",
   "execution_count": 61,
   "metadata": {
    "colab": {
     "base_uri": "https://localhost:8080/",
     "height": 207
    },
    "colab_type": "code",
    "id": "vLJL6j8Lw6OA",
    "outputId": "dac9ef42-5966-4404-9346-aeb18cca83c6"
   },
   "outputs": [
    {
     "name": "stdout",
     "output_type": "stream",
     "text": [
      "Iter: 0, weights: [1.96144015 1.31208668 2.70426267 2.97799409], error 2981.5767375051814\n",
      "Iter: 500, weights: [23.45955572  5.04276908 -6.73576141 19.04659242], error 39.62906240484479\n",
      "Iter: 1000, weights: [27.81167705  5.92270216 -5.83761249 16.58602337], error 33.47883220366231\n",
      "Iter: 1500, weights: [30.79049451  6.02921133 -4.72126578 14.88570953], error 30.294160816022163\n",
      "Iter: 2000, weights: [32.91572395  6.0533015  -3.87230089 13.67093209], error 28.469206884213015\n",
      "Iter: 2500, weights: [34.44100509  6.0653789  -3.25772361 12.79891402], error 27.391976607505853\n",
      "Iter: 3000, weights: [35.53661027  6.07353372 -2.81574799 12.17252891], error 26.73837962452336\n",
      "Iter: 3500, weights: [36.32367107  6.07934007 -2.49818904 11.7225447 ], error 26.330876820241542\n",
      "Iter: 4000, weights: [36.88908881  6.08350613 -2.27005217 11.39927973], error 26.07014238253101\n",
      "Iter: 4500, weights: [37.29528098  6.08649847 -2.10615971 11.16704841], error 25.899353615849435\n",
      "Final MSE: 25.78518643356501\n"
     ]
    }
   ],
   "source": [
    "W = gradient_descent_reg_l2(X_st, y, iterations=5000, eta=1e-2, reg=1e-4)"
   ]
  },
  {
   "cell_type": "code",
   "execution_count": 62,
   "metadata": {
    "colab": {
     "base_uri": "https://localhost:8080/",
     "height": 207
    },
    "colab_type": "code",
    "id": "4nsYMAGjmFlB",
    "outputId": "8959a8af-3d27-42a6-afae-5db46c794fe1"
   },
   "outputs": [
    {
     "name": "stdout",
     "output_type": "stream",
     "text": [
      "Iter: 0, weights: [ 2.04518242  1.34305746 -0.06560151  2.23223594], error 3188.329429269731\n",
      "Iter: 500, weights: [23.42967289  5.29878485 -7.05219383 19.11508865], error 39.58877711474717\n",
      "Iter: 1000, weights: [28.18145348  6.10902203 -5.91929195 16.42365366], error 33.098859920573304\n",
      "Iter: 1500, weights: [31.6282455   6.21571648 -4.61082384 14.45567937], error 29.57662745400438\n",
      "Iter: 2000, weights: [34.21654149  6.24331023 -3.57511187 12.97615696], error 27.56951695168072\n",
      "Iter: 2500, weights: [36.16978828  6.25859332 -2.78791042 11.8594608 ], error 26.42468012170081\n",
      "Iter: 3000, weights: [37.64481257  6.26955305 -2.19285478 11.01615157], error 25.771663875763586\n",
      "Iter: 3500, weights: [38.75880632  6.27776926 -1.7433847  10.37925079], error 25.39918252352171\n",
      "Iter: 4000, weights: [39.60014741  6.28396814 -1.40391704  9.8982328 ], error 25.186718653608064\n",
      "Iter: 4500, weights: [40.23556941  6.28864916 -1.14753375  9.53494443], error 25.065528973230794\n",
      "Final MSE: 24.996402214709654\n"
     ]
    },
    {
     "data": {
      "text/plain": [
       "array([40.71463973,  6.29217831, -0.95423596,  9.26104665])"
      ]
     },
     "execution_count": 62,
     "metadata": {},
     "output_type": "execute_result"
    }
   ],
   "source": [
    "gradient_descent(X_st, y, iterations=5000, eta=1e-2)"
   ]
  },
  {
   "cell_type": "markdown",
   "metadata": {},
   "source": [
    "## Домашнее задание <a class='anchor' id='hw'>"
   ]
  },
  {
   "cell_type": "markdown",
   "metadata": {},
   "source": [
    "1. Постройте график зависимости весов всех признаков от lambda в самописной L2-регуляризации (на данных про ЕГЭ). Сделайте вывод"
   ]
  },
  {
   "cell_type": "code",
   "execution_count": 74,
   "metadata": {},
   "outputs": [],
   "source": [
    "def eval_model_reg2(X, y, iterations, alpha=1e-4, lambda_=1e-8, verbose=False):\n",
    "    np.random.seed(42)\n",
    "    W = np.random.randn(X.shape[1])\n",
    "    n = X.shape[0]\n",
    "    for i in range(1, iterations+1):\n",
    "        y_pred = np.dot(X, W)\n",
    "        err = calc_mse(y, y_pred)\n",
    "        W -= alpha * (2/n * np.dot(X.T, (y_pred - y))) + lambda_ * W\n",
    "        if verbose:\n",
    "            if i % (iterations / 10) == 0:\n",
    "                print(f'# итерация: {i}, MSE: {err}, веса: {W}')\n",
    "    return W"
   ]
  },
  {
   "cell_type": "code",
   "execution_count": 75,
   "metadata": {},
   "outputs": [],
   "source": [
    "lambdas = list(np.linspace(0.001, 1, 1000))\n",
    "weights = {i: [] for i in range(X_st.shape[0])}\n",
    "\n",
    "for l in lambdas:\n",
    "    result = eval_model_reg2(X_st, y, iterations=5000, alpha=1e-2, lambda_=l)\n",
    "    for key, value in enumerate(result):\n",
    "        weights[key].append(value)"
   ]
  },
  {
   "cell_type": "code",
   "execution_count": 76,
   "metadata": {},
   "outputs": [
    {
     "data": {
      "image/png": "[encoded data removed]",
      "text/plain": [
       "<Figure size 576x576 with 4 Axes>"
      ]
     },
     "metadata": {
      "needs_background": "light"
     },
     "output_type": "display_data"
    }
   ],
   "source": [
    "fig, axs = plt.subplots(2, 2, figsize=(8, 8))\n",
    "\n",
    "axs[0][0].plot(lambdas, weights[0], c='red');\n",
    "axs[0][0].set_title('feature #1')\n",
    "\n",
    "axs[0][1].plot(lambdas, weights[1], c='blue');\n",
    "axs[0][1].set_title('feature #2')\n",
    "\n",
    "axs[1][0].plot(lambdas, weights[2], c='green');\n",
    "axs[1][0].set_title('feature #3')\n",
    "\n",
    "axs[1][1].plot(lambdas, weights[3], c='orange');\n",
    "axs[1][1].set_title('feature #4')\n",
    "\n",
    "for ax in axs.flat:\n",
    "    ax.set(xlabel='lambda', ylabel='weight');\n",
    "    ax.label_outer();"
   ]
  },
  {
   "cell_type": "markdown",
   "metadata": {},
   "source": [
    "2. Напишите функцию наподобие gradient_descent_reg_l2, но для применения L1-регуляризации."
   ]
  },
  {
   "cell_type": "code",
   "execution_count": 80,
   "metadata": {},
   "outputs": [],
   "source": [
    "def eval_model_reg1(X, y, iterations, alpha=1e-4, lambda_=1e-8):\n",
    "    np.random.seed(42)\n",
    "    W = np.random.randn(X.shape[1])\n",
    "    n = X.shape[0]\n",
    "    for i in range(1, iterations+1):\n",
    "        y_pred = np.dot(X, W)\n",
    "        err = calc_mse(y, y_pred)\n",
    "        W -= alpha * (2/n * np.dot(X.T, (y_pred - y))) + lambda_ * W / np.abs(W)\n",
    "        if i % (iterations / 10) == 0:\n",
    "            print(f'# итерация: {i}, MSE: {err}, веса: {W}')\n",
    "    return W"
   ]
  },
  {
   "cell_type": "code",
   "execution_count": 81,
   "metadata": {},
   "outputs": [
    {
     "name": "stdout",
     "output_type": "stream",
     "text": [
      "# итерация: 500, MSE: 40.40861312334651, веса: [22.94347401  5.13949625 -7.08907986 19.3859917 ]\n",
      "# итерация: 1000, MSE: 33.49833998429343, веса: [27.83566656  6.0693365  -6.01949017 16.61814723]\n",
      "# итерация: 1500, MSE: 29.803790512587813, веса: [31.36678837  6.18908717 -4.6895778  14.60236492]\n",
      "# итерация: 2000, MSE: 27.69973242896328, веса: [34.01649686  6.21843746 -3.6304063  13.08777382]\n",
      "# итерация: 2500, MSE: 26.499540714152403, веса: [36.01588654  6.23419724 -2.82472526 11.94470095]\n",
      "# итерация: 3000, MSE: 25.814841061911114, веса: [37.52573516  6.24542785 -2.21563303 11.08148217]\n",
      "# итерация: 3500, MSE: 25.424198703831337, веса: [38.66602732  6.2538393  -1.75555345 10.4295459 ]\n",
      "# итерация: 4000, MSE: 25.201308068847826, веса: [39.52723     6.26018465 -1.40807209  9.93717249]\n",
      "# итерация: 4500, MSE: 25.074119744299384, веса: [40.17765242  6.26497619 -1.14563637  9.56530797]\n",
      "# итерация: 5000, MSE: 25.001532672385302, веса: [40.6688834   6.26859492 -0.94743193  9.2844576 ]\n"
     ]
    },
    {
     "data": {
      "text/plain": [
       "array([40.6688834 ,  6.26859492, -0.94743193,  9.2844576 ])"
      ]
     },
     "execution_count": 81,
     "metadata": {},
     "output_type": "execute_result"
    }
   ],
   "source": [
    "eval_model_reg1(X_st, y, iterations=5000, alpha=1e-2, lambda_=1e-4)"
   ]
  },
  {
   "cell_type": "markdown",
   "metadata": {},
   "source": [
    "3. *Можно ли к одному и тому же признаку применить сразу и нормализацию, и стандартизацию?"
   ]
  },
  {
   "cell_type": "markdown",
   "metadata": {
    "id": "osNM_LLkiqu6"
   },
   "source": [
    "4. *Сгенерируйте датасет при помощи <code>sklearn.datasets.make_regression</code> и обучите линейную модель при помощи градиентного и стохастического градиентного спуска. Нанесите среднеквадратичную ошибку для обоих методов на один график, сделайте выводы о разнице скорости сходимости каждого из методов."
   ]
  },
  {
   "cell_type": "markdown",
   "metadata": {},
   "source": [
    "Проект: \n",
    "1. https://www.kaggle.com/c/regression-tutors-expected-math-exam-results регрессия\n",
    "1. https://www.kaggle.com/c/classification-choose-tutors классификация"
   ]
  },
  {
   "cell_type": "markdown",
   "metadata": {
    "id": "esNMM7hXiqu4"
   },
   "source": [
    "## Литература"
   ]
  },
  {
   "cell_type": "markdown",
   "metadata": {
    "id": "vPQPnl--iqu4"
   },
   "source": [
    "1. [Стохастический градиентный спуск](http://www.machinelearning.ru/wiki/index.php?title=%D0%A1%D1%82%D0%BE%D1%85%D0%B0%D1%81%D1%82%D0%B8%D1%87%D0%B5%D1%81%D0%BA%D0%B8%D0%B9_%D0%B3%D1%80%D0%B0%D0%B4%D0%B8%D0%B5%D0%BD%D1%82%D0%BD%D1%8B%D0%B9_%D1%81%D0%BF%D1%83%D1%81%D0%BA)\n",
    "2. [sklearn.datasets.make_regression](https://scikit-learn.org/stable/modules/generated/sklearn.datasets.make_regression.html)\n",
    "3. [numpy.mean](https://docs.scipy.org/doc/numpy-1.14.0/reference/generated/numpy.mean.html)\n",
    "4. [sklearn.linear_model.LinearRegression](https://scikit-learn.org/stable/modules/generated/sklearn.linear_model.LinearRegression.html)\n",
    "5. [sklearn.preprocessing.PolynomialFeatures](https://scikit-learn.org/stable/modules/generated/sklearn.preprocessing.PolynomialFeatures.html)\n",
    "6. [sklearn.pipeline.make_pipeline](https://scikit-learn.org/stable/modules/generated/sklearn.pipeline.make_pipeline.html)"
   ]
  },
  {
   "cell_type": "markdown",
   "metadata": {},
   "source": [
    "## Summary"
   ]
  },
  {
   "cell_type": "markdown",
   "metadata": {},
   "source": [
    "_Масштабирование_\n",
    "* Масштабирование признаков - хорошая практика, позволяющая обучать модели быстрее и делающая их более точными\n",
    "* При использовании метрических алгоритмов масштабирование обязательно (!)\n",
    "\n",
    "_Стохастический градиентный спуск_\n",
    "* Стохастический градиентный спуск (SGD) - на каждом шаге уменьшаем ошибку только на одном объекте (или нескольких), а не на всей выборке, работает быстрее обычного GD, т.к. меньше вычислений\n",
    "* SGD из-за стохастичности может \"перепрыгнуть\" локальный минимум и попасть в глобальный\n",
    "\n",
    "_Регуляризация_\n",
    "* Переобучение - модель \"выучила\" выборку, но обобщающая способность слабая\n",
    "* Признаки переобучения: качество на трейне высокое, а на тесте низкое, большие веса модели\n",
    "* Один из способов борьбы с переобучением - регуляризация - штраф за большие веса"
   ]
  },
  {
   "cell_type": "markdown",
   "metadata": {},
   "source": [
    "### Опеределения\n",
    "*Масштабирование данных*\n",
    "\n",
    "**Нормализация данных** — метод предобработки числовых признаков в обучающих наборах данных с целью приведения их к некоторой общей шкале без потери информации о различии диапазонов. (шкала от 0 до 1)\n",
    "\n",
    "**Стандартизация** — метод предобработки с целью приведения данных к единому формату и представлению. (М=0, std=1)\n",
    "___________\n",
    "_Стохастический градиентный спуск_\n",
    "\n",
    "**Стохастический градиентный спуск** — метод нахождения локального экстремума функции (минимума или максимума) с помощью движения вдоль градиента, который считается на каждом шаге не как сумма градиентов от каждого элемента выборки, а как градиент от одного, случайно выбранного элемента.\n",
    "\n",
    "___________\n",
    "_Переобучение_\n",
    "\n",
    "**Переобучение** (overfitting) — явление, когда алгоритм хорошо объясняет примеры из обучающей выборки (обеспечивает малую величину ошибки), но плохо работает на примерах, не участвовавших в обучении (не обеспечивает малую величину ошибки).\n",
    "\n",
    "**Недообучение** (underfitting) — явление, при котором алгоритм обучения не обеспечивает достаточно малой величины средней ошибки на обучающей выборке.\n",
    "\n",
    "**Кросс-валидация** — процедура оценивания обобщающей способности алгоритмов. С её помощью эмулируется наличие тестовой выборки, которая не участвует в обучении, но для которой известны правильные ответы.\n",
    "\n",
    "________\n",
    "_Регуляризация_\n",
    "\n",
    "**Регуляризация** — метод добавления некоторых дополнительных ограничений к условию с целью решить некорректно поставленную задачу или предотвратить переобучение. Эта информация часто имеет вид штрафа за сложность модели.\n",
    "$$Q(w, X) + \\lambda ||w||^{2} \\rightarrow \\underset{w}{\\text{min}}.$$\n",
    "\n",
    "**L1-регуляризация** (lasso, регуляризация через манхэттенское расстояние) — метод добавления дополнительных ограничений в виде $L_{1}$-норму вектора весов, то есть сумму модулей весов. \n",
    "$$||w||_{1} = \\sum^{d}_{j=1}|w_{j}|.$$\n",
    "\n",
    "**L2-регуляризация** (ridge, регуляризация Тихонова) — метод добавления дополнительных ограничений в виде $L_{2}$-норму вектора весов, то есть сумму квадратов весов. \n",
    "$$||w||_{2} = \\sum^{d}_{j=1}w^{2}.$$\n",
    "\n"
   ]
  }
 ],
 "metadata": {
  "colab": {
   "collapsed_sections": [
    "Ws1-N-_Qiqus",
    "Lq5zA2Itiqu3"
   ],
   "name": "Lesson_2.ipynb",
   "provenance": []
  },
  "kernelspec": {
   "display_name": "Python 3",
   "language": "python",
   "name": "python3"
  },
  "language_info": {
   "codemirror_mode": {
    "name": "ipython",
    "version": 3
   },
   "file_extension": ".py",
   "mimetype": "text/x-python",
   "name": "python",
   "nbconvert_exporter": "python",
   "pygments_lexer": "ipython3",
   "version": "3.7.4"
  }
 },
 "nbformat": 4,
 "nbformat_minor": 1
}
